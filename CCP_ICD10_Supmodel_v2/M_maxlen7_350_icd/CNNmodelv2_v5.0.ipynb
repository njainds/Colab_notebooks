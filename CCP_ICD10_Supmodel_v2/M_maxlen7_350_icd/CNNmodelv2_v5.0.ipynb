{
  "nbformat": 4,
  "nbformat_minor": 0,
  "metadata": {
    "colab": {
      "name": "Untitled0.ipynb",
      "version": "0.3.2",
      "provenance": [],
      "include_colab_link": true
    },
    "kernelspec": {
      "name": "python3",
      "display_name": "Python 3"
    },
    "accelerator": "GPU"
  },
  "cells": [
    {
      "cell_type": "markdown",
      "metadata": {
        "id": "view-in-github",
        "colab_type": "text"
      },
      "source": [
        "<a href=\"https://colab.research.google.com/github/njainds/Colab_notebooks/blob/master/CCP_ICD10_Supmodel_v2/M_maxlen7_350_icd/CNNmodelv2_v5.0.ipynb\" target=\"_parent\"><img src=\"https://colab.research.google.com/assets/colab-badge.svg\" alt=\"Open In Colab\"/></a>"
      ]
    },
    {
      "metadata": {
        "id": "QYpecTXf_H6o",
        "colab_type": "code",
        "colab": {}
      },
      "cell_type": "code",
      "source": [
        "# Builf train and evaluate\n",
        "# Save model for offline scoring on test\n",
        "# Model name: CCP_ICD10_Searchengine/CNNmodel_v1.0.ipynb\n",
        "# References\n",
        "#https://github.com/njainds/Colab_notebooks/blob/master/Kaggle_Toxic_Comments/Model-2-keras_lstmConv.ipynb\n",
        "#https://github.com/njainds/NLP/blob/master/kaggle/QIQC/22nd%20Place%20Solution%20-%206%20models%20%2B%20POS%20tagging.ipynb\n",
        "#https://github.com/Cheneng/DPCNN/blob/master/model/DPCNN.py\n"
      ],
      "execution_count": 0,
      "outputs": []
    },
    {
      "metadata": {
        "id": "5AL5rrZqLghp",
        "colab_type": "code",
        "outputId": "5ed317f3-e300-4df5-d210-cad44822c678",
        "colab": {
          "base_uri": "https://localhost:8080/",
          "height": 51
        }
      },
      "cell_type": "code",
      "source": [
        "import torch\n",
        "print(\"Name of GPU : {}\".format(torch.cuda.get_device_name(0)))\n",
        "print(\"# of GPU : {}\".format(torch.cuda.device_count()))\n"
      ],
      "execution_count": 0,
      "outputs": [
        {
          "output_type": "stream",
          "text": [
            "Name of GPU : Tesla K80\n",
            "# of GPU : 1\n"
          ],
          "name": "stdout"
        }
      ]
    },
    {
      "metadata": {
        "id": "0zRdXN9yo6k3",
        "colab_type": "code",
        "colab": {
          "base_uri": "https://localhost:8080/",
          "height": 34
        },
        "outputId": "bd227c5d-19dd-4928-eacb-5dabdca1cb9b"
      },
      "cell_type": "code",
      "source": [
        "\n",
        "import pandas as pd\n",
        "import string\n",
        "import time\n",
        "import random\n",
        "import pandas as pd\n",
        "import numpy as np\n",
        "import gc\n",
        "import re\n",
        "from tqdm import tqdm_notebook, tnrange\n",
        "from tqdm.auto import tqdm\n",
        "\n",
        "tqdm.pandas(desc='Progress')\n",
        "\n",
        "import os\n",
        "import keras\n",
        "from keras.preprocessing.text import Tokenizer\n",
        "from keras.utils import to_categorical\n",
        "from keras.preprocessing.sequence import pad_sequences\n",
        "from keras.layers import Dense, Input, LSTM, Embedding, Dropout, Activation, Conv1D, GRU, CuDNNGRU, CuDNNLSTM\n",
        "from keras.layers import Bidirectional, GlobalMaxPool1D, MaxPooling1D, Add, Flatten\n",
        "from keras.layers import Input, Dense, Embedding, concatenate, CuDNNGRU, CuDNNLSTM, Bidirectional, GlobalAveragePooling1D, GlobalMaxPooling1D, SpatialDropout1D, Flatten, Lambda, Permute, Reshape, merge, Dropout, Conv2D, MaxPool2D, Concatenate, Conv1D, MaxPool1D, add, MaxPooling1D\n",
        "from keras.layers import GlobalAveragePooling1D, GlobalMaxPooling1D, concatenate, SpatialDropout1D\n",
        "from keras.layers import GRU, BatchNormalization, Conv1D, MaxPooling1D, Add\n",
        "from keras.models import Model, load_model\n",
        "from keras import initializers, regularizers, constraints, optimizers, layers, callbacks\n",
        "from keras import backend as K\n",
        "from keras.engine import InputSpec, Layer\n",
        "from keras.optimizers import Adam, RMSprop\n",
        "from keras.callbacks import Callback, EarlyStopping, ModelCheckpoint, LearningRateScheduler\n",
        "from keras import callbacks\n",
        "\n",
        "# cross validation and metrics\n",
        "from  sklearn.feature_extraction.text import TfidfVectorizer\n",
        "from sklearn import model_selection,linear_model,metrics\n",
        "from sklearn.metrics import roc_auc_score,accuracy_score\n",
        "from sklearn.model_selection import StratifiedKFold\n",
        "from sklearn.model_selection import train_test_split\n",
        "from sklearn.metrics import f1_score\n",
        "from torch.optim.optimizer import Optimizer\n",
        "from gensim.models.keyedvectors import KeyedVectors"
      ],
      "execution_count": 1,
      "outputs": [
        {
          "output_type": "stream",
          "text": [
            "Using TensorFlow backend.\n"
          ],
          "name": "stderr"
        }
      ]
    },
    {
      "metadata": {
        "id": "NhSwmpxVpCSx",
        "colab_type": "code",
        "outputId": "f7db3c34-04a4-428d-f1af-b5df61ef6e50",
        "colab": {
          "base_uri": "https://localhost:8080/",
          "height": 34
        }
      },
      "cell_type": "code",
      "source": [
        "from google.colab import drive\n",
        "drive.mount('/content/drive')\n",
        "#!ls \"/content/drive/My Drive/CCP-ICDsearch/desc-icd9-modeldata_v2\"\n",
        "os.chdir(\"/content/drive/My Drive/CCP-ICDsearch/desc-icd9-modeldata_v2/d_maxlen7_350_icd\")"
      ],
      "execution_count": 31,
      "outputs": [
        {
          "output_type": "stream",
          "text": [
            "Drive already mounted at /content/drive; to attempt to forcibly remount, call drive.mount(\"/content/drive\", force_remount=True).\n"
          ],
          "name": "stdout"
        }
      ]
    },
    {
      "metadata": {
        "id": "OiHWhcY9SszU",
        "colab_type": "code",
        "colab": {}
      },
      "cell_type": "code",
      "source": [
        "x_train = np.load(\"train_X.npy\")\n",
        "x_test = np.load(\"test_X.npy\")\n",
        "y_train = np.load(\"train_y.npy\")\n",
        "y_test = np.load(\"test_y.npy\")\n",
        "features = np.load(\"test_y.npy\")\n",
        "icd_dict = np.load(\"icd_dict.npy\").item()\n",
        "word_index = np.load(\"word_index.npy\").item()\n",
        "embeddings = np.load(\"embedding_matrix.npy\")"
      ],
      "execution_count": 0,
      "outputs": []
    },
    {
      "metadata": {
        "id": "9nTOOQtvDHeZ",
        "colab_type": "code",
        "colab": {}
      },
      "cell_type": "code",
      "source": [
        "class CyclicLR(Callback):\n",
        "    def __init__(self, base_lr=0.001, max_lr=0.006, step_size=4590., mode='triangular',gamma=1., scale_fn=None, scale_mode='cycle'):\n",
        "        super(CyclicLR, self).__init__()\n",
        "        self.base_lr = base_lr\n",
        "        self.max_lr = max_lr\n",
        "        self.step_size = step_size\n",
        "        self.mode = mode\n",
        "        self.gamma = gamma\n",
        "        if scale_fn == None:\n",
        "            if self.mode == 'triangular':\n",
        "                self.scale_fn = lambda x: 1.\n",
        "                self.scale_mode = 'cycle'\n",
        "            elif self.mode == 'triangular2':\n",
        "                self.scale_fn = lambda x: 1/(2.**(x-1))\n",
        "                self.scale_mode = 'cycle'\n",
        "            elif self.mode == 'exp_range':\n",
        "                self.scale_fn = lambda x: gamma**(x)\n",
        "                self.scale_mode = 'iterations'\n",
        "        else:\n",
        "            self.scale_fn = scale_fn\n",
        "            self.scale_mode = scale_mode\n",
        "        self.clr_iterations = 0.\n",
        "        self.trn_iterations = 0.\n",
        "        self.history = {}\n",
        "    \n",
        "        self._reset()\n",
        "\n",
        "    def _reset(self, new_base_lr=None, new_max_lr=None,\n",
        "               new_step_size=None):\n",
        "        if new_base_lr != None:\n",
        "            self.base_lr = new_base_lr\n",
        "        if new_max_lr != None:\n",
        "            self.max_lr = new_max_lr\n",
        "        if new_step_size != None:\n",
        "            self.step_size = new_step_size,\n",
        "        self.clr_iterations = 0.\n",
        "        \n",
        "    def clr(self):\n",
        "        cycle = np.floor(1+self.clr_iterations/(2*self.step_size))\n",
        "        x = np.abs(self.clr_iterations/self.step_size - 2*cycle + 1)\n",
        "        if self.scale_mode == 'cycle':\n",
        "            return self.base_lr + (self.max_lr-self.base_lr)*np.maximum(0, (1-x))*self.scale_fn(cycle)\n",
        "        else:\n",
        "            return self.base_lr + (self.max_lr-self.base_lr)*np.maximum(0, (1-x))*self.scale_fn(self.clr_iterations)\n",
        "        \n",
        "    def on_train_begin(self, logs={}):\n",
        "        logs = logs or {}\n",
        "        if self.clr_iterations == 0:\n",
        "            K.set_value(self.model.optimizer.lr, self.base_lr)\n",
        "        else:\n",
        "            K.set_value(self.model.optimizer.lr, self.clr())\n",
        "            \n",
        "    def on_batch_end(self, epoch, logs=None):\n",
        "        logs = logs or {}\n",
        "        self.trn_iterations += 1\n",
        "        self.clr_iterations += 1\n",
        "        self.history.setdefault('lr', []).append(K.get_value(self.model.optimizer.lr))\n",
        "        self.history.setdefault('iterations', []).append(self.trn_iterations)\n",
        "        for k, v in logs.items():\n",
        "            self.history.setdefault(k, []).append(v)\n",
        "        K.set_value(self.model.optimizer.lr, self.clr())"
      ],
      "execution_count": 0,
      "outputs": []
    },
    {
      "metadata": {
        "id": "QwjoGzOR3m9H",
        "colab_type": "code",
        "outputId": "bb0c2e7e-2724-4da5-d1f0-03ccaaf5e320",
        "colab": {
          "base_uri": "https://localhost:8080/",
          "height": 34
        }
      },
      "cell_type": "code",
      "source": [
        "class RocAucEvaluation(keras.callbacks.Callback):\n",
        "    def __init__(self, validation_data=(), interval=1):\n",
        "        super(Callback, self).__init__()\n",
        "        self.interval = interval\n",
        "        self.X_val, self.y_val = validation_data\n",
        "\n",
        "    def on_epoch_end(self, epoch, logs={}):\n",
        "        if epoch % self.interval == 0:\n",
        "            y_pred = self.model.predict(self.X_val, verbose=0)\n",
        "            score = roc_auc_score(self.y_val, y_pred)\n",
        "            print(\"\\n ROC-AUC - epoch: {:d} - score: {:.6f}\".format(epoch+1, score))\n",
        "\n",
        "#del check_point, ra_val, early_stop\n",
        "!rm ./best_model.hdf5\n",
        "file_path = \"best_model.hdf5\"\n",
        "check_point = ModelCheckpoint(file_path, monitor = \"val_loss\", verbose = 1,save_best_only = True, mode = \"min\")\n",
        "ra_val = RocAucEvaluation(validation_data=(x_test, y_test), interval = 1)\n",
        "early_stop = EarlyStopping(monitor = \"val_loss\", mode = \"min\", patience = 5)"
      ],
      "execution_count": 5,
      "outputs": [
        {
          "output_type": "stream",
          "text": [
            "rm: cannot remove './best_model.hdf5': No such file or directory\n"
          ],
          "name": "stdout"
        }
      ]
    },
    {
      "metadata": {
        "id": "D5xLwVe9Bw91",
        "colab_type": "code",
        "outputId": "02151b1f-fab3-4c91-df7a-62f6bfbb7297",
        "colab": {
          "base_uri": "https://localhost:8080/",
          "height": 34
        }
      },
      "cell_type": "code",
      "source": [
        "#configs\n",
        "os.chdir(\"/content/drive/My Drive/CCP-ICDsearch/desc-icd9-modeldata_v2/M_maxlen7_350_icd\")\n",
        "max_features = embeddings.shape[0]\n",
        "maxlen = x_train.shape[1]\n",
        "embed_size = embeddings.shape[1]\n",
        "n_class = y_train.shape[1]\n",
        "print(max_features,maxlen, embed_size, n_class)"
      ],
      "execution_count": 6,
      "outputs": [
        {
          "output_type": "stream",
          "text": [
            "13735 7 200 350\n"
          ],
          "name": "stdout"
        }
      ]
    },
    {
      "metadata": {
        "id": "i-tXdS0MM5aN",
        "colab_type": "code",
        "colab": {}
      },
      "cell_type": "code",
      "source": [
        "def build_dpcnn_model(num_block = 5, k = 3, units = 128):\n",
        "    pad = 'same'\n",
        "    keras.backend.clear_session()\n",
        "    inp = Input(shape=(maxlen,))\n",
        "    embedding_layer1   = Embedding(max_features, embed_size, weights=[embeddings], trainable=True)(inp)\n",
        "    embedding_layer1 = SpatialDropout1D(0.2)(embedding_layer1)\n",
        "    emb_short_cut = Conv1D(units, kernel_size = 1, padding = pad, activation = 'relu')(embedding_layer1)\n",
        "    emb_short_cut = Conv1D(units, kernel_size = 1, padding = pad, activation = 'relu')(emb_short_cut)\n",
        "    # Main block\n",
        "    for b in range(1, num_block + 1):\n",
        "        if b == 1:\n",
        "            block = embedding_layer1\n",
        "            short_cut = emb_short_cut\n",
        "        else:\n",
        "            block = block\n",
        "            short_cut = block\n",
        "        block = Conv1D(units, kernel_size = k, padding = pad, activation = 'relu')(block)\n",
        "        block = Conv1D(units, kernel_size = k, padding = pad, activation = 'relu')(block)\n",
        "        block = add([short_cut, block])\n",
        "        block = MaxPooling1D(pool_size = 3, strides = 2, padding = pad)(block)\n",
        "    # Final block\n",
        "    short_cut = block\n",
        "    block = Conv1D(units, kernel_size = k, padding = pad, activation = 'relu')(block)\n",
        "    block = Conv1D(units, kernel_size = k, padding = pad, activation = 'relu')(block)\n",
        "    block = add([short_cut, block])\n",
        "    max_pool = GlobalMaxPooling1D()(block)\n",
        "    avg_pool = GlobalAveragePooling1D()(block)\n",
        "    last = (Lambda(lambda x: x[:,-1,:]) (block))\n",
        "    block = concatenate([max_pool, avg_pool, last])\n",
        "    #reverse\n",
        "    rev_embedding_layer = Lambda(lambda x: K.reverse(x,axes=-1))(embedding_layer1)\n",
        "    rev_emb_short_cut = Conv1D(units, kernel_size = 1, padding = pad, activation = 'relu')(rev_embedding_layer)\n",
        "    rev_emb_short_cut = Conv1D(units, kernel_size = 1, padding = pad, activation = 'relu')(rev_emb_short_cut)\n",
        "    # Main block\n",
        "    for b in range(1, num_block + 1):\n",
        "        if b == 1:\n",
        "            rev_block = rev_embedding_layer\n",
        "            rev_short_cut = rev_emb_short_cut\n",
        "        else:\n",
        "            rev_block = rev_block\n",
        "            rev_short_cut = rev_block\n",
        "        rev_block = Conv1D(units, kernel_size = k, padding = pad, activation = 'relu')(rev_block)\n",
        "        rev_block = Conv1D(units, kernel_size = k, padding = pad, activation = 'relu')(rev_block)\n",
        "        rev_block = add([rev_short_cut, rev_block])\n",
        "        rev_block = MaxPooling1D(pool_size = 3, strides = 2, padding = pad)(rev_block)\n",
        "    # Final block\n",
        "    rev_short_cut = rev_block\n",
        "    rev_block = Conv1D(units, kernel_size = k, padding = pad, activation = 'relu')(rev_block)\n",
        "    rev_block = Conv1D(units, kernel_size = k, padding = pad, activation = 'relu')(rev_block)\n",
        "    rev_block = add([rev_short_cut, rev_block])\n",
        "    rev_max_pool = GlobalMaxPooling1D()(rev_block)\n",
        "    rev_avg_pool = GlobalAveragePooling1D()(rev_block)\n",
        "    rev_last = (Lambda(lambda x: x[:,-1,:]) (rev_block))\n",
        "    rev_block = concatenate([rev_max_pool, rev_avg_pool, rev_last])\n",
        "    block = concatenate([rev_block, block])\n",
        "    # output block\n",
        "    out_put = Dense(128, activation = 'relu')(block)\n",
        "    outp = Dense(n_class, activation='softmax')(out_put)\n",
        "    model=Model(inputs=inp,outputs=outp)\n",
        "    model.compile(loss='categorical_crossentropy', optimizer=Adam(lr=1e-3), metrics=[\"accuracy\"])\n",
        "    return model"
      ],
      "execution_count": 0,
      "outputs": []
    },
    {
      "metadata": {
        "id": "8Rej4RS8O1JF",
        "colab_type": "code",
        "outputId": "b431d09a-ca5a-4115-a6cd-8711fb4e3344",
        "colab": {
          "base_uri": "https://localhost:8080/",
          "height": 5530
        }
      },
      "cell_type": "code",
      "source": [
        "# Kfold training of model\n",
        "\n",
        "kfold = StratifiedKFold(n_splits=5, random_state=2019, shuffle=True)\n",
        "pred_test = np.zeros((x_test.shape[0], n_class))\n",
        "\n",
        "for i, (train_index, valid_index) in enumerate(kfold.split(x_train, np.argmax(y_train, axis=1))):\n",
        "    X_train, X_val, Y_train, Y_val = x_train[train_index], x_train[valid_index], y_train[train_index], y_train[valid_index]\n",
        "    \n",
        "    file_path = \"best_model.hdf5\"\n",
        "    check_point = ModelCheckpoint(file_path, monitor = \"val_loss\", verbose = 1,save_best_only = True, mode = \"min\")\n",
        "    ra_val = RocAucEvaluation(validation_data=(X_val, Y_val), interval = 1)\n",
        "    early_stop = EarlyStopping(monitor = \"val_loss\", mode = \"min\", patience = 5)\n",
        "    \n",
        "    model = build_dpcnn_model(num_block = 5, k = 3, units = 128)\n",
        "    \n",
        "    print(\"### Model with seed: {}  for fold no. {} ####\".format( 2019, i))\n",
        "    \n",
        "    clr = CyclicLR(base_lr=1e-6, max_lr=1e-3,step_size=5420., mode='exp_range',gamma=0.99994)\n",
        "    model.fit(X_train, Y_train, batch_size = 48, epochs = 10, validation_data = (X_val, Y_val), verbose = 1, callbacks = [clr, ra_val, check_point, early_stop])\n",
        "    \n",
        "    pred_train = model.predict([X_val], batch_size=48, verbose=2)\n",
        "    pred_test += model.predict([x_test], batch_size=48, verbose=1)/5\n",
        "    os.remove(file_path)\n",
        "\n"
      ],
      "execution_count": 8,
      "outputs": [
        {
          "output_type": "stream",
          "text": [
            "WARNING:tensorflow:From /usr/local/lib/python3.6/dist-packages/tensorflow/python/framework/op_def_library.py:263: colocate_with (from tensorflow.python.framework.ops) is deprecated and will be removed in a future version.\n",
            "Instructions for updating:\n",
            "Colocations handled automatically by placer.\n",
            "WARNING:tensorflow:From /usr/local/lib/python3.6/dist-packages/keras/backend/tensorflow_backend.py:3445: calling dropout (from tensorflow.python.ops.nn_ops) with keep_prob is deprecated and will be removed in a future version.\n",
            "Instructions for updating:\n",
            "Please use `rate` instead of `keep_prob`. Rate should be set to `rate = 1 - keep_prob`.\n",
            "### Model with seed: 2019  for fold no. 0 ####\n",
            "WARNING:tensorflow:From /usr/local/lib/python3.6/dist-packages/tensorflow/python/ops/math_ops.py:3066: to_int32 (from tensorflow.python.ops.math_ops) is deprecated and will be removed in a future version.\n",
            "Instructions for updating:\n",
            "Use tf.cast instead.\n",
            "WARNING:tensorflow:From /usr/local/lib/python3.6/dist-packages/tensorflow/python/ops/math_grad.py:102: div (from tensorflow.python.ops.math_ops) is deprecated and will be removed in a future version.\n",
            "Instructions for updating:\n",
            "Deprecated in favor of operator or tf.math.divide.\n",
            "Train on 41496 samples, validate on 10537 samples\n",
            "Epoch 1/10\n",
            "41496/41496 [==============================] - 35s 836us/step - loss: 4.9727 - acc: 0.1348 - val_loss: 3.5994 - val_acc: 0.3252\n",
            "\n",
            " ROC-AUC - epoch: 1 - score: 0.861671\n",
            "\n",
            "Epoch 00001: val_loss improved from inf to 3.59941, saving model to best_model.hdf5\n",
            "Epoch 2/10\n",
            "41496/41496 [==============================] - 30s 730us/step - loss: 2.7949 - acc: 0.4236 - val_loss: 2.1571 - val_acc: 0.5281\n",
            "\n",
            " ROC-AUC - epoch: 2 - score: 0.966922\n",
            "\n",
            "Epoch 00002: val_loss improved from 3.59941 to 2.15705, saving model to best_model.hdf5\n",
            "Epoch 3/10\n",
            "41496/41496 [==============================] - 30s 727us/step - loss: 1.9570 - acc: 0.5642 - val_loss: 1.7383 - val_acc: 0.6187\n",
            "\n",
            " ROC-AUC - epoch: 3 - score: 0.978176\n",
            "\n",
            "Epoch 00003: val_loss improved from 2.15705 to 1.73826, saving model to best_model.hdf5\n",
            "Epoch 4/10\n",
            "41496/41496 [==============================] - 30s 725us/step - loss: 1.5939 - acc: 0.6363 - val_loss: 1.5573 - val_acc: 0.6614\n",
            "\n",
            " ROC-AUC - epoch: 4 - score: 0.981705\n",
            "\n",
            "Epoch 00004: val_loss improved from 1.73826 to 1.55726, saving model to best_model.hdf5\n",
            "Epoch 5/10\n",
            "41496/41496 [==============================] - 30s 723us/step - loss: 1.3855 - acc: 0.6784 - val_loss: 1.4486 - val_acc: 0.6886\n",
            "\n",
            " ROC-AUC - epoch: 5 - score: 0.984210\n",
            "\n",
            "Epoch 00005: val_loss improved from 1.55726 to 1.44858, saving model to best_model.hdf5\n",
            "Epoch 6/10\n",
            "41496/41496 [==============================] - 30s 727us/step - loss: 1.2354 - acc: 0.7082 - val_loss: 1.4267 - val_acc: 0.6882\n",
            "\n",
            " ROC-AUC - epoch: 6 - score: 0.984350\n",
            "\n",
            "Epoch 00006: val_loss improved from 1.44858 to 1.42673, saving model to best_model.hdf5\n",
            "Epoch 7/10\n",
            "41496/41496 [==============================] - 30s 729us/step - loss: 1.1099 - acc: 0.7328 - val_loss: 1.3989 - val_acc: 0.7019\n",
            "\n",
            " ROC-AUC - epoch: 7 - score: 0.984181\n",
            "\n",
            "Epoch 00007: val_loss improved from 1.42673 to 1.39891, saving model to best_model.hdf5\n",
            "Epoch 8/10\n",
            "41496/41496 [==============================] - 30s 726us/step - loss: 0.9619 - acc: 0.7647 - val_loss: 1.3716 - val_acc: 0.7104\n",
            "\n",
            " ROC-AUC - epoch: 8 - score: 0.984955\n",
            "\n",
            "Epoch 00008: val_loss improved from 1.39891 to 1.37156, saving model to best_model.hdf5\n",
            "Epoch 9/10\n",
            "41496/41496 [==============================] - 30s 728us/step - loss: 0.8333 - acc: 0.7891 - val_loss: 1.3614 - val_acc: 0.7160\n",
            "\n",
            " ROC-AUC - epoch: 9 - score: 0.984753\n",
            "\n",
            "Epoch 00009: val_loss improved from 1.37156 to 1.36136, saving model to best_model.hdf5\n",
            "Epoch 10/10\n",
            "41496/41496 [==============================] - 30s 727us/step - loss: 0.7194 - acc: 0.8138 - val_loss: 1.3871 - val_acc: 0.7226\n",
            "\n",
            " ROC-AUC - epoch: 10 - score: 0.984306\n",
            "\n",
            "Epoch 00010: val_loss did not improve from 1.36136\n",
            "5782/5782 [==============================] - 1s 118us/step\n",
            "### Model with seed: 2019  for fold no. 1 ####\n",
            "Train on 41567 samples, validate on 10466 samples\n",
            "Epoch 1/10\n",
            "41567/41567 [==============================] - 31s 758us/step - loss: 4.9404 - acc: 0.1329 - val_loss: 3.6064 - val_acc: 0.3094\n",
            "\n",
            " ROC-AUC - epoch: 1 - score: 0.857181\n",
            "\n",
            "Epoch 00001: val_loss improved from inf to 3.60643, saving model to best_model.hdf5\n",
            "Epoch 2/10\n",
            "41567/41567 [==============================] - 30s 720us/step - loss: 2.8042 - acc: 0.4220 - val_loss: 2.1877 - val_acc: 0.5245\n",
            "\n",
            " ROC-AUC - epoch: 2 - score: 0.965498\n",
            "\n",
            "Epoch 00002: val_loss improved from 3.60643 to 2.18773, saving model to best_model.hdf5\n",
            "Epoch 3/10\n",
            "41567/41567 [==============================] - 30s 721us/step - loss: 1.9649 - acc: 0.5611 - val_loss: 1.7330 - val_acc: 0.6240\n",
            "\n",
            " ROC-AUC - epoch: 3 - score: 0.978152\n",
            "\n",
            "Epoch 00003: val_loss improved from 2.18773 to 1.73301, saving model to best_model.hdf5\n",
            "Epoch 4/10\n",
            "41567/41567 [==============================] - 30s 720us/step - loss: 1.6006 - acc: 0.6328 - val_loss: 1.5404 - val_acc: 0.6616\n",
            "\n",
            " ROC-AUC - epoch: 4 - score: 0.981337\n",
            "\n",
            "Epoch 00004: val_loss improved from 1.73301 to 1.54035, saving model to best_model.hdf5\n",
            "Epoch 5/10\n",
            "41567/41567 [==============================] - 30s 721us/step - loss: 1.3936 - acc: 0.6756 - val_loss: 1.4457 - val_acc: 0.6849\n",
            "\n",
            " ROC-AUC - epoch: 5 - score: 0.983457\n",
            "\n",
            "Epoch 00005: val_loss improved from 1.54035 to 1.44571, saving model to best_model.hdf5\n",
            "Epoch 6/10\n",
            "41567/41567 [==============================] - 30s 723us/step - loss: 1.2486 - acc: 0.7071 - val_loss: 1.4394 - val_acc: 0.6855\n",
            "\n",
            " ROC-AUC - epoch: 6 - score: 0.983608\n",
            "\n",
            "Epoch 00006: val_loss improved from 1.44571 to 1.43939, saving model to best_model.hdf5\n",
            "Epoch 7/10\n",
            "41567/41567 [==============================] - 30s 717us/step - loss: 1.1187 - acc: 0.7311 - val_loss: 1.3666 - val_acc: 0.7054\n",
            "\n",
            " ROC-AUC - epoch: 7 - score: 0.985141\n",
            "\n",
            "Epoch 00007: val_loss improved from 1.43939 to 1.36655, saving model to best_model.hdf5\n",
            "Epoch 8/10\n",
            "41567/41567 [==============================] - 30s 720us/step - loss: 0.9718 - acc: 0.7621 - val_loss: 1.3506 - val_acc: 0.7159\n",
            "\n",
            " ROC-AUC - epoch: 8 - score: 0.985002\n",
            "\n",
            "Epoch 00008: val_loss improved from 1.36655 to 1.35063, saving model to best_model.hdf5\n",
            "Epoch 9/10\n",
            "41567/41567 [==============================] - 30s 720us/step - loss: 0.8394 - acc: 0.7892 - val_loss: 1.3751 - val_acc: 0.7163\n",
            "\n",
            " ROC-AUC - epoch: 9 - score: 0.984703\n",
            "\n",
            "Epoch 00009: val_loss did not improve from 1.35063\n",
            "Epoch 10/10\n",
            "41567/41567 [==============================] - 30s 715us/step - loss: 0.7269 - acc: 0.8126 - val_loss: 1.3979 - val_acc: 0.7210\n",
            "\n",
            " ROC-AUC - epoch: 10 - score: 0.984792\n",
            "\n",
            "Epoch 00010: val_loss did not improve from 1.35063\n",
            "5782/5782 [==============================] - 1s 118us/step\n",
            "### Model with seed: 2019  for fold no. 2 ####\n",
            "Train on 41618 samples, validate on 10415 samples\n",
            "Epoch 1/10\n",
            "41618/41618 [==============================] - 32s 762us/step - loss: 4.8906 - acc: 0.1415 - val_loss: 3.4416 - val_acc: 0.3318\n",
            "\n",
            " ROC-AUC - epoch: 1 - score: 0.873398\n",
            "\n",
            "Epoch 00001: val_loss improved from inf to 3.44158, saving model to best_model.hdf5\n",
            "Epoch 2/10\n",
            "41618/41618 [==============================] - 30s 724us/step - loss: 2.7321 - acc: 0.4309 - val_loss: 2.1423 - val_acc: 0.5361\n",
            "\n",
            " ROC-AUC - epoch: 2 - score: 0.968447\n",
            "\n",
            "Epoch 00002: val_loss improved from 3.44158 to 2.14231, saving model to best_model.hdf5\n",
            "Epoch 3/10\n",
            "41618/41618 [==============================] - 30s 721us/step - loss: 1.9384 - acc: 0.5664 - val_loss: 1.8035 - val_acc: 0.6029\n",
            "\n",
            " ROC-AUC - epoch: 3 - score: 0.978029\n",
            "\n",
            "Epoch 00003: val_loss improved from 2.14231 to 1.80350, saving model to best_model.hdf5\n",
            "Epoch 4/10\n",
            "41618/41618 [==============================] - 30s 724us/step - loss: 1.5842 - acc: 0.6391 - val_loss: 1.6165 - val_acc: 0.6405\n",
            "\n",
            " ROC-AUC - epoch: 4 - score: 0.981477\n",
            "\n",
            "Epoch 00004: val_loss improved from 1.80350 to 1.61651, saving model to best_model.hdf5\n",
            "Epoch 5/10\n",
            "41618/41618 [==============================] - 30s 725us/step - loss: 1.3831 - acc: 0.6804 - val_loss: 1.5231 - val_acc: 0.6707\n",
            "\n",
            " ROC-AUC - epoch: 5 - score: 0.982574\n",
            "\n",
            "Epoch 00005: val_loss improved from 1.61651 to 1.52309, saving model to best_model.hdf5\n",
            "Epoch 6/10\n",
            "41618/41618 [==============================] - 30s 729us/step - loss: 1.2325 - acc: 0.7113 - val_loss: 1.4480 - val_acc: 0.6852\n",
            "\n",
            " ROC-AUC - epoch: 6 - score: 0.983239\n",
            "\n",
            "Epoch 00006: val_loss improved from 1.52309 to 1.44803, saving model to best_model.hdf5\n",
            "Epoch 7/10\n",
            "41618/41618 [==============================] - 30s 728us/step - loss: 1.1022 - acc: 0.7362 - val_loss: 1.3967 - val_acc: 0.7018\n",
            "\n",
            " ROC-AUC - epoch: 7 - score: 0.984410\n",
            "\n",
            "Epoch 00007: val_loss improved from 1.44803 to 1.39665, saving model to best_model.hdf5\n",
            "Epoch 8/10\n",
            "41618/41618 [==============================] - 30s 728us/step - loss: 0.9524 - acc: 0.7665 - val_loss: 1.4091 - val_acc: 0.7045\n",
            "\n",
            " ROC-AUC - epoch: 8 - score: 0.983882\n",
            "\n",
            "Epoch 00008: val_loss did not improve from 1.39665\n",
            "Epoch 9/10\n",
            "41618/41618 [==============================] - 30s 725us/step - loss: 0.8247 - acc: 0.7930 - val_loss: 1.4113 - val_acc: 0.7145\n",
            "\n",
            " ROC-AUC - epoch: 9 - score: 0.984010\n",
            "\n",
            "Epoch 00009: val_loss did not improve from 1.39665\n",
            "Epoch 10/10\n",
            "41618/41618 [==============================] - 30s 723us/step - loss: 0.7100 - acc: 0.8167 - val_loss: 1.4406 - val_acc: 0.7142\n",
            "\n",
            " ROC-AUC - epoch: 10 - score: 0.983819\n",
            "\n",
            "Epoch 00010: val_loss did not improve from 1.39665\n",
            "5782/5782 [==============================] - 1s 116us/step\n",
            "### Model with seed: 2019  for fold no. 3 ####\n",
            "Train on 41684 samples, validate on 10349 samples\n",
            "Epoch 1/10\n",
            "41684/41684 [==============================] - 32s 756us/step - loss: 4.9209 - acc: 0.1388 - val_loss: 3.4748 - val_acc: 0.3301\n",
            "\n",
            " ROC-AUC - epoch: 1 - score: 0.871244\n",
            "\n",
            "Epoch 00001: val_loss improved from inf to 3.47476, saving model to best_model.hdf5\n",
            "Epoch 2/10\n",
            "41684/41684 [==============================] - 30s 715us/step - loss: 2.7490 - acc: 0.4309 - val_loss: 2.1075 - val_acc: 0.5332\n",
            "\n",
            " ROC-AUC - epoch: 2 - score: 0.968396\n",
            "\n",
            "Epoch 00002: val_loss improved from 3.47476 to 2.10752, saving model to best_model.hdf5\n",
            "Epoch 3/10\n",
            "41684/41684 [==============================] - 30s 718us/step - loss: 1.9243 - acc: 0.5719 - val_loss: 1.7071 - val_acc: 0.6152\n",
            "\n",
            " ROC-AUC - epoch: 3 - score: 0.979251\n",
            "\n",
            "Epoch 00003: val_loss improved from 2.10752 to 1.70713, saving model to best_model.hdf5\n",
            "Epoch 4/10\n",
            "41684/41684 [==============================] - 30s 720us/step - loss: 1.5741 - acc: 0.6412 - val_loss: 1.5254 - val_acc: 0.6621\n",
            "\n",
            " ROC-AUC - epoch: 4 - score: 0.983024\n",
            "\n",
            "Epoch 00004: val_loss improved from 1.70713 to 1.52544, saving model to best_model.hdf5\n",
            "Epoch 5/10\n",
            "41684/41684 [==============================] - 30s 722us/step - loss: 1.3722 - acc: 0.6820 - val_loss: 1.4431 - val_acc: 0.6817\n",
            "\n",
            " ROC-AUC - epoch: 5 - score: 0.984053\n",
            "\n",
            "Epoch 00005: val_loss improved from 1.52544 to 1.44308, saving model to best_model.hdf5\n",
            "Epoch 6/10\n",
            "41684/41684 [==============================] - 30s 724us/step - loss: 1.2224 - acc: 0.7125 - val_loss: 1.4105 - val_acc: 0.6909\n",
            "\n",
            " ROC-AUC - epoch: 6 - score: 0.984065\n",
            "\n",
            "Epoch 00006: val_loss improved from 1.44308 to 1.41047, saving model to best_model.hdf5\n",
            "Epoch 7/10\n",
            "41684/41684 [==============================] - 30s 719us/step - loss: 1.0977 - acc: 0.7369 - val_loss: 1.3418 - val_acc: 0.7046\n",
            "\n",
            " ROC-AUC - epoch: 7 - score: 0.985563\n",
            "\n",
            "Epoch 00007: val_loss improved from 1.41047 to 1.34180, saving model to best_model.hdf5\n",
            "Epoch 8/10\n",
            "41684/41684 [==============================] - 30s 723us/step - loss: 0.9498 - acc: 0.7669 - val_loss: 1.3408 - val_acc: 0.7140\n",
            "\n",
            " ROC-AUC - epoch: 8 - score: 0.984909\n",
            "\n",
            "Epoch 00008: val_loss improved from 1.34180 to 1.34079, saving model to best_model.hdf5\n",
            "Epoch 9/10\n",
            "41684/41684 [==============================] - 30s 724us/step - loss: 0.8171 - acc: 0.7943 - val_loss: 1.3344 - val_acc: 0.7186\n",
            "\n",
            " ROC-AUC - epoch: 9 - score: 0.985225\n",
            "\n",
            "Epoch 00009: val_loss improved from 1.34079 to 1.33440, saving model to best_model.hdf5\n",
            "Epoch 10/10\n",
            "41684/41684 [==============================] - 30s 723us/step - loss: 0.7085 - acc: 0.8158 - val_loss: 1.3999 - val_acc: 0.7218\n",
            "\n",
            " ROC-AUC - epoch: 10 - score: 0.984150\n",
            "\n",
            "Epoch 00010: val_loss did not improve from 1.33440\n",
            "5782/5782 [==============================] - 1s 117us/step\n",
            "### Model with seed: 2019  for fold no. 4 ####\n",
            "Train on 41767 samples, validate on 10266 samples\n",
            "Epoch 1/10\n",
            "41767/41767 [==============================] - 32s 759us/step - loss: 4.9202 - acc: 0.1406 - val_loss: 3.5626 - val_acc: 0.3242\n",
            "\n",
            " ROC-AUC - epoch: 1 - score: 0.865694\n",
            "\n",
            "Epoch 00001: val_loss improved from inf to 3.56258, saving model to best_model.hdf5\n",
            "Epoch 2/10\n",
            "41767/41767 [==============================] - 30s 729us/step - loss: 2.8221 - acc: 0.4207 - val_loss: 2.1871 - val_acc: 0.5334\n",
            "\n",
            " ROC-AUC - epoch: 2 - score: 0.963151\n",
            "\n",
            "Epoch 00002: val_loss improved from 3.56258 to 2.18713, saving model to best_model.hdf5\n",
            "Epoch 3/10\n",
            "41767/41767 [==============================] - 30s 721us/step - loss: 1.9793 - acc: 0.5586 - val_loss: 1.8225 - val_acc: 0.6036\n",
            "\n",
            " ROC-AUC - epoch: 3 - score: 0.975582\n",
            "\n",
            "Epoch 00003: val_loss improved from 2.18713 to 1.82245, saving model to best_model.hdf5\n",
            "Epoch 4/10\n",
            "41767/41767 [==============================] - 30s 726us/step - loss: 1.6098 - acc: 0.6341 - val_loss: 1.6049 - val_acc: 0.6504\n",
            "\n",
            " ROC-AUC - epoch: 4 - score: 0.980093\n",
            "\n",
            "Epoch 00004: val_loss improved from 1.82245 to 1.60490, saving model to best_model.hdf5\n",
            "Epoch 5/10\n",
            "41767/41767 [==============================] - 30s 723us/step - loss: 1.3874 - acc: 0.6794 - val_loss: 1.5165 - val_acc: 0.6710\n",
            "\n",
            " ROC-AUC - epoch: 5 - score: 0.981799\n",
            "\n",
            "Epoch 00005: val_loss improved from 1.60490 to 1.51650, saving model to best_model.hdf5\n",
            "Epoch 6/10\n",
            "41767/41767 [==============================] - 30s 722us/step - loss: 1.2372 - acc: 0.7076 - val_loss: 1.4737 - val_acc: 0.6801\n",
            "\n",
            " ROC-AUC - epoch: 6 - score: 0.981419\n",
            "\n",
            "Epoch 00006: val_loss improved from 1.51650 to 1.47368, saving model to best_model.hdf5\n",
            "Epoch 7/10\n",
            "41767/41767 [==============================] - 30s 721us/step - loss: 1.1155 - acc: 0.7304 - val_loss: 1.4234 - val_acc: 0.6947\n",
            "\n",
            " ROC-AUC - epoch: 7 - score: 0.983119\n",
            "\n",
            "Epoch 00007: val_loss improved from 1.47368 to 1.42344, saving model to best_model.hdf5\n",
            "Epoch 8/10\n",
            "41767/41767 [==============================] - 30s 723us/step - loss: 0.9619 - acc: 0.7658 - val_loss: 1.4046 - val_acc: 0.7069\n",
            "\n",
            " ROC-AUC - epoch: 8 - score: 0.983501\n",
            "\n",
            "Epoch 00008: val_loss improved from 1.42344 to 1.40456, saving model to best_model.hdf5\n",
            "Epoch 9/10\n",
            "41767/41767 [==============================] - 30s 725us/step - loss: 0.8305 - acc: 0.7912 - val_loss: 1.4135 - val_acc: 0.7149\n",
            "\n",
            " ROC-AUC - epoch: 9 - score: 0.982800\n",
            "\n",
            "Epoch 00009: val_loss did not improve from 1.40456\n",
            "Epoch 10/10\n",
            "41767/41767 [==============================] - 30s 719us/step - loss: 0.7183 - acc: 0.8160 - val_loss: 1.4472 - val_acc: 0.7139\n",
            "\n",
            " ROC-AUC - epoch: 10 - score: 0.982639\n",
            "\n",
            "Epoch 00010: val_loss did not improve from 1.40456\n",
            "5782/5782 [==============================] - 1s 118us/step\n"
          ],
          "name": "stdout"
        }
      ]
    },
    {
      "metadata": {
        "id": "iVCbgUPfKL5b",
        "colab_type": "code",
        "colab": {}
      },
      "cell_type": "code",
      "source": [
        "pred_test=pred_test*8/7"
      ],
      "execution_count": 0,
      "outputs": []
    },
    {
      "metadata": {
        "id": "YTzDAHadI8I6",
        "colab_type": "code",
        "outputId": "61fbb011-a8dc-424c-9e48-534918ed3daa",
        "colab": {
          "base_uri": "https://localhost:8080/",
          "height": 51
        }
      },
      "cell_type": "code",
      "source": [
        "# ROC scores on Test set for different codes\n",
        "scores=[]\n",
        "for i in range(396):\n",
        "  score = roc_auc_score(y_test[:,i], pred_test[:,i])\n",
        "  scores.append(score)\n",
        "  #print(\"score for index %s is %d\" (i,score))\n",
        "\n",
        "low = list(np.argsort(scores)[:5])\n",
        "high = list(np.argsort(scores)[::-1][:250])\n",
        "print('high scores is {}'.format(np.mean([scores[i] for i in high])))\n",
        "print('low scores is {}'.format(np.mean([scores[i] for i in low])))\n",
        "# ROC is not a problem in multi-class prediction"
      ],
      "execution_count": 0,
      "outputs": [
        {
          "output_type": "stream",
          "text": [
            "high scores is 0.9976635485766142\n",
            "low scores is 0.8496196545022776\n"
          ],
          "name": "stdout"
        }
      ]
    },
    {
      "metadata": {
        "id": "cbDZj9NXtenR",
        "colab_type": "code",
        "colab": {}
      },
      "cell_type": "code",
      "source": [
        "# Saving predictions for error analysis\n",
        "#os.mkdir('/content/drive/My Drive/CCP-ICDsearch/desc-icd9-modeldata_v2/M_maxlen7_350_icd/run3_embed_dpcnn_74.3/')\n",
        "os.chdir('/content/drive/My Drive/CCP-ICDsearch/desc-icd9-modeldata_v2/M_maxlen7_350_icd/run3_embed_dpcnn_74.3/')\n",
        "\n",
        "itoicd = dict((v,k) for k,v in icd_dict.items())\n",
        "test_pred = np.argmax(pred_test, axis=1)\n",
        "test_act = np.argmax(y_test, axis=1) \n",
        "test_pred_proba = np.max(pred_test,axis=1)\n",
        "\n",
        "mdf = pd.DataFrame({'test_act':[itoicd[i] for i in list(test_act)],'test_pred':[itoicd[i] for i in list(test_pred)], 'prob': list(test_pred_proba)})\n",
        "d = pd.DataFrame(pred_test)\n",
        "d.columns= [itoicd[i] for i in list(d.columns)]\n",
        "\n",
        "mdf = pd.concat([mdf,d],axis=1)\n",
        "mdf.to_csv('pred_test.csv',index=None)"
      ],
      "execution_count": 0,
      "outputs": []
    },
    {
      "metadata": {
        "id": "JLKZhRMgEO9j",
        "colab_type": "code",
        "colab": {}
      },
      "cell_type": "code",
      "source": [
        "#mdf.to_csv('pred_test1.csv',index=None)\n",
        "from google.colab import files\n",
        "files.download('pred_test.csv')"
      ],
      "execution_count": 0,
      "outputs": []
    },
    {
      "metadata": {
        "id": "_weiorJZVhZB",
        "colab_type": "code",
        "colab": {}
      },
      "cell_type": "code",
      "source": [
        "# Top Codes with low accuracy on test set\n",
        "#pred_test\n",
        "acc = [len(mdf[(mdf['test_pred']==i) & (mdf['test_act']==i)])/len(mdf[mdf['test_act']==i]) for i in mdf['test_act'].values]\n",
        "mdf2 = pd.DataFrame({'class_index': mdf['test_act'].values,'accuracy':acc})\n",
        "#print(len(mdf2[mdf2['accuracy']<0.5].class_index.unique().tolist()))\n",
        "codes= mdf2[mdf2['accuracy']<0.5].class_index.unique().tolist()\n",
        "mdf2.to_csv('error_codes.csv', index=None)"
      ],
      "execution_count": 0,
      "outputs": []
    },
    {
      "metadata": {
        "id": "OsS4MwoqOvLK",
        "colab_type": "code",
        "outputId": "3c7b0aa5-c780-47ed-cccf-50aa51e37ec6",
        "colab": {
          "base_uri": "https://localhost:8080/",
          "height": 353
        }
      },
      "cell_type": "code",
      "source": [
        "# Accuracy on various condifence levels and sample coverage on Test set\n",
        "#del CUTOFF\n",
        "for CUTOFF in range(0,100,5):\n",
        "    acc = len(mdf[(mdf['prob']>CUTOFF/100) & (mdf['test_act']==mdf['test_pred'])])/len(mdf[(mdf['prob']>CUTOFF/100)])\n",
        "    cov = len(mdf[(mdf['prob']>CUTOFF/100)])/len(mdf)\n",
        "    print(\"Confidence: %f ## Accuracy: %f ## Coverage on Test dataset: %f\" % (CUTOFF/100,acc,cov))\n"
      ],
      "execution_count": 40,
      "outputs": [
        {
          "output_type": "stream",
          "text": [
            "Confidence: 0.000000 ## Accuracy: 0.742131 ## Coverage on Test dataset: 1.000000\n",
            "Confidence: 0.050000 ## Accuracy: 0.746087 ## Coverage on Test dataset: 0.994466\n",
            "Confidence: 0.100000 ## Accuracy: 0.762227 ## Coverage on Test dataset: 0.972501\n",
            "Confidence: 0.150000 ## Accuracy: 0.770477 ## Coverage on Test dataset: 0.960740\n",
            "Confidence: 0.200000 ## Accuracy: 0.780644 ## Coverage on Test dataset: 0.945348\n",
            "Confidence: 0.250000 ## Accuracy: 0.791473 ## Coverage on Test dataset: 0.928917\n",
            "Confidence: 0.300000 ## Accuracy: 0.802471 ## Coverage on Test dataset: 0.909720\n",
            "Confidence: 0.350000 ## Accuracy: 0.812536 ## Coverage on Test dataset: 0.888447\n",
            "Confidence: 0.400000 ## Accuracy: 0.826340 ## Coverage on Test dataset: 0.861467\n",
            "Confidence: 0.450000 ## Accuracy: 0.838449 ## Coverage on Test dataset: 0.833967\n",
            "Confidence: 0.500000 ## Accuracy: 0.853342 ## Coverage on Test dataset: 0.799550\n",
            "Confidence: 0.550000 ## Accuracy: 0.867177 ## Coverage on Test dataset: 0.768246\n",
            "Confidence: 0.600000 ## Accuracy: 0.881300 ## Coverage on Test dataset: 0.734348\n",
            "Confidence: 0.650000 ## Accuracy: 0.894036 ## Coverage on Test dataset: 0.701833\n",
            "Confidence: 0.700000 ## Accuracy: 0.905612 ## Coverage on Test dataset: 0.668800\n",
            "Confidence: 0.750000 ## Accuracy: 0.919007 ## Coverage on Test dataset: 0.634210\n",
            "Confidence: 0.800000 ## Accuracy: 0.929590 ## Coverage on Test dataset: 0.594431\n",
            "Confidence: 0.850000 ## Accuracy: 0.940606 ## Coverage on Test dataset: 0.553269\n",
            "Confidence: 0.900000 ## Accuracy: 0.952398 ## Coverage on Test dataset: 0.494120\n",
            "Confidence: 0.950000 ## Accuracy: 0.962690 ## Coverage on Test dataset: 0.398651\n"
          ],
          "name": "stdout"
        }
      ]
    },
    {
      "metadata": {
        "id": "Drw28VPA65xD",
        "colab_type": "code",
        "colab": {}
      },
      "cell_type": "code",
      "source": [
        ""
      ],
      "execution_count": 0,
      "outputs": []
    },
    {
      "metadata": {
        "id": "dVM2EqgpX0Lr",
        "colab_type": "code",
        "outputId": "a114457a-b618-4894-cd1d-3de58bc6d817",
        "colab": {
          "base_uri": "https://localhost:8080/",
          "height": 168
        }
      },
      "cell_type": "code",
      "source": [
        "# Steps- for re generating the Data for modeling\n",
        "\n",
        "#datasize for icd codes\n",
        "\n",
        "strain = np.argmax(np.vstack([y_train,y_test]), axis=1)\n",
        "codesize = [sum(strain==icd_dict[i]) for i in codes]\n",
        "#print(len([i for i in codesize if i < 30]))\n",
        "codesize2 = [sum(strain==icd_dict[i]) for i in (set([itoicd[i] for i in set(strain)])-set(codes))]\n",
        "#print(len([i for i in codesize2 if i < 30]))\n",
        "\n",
        "print(\"mean dataset size of error codes is %d\" % (np.mean(codesize)))\n",
        "print(\"mean  dataset size of non-error codes is %d\" % (np.mean(codesize2)))\n",
        "print(\"median dataset size of error codes is %d\" % (np.median(codesize)))\n",
        "print(\"median  dataset size of non-error codes is %d\" % (np.median(codesize2)))\n",
        "\n",
        "# word entropy for icd codes\n",
        "\n",
        "idx = [[j for j in range(len(strain)) if strain[j]==icd_dict[i]] for i in codes]\n",
        "idx2 = [[j for j in range(len(strain)) if strain[j]==icd_dict[i]] for i in (set([itoicd[i] for i in set(strain)])-set(codes))]\n",
        "x = np.vstack([x_train, x_test])\n",
        "word_ent = [len(set([j for i in [[list(x[i]) for i in p] for p in idx][p] for j in i])) for p in range(len([[list(x[i]) for i in p] for p in idx]))]\n",
        "word_ent2 = [len(set([j for i in [[list(x[i]) for i in p] for p in idx2][p] for j in i])) for p in range(len([[list(x[i]) for i in p] for p in idx2]))]\n",
        "\n",
        "print(\"#################################################\")\n",
        "print(\"mean # of unqiue words in error codes is %d\" % (np.mean(word_ent)))\n",
        "print(\"mean # of unqiue words in non-error codes is %d\" % (np.mean(word_ent2)))\n",
        "print(\"median # of unqiue words in error codes is %d\" % (np.median(word_ent)))\n",
        "print(\"median # of unqiue words in non-error codes is %d\" % (np.median(word_ent2)))\n",
        "\n",
        "\n",
        "#codesize\n"
      ],
      "execution_count": 0,
      "outputs": [
        {
          "output_type": "stream",
          "text": [
            "mean dataset size of error codes is 70\n",
            "mean  dataset size of non-error codes is 193\n",
            "median dataset size of error codes is 50\n",
            "median  dataset size of non-error codes is 104\n",
            "#################################################\n",
            "mean # of unqiue words in error codes is 76\n",
            "mean # of unqiue words in non-error codes is 109\n",
            "median # of unqiue words in error codes is 58\n",
            "median # of unqiue words in non-error codes is 80\n"
          ],
          "name": "stdout"
        }
      ]
    },
    {
      "metadata": {
        "id": "vvc7MWcyLwue",
        "colab_type": "code",
        "outputId": "b6a11cfa-1eb7-4c6e-f697-612db5396f27",
        "colab": {
          "base_uri": "https://localhost:8080/",
          "height": 34
        }
      },
      "cell_type": "code",
      "source": [
        "# Saving Model\n",
        "# serialize model to JSON\n",
        "model_json = model.to_json()\n",
        "with open(\"model_v1.0.json\", \"w\") as json_file:\n",
        "    json_file.write(model_json)\n",
        "# serialize weights to HDF5\n",
        "model.save_weights(\"model_v1.0.h5\")\n",
        "print(\"Saved model to disk\")\n",
        " \n",
        "# later..."
      ],
      "execution_count": 0,
      "outputs": [
        {
          "output_type": "stream",
          "text": [
            "Saved model to disk\n"
          ],
          "name": "stdout"
        }
      ]
    },
    {
      "metadata": {
        "id": "cj0mhWJ0Qg2R",
        "colab_type": "code",
        "colab": {}
      },
      "cell_type": "code",
      "source": [
        "# load json and create model\n",
        "json_file = open('model_v1.0.json', 'r')\n",
        "loaded_model_json = json_file.read()\n",
        "json_file.close()\n",
        "loaded_model = model_from_json(loaded_model_json)\n",
        "# load weights into new model\n",
        "loaded_model.load_weights(\"model_v1.0.h5\")\n",
        "print(\"Loaded model from disk\")\n",
        " \n",
        "# evaluate loaded model on test data\n",
        "loaded_model.compile(loss='binary_crossentropy', optimizer=Adam(lr=1e-3), metrics=[\"accuracy\"])\n",
        "score = np.argmax(loaded_model.predict(DATASET, batch_size = 16, verbose = 1), axis=1)"
      ],
      "execution_count": 0,
      "outputs": []
    }
  ]
}