{
  "nbformat": 4,
  "nbformat_minor": 0,
  "metadata": {
    "colab": {
      "name": "CCP_ICD10_Searchengine",
      "version": "0.3.2",
      "provenance": [],
      "collapsed_sections": [],
      "toc_visible": true,
      "include_colab_link": true
    },
    "kernelspec": {
      "name": "python3",
      "display_name": "Python 3"
    },
    "accelerator": "GPU"
  },
  "cells": [
    {
      "cell_type": "markdown",
      "metadata": {
        "id": "view-in-github",
        "colab_type": "text"
      },
      "source": [
        "<a href=\"https://colab.research.google.com/github/njainds/Colab_notebooks/blob/master/CCP_ICD10_Searchengine%20v5.0.ipynb\" target=\"_parent\"><img src=\"https://colab.research.google.com/assets/colab-badge.svg\" alt=\"Open In Colab\"/></a>"
      ]
    },
    {
      "metadata": {
        "colab_type": "code",
        "id": "oYZkU7ZN3CL0",
        "outputId": "38410cd4-c6c6-4069-c33f-558ed2376c7e",
        "colab": {
          "base_uri": "https://localhost:8080/",
          "height": 34
        }
      },
      "cell_type": "code",
      "source": [
        "# requirements\n",
        "import nltk\n",
        "import numpy as np\n",
        "import pandas as pd\n",
        "pd.set_option('display.max_colwidth', -1)\n",
        "import requests\n",
        "import operator\n",
        "import flask\n",
        "from keras.preprocessing.text import Tokenizer\n",
        "import re\n",
        "import string\n",
        "from wordcloud import STOPWORDS\n",
        "! pip install pyspellchecker\n",
        "from spellchecker import SpellChecker\n",
        "from gensim.models.keyedvectors import KeyedVectors\n",
        "import warnings\n",
        "warnings.filterwarnings('ignore')\n"
      ],
      "execution_count": 133,
      "outputs": [
        {
          "output_type": "stream",
          "text": [
            "Requirement already satisfied: pyspellchecker in /usr/local/lib/python3.6/dist-packages (0.3.0)\n"
          ],
          "name": "stdout"
        }
      ]
    },
    {
      "metadata": {
        "id": "Effl8aLur6bM",
        "colab_type": "code",
        "colab": {
          "base_uri": "https://localhost:8080/",
          "height": 139
        },
        "outputId": "77c1bee6-749b-44c1-bee8-6965ae5f32e1"
      },
      "cell_type": "code",
      "source": [
        "from google.colab import drive\n",
        "drive.mount('/content/drive')\n",
        "!ls \"/content/drive/My Drive/CCP-ICDsearch\""
      ],
      "execution_count": 2,
      "outputs": [
        {
          "output_type": "stream",
          "text": [
            "Go to this URL in a browser: https://accounts.google.com/o/oauth2/auth?client_id=947318989803-6bn6qk8qdgf4n4g3pfee6491hc0brc4i.apps.googleusercontent.com&redirect_uri=urn%3Aietf%3Awg%3Aoauth%3A2.0%3Aoob&scope=email%20https%3A%2F%2Fwww.googleapis.com%2Fauth%2Fdocs.test%20https%3A%2F%2Fwww.googleapis.com%2Fauth%2Fdrive%20https%3A%2F%2Fwww.googleapis.com%2Fauth%2Fdrive.photos.readonly%20https%3A%2F%2Fwww.googleapis.com%2Fauth%2Fpeopleapi.readonly&response_type=code\n",
            "\n",
            "Enter your authorization code:\n",
            "··········\n",
            "Mounted at /content/drive\n",
            "CD.npy\tICD_dict.npy  map_abbreviation.npy  wikipedia-pubmed-and-PMC-w2v.bin\n"
          ],
          "name": "stdout"
        }
      ]
    },
    {
      "metadata": {
        "id": "qWolTlFGobHk",
        "colab_type": "code",
        "colab": {}
      },
      "cell_type": "code",
      "source": [
        "# Building vectors for CD\n",
        "prohibitedWords = ['other','unspecified','cause','[any part, except buttock]','[any part, except face]','not elsewhere classified','part','parts','specific','region','site','sites','specified','Unspecified','Generalized','(s)','multiple','due to medical condition','type','initial encounter','subsequent encounter']\n",
        "big_regex = re.compile('|'.join(map(re.escape, prohibitedWords)))\n",
        "\n",
        "def onetimeclean(text):\n",
        "  x = wpt.tokenize(big_regex.sub(\"\", text.lower()))\n",
        "  x = [w for w in x if w not in list(STOPWORDS)+['(',')','[',']','-',\"'\",':',',','.','{','}','_']]\n",
        "  vect = np.array([np.zeros((200,)) if word not in model.wv.vocab else model.wv[word] for word in x])\n",
        "  if vect.shape[0]<11:\n",
        "    vect = np.vstack((vect,np.zeros((11-vect.shape[0],200))))\n",
        "  if vect.shape != (11,200): print(\"vector shape not consistent: {}\".format(text))\n",
        "  return vect\n",
        "\n",
        "#CD = np.array([onetimeclean(code) for code in dict(ICD_dict).values()])\n",
        "#np.save('/content/drive/My Drive/CCP-ICDsearch/CD.npy', CD)\n",
        "\n",
        "# Functions\n",
        "def clean(text):\n",
        "  x = wpt.tokenize(text.lower())\n",
        "  x = [w for w in x if w not in list(STOPWORDS)+['(',')','-',\"'\",':',',','.','{','}','_']]\n",
        "  x = [map_abbreviation[word] if word in list(map_abbreviation.keys()) else word for word in x]\n",
        "  x = list(set([spell.correction(word) if word not in model.wv.vocab else word for word in x ]))\n",
        "  vect = np.array([np.zeros((200,)) if word not in model.wv.vocab else model.wv[word] for word in x])\n",
        "  return vect"
      ],
      "execution_count": 0,
      "outputs": []
    },
    {
      "metadata": {
        "id": "fNA2o3sSoWF8",
        "colab_type": "code",
        "colab": {}
      },
      "cell_type": "code",
      "source": [
        "# Initializers\n",
        "model = KeyedVectors.load_word2vec_format('/content/drive/My Drive/CCP-ICDsearch/wikipedia-pubmed-and-PMC-w2v.bin', binary=True)\n",
        "wpt = nltk.WordPunctTokenizer()\n",
        "spell = SpellChecker()"
      ],
      "execution_count": 0,
      "outputs": []
    },
    {
      "metadata": {
        "id": "xxbGrrRwsTGW",
        "colab_type": "code",
        "colab": {}
      },
      "cell_type": "code",
      "source": [
        "# KB\n",
        "ICD_dict = np.load('/content/drive/My Drive/CCP-ICDsearch/ICD_dict.npy')\n",
        "ICD_dict = sorted(dict(ICD_dict).items(), key=lambda kv: kv[0])\n",
        "map_abbreviation = np.load('/content/drive/My Drive/CCP-ICDsearch/map_abbreviation.npy').item()\n",
        "#Build/process and save CD (n_icd=2185, fix_len_cd=11, emb_size=200): \n",
        "CD=np.load('/content/drive/My Drive/CCP-ICDsearch/CD.npy')\n"
      ],
      "execution_count": 0,
      "outputs": []
    },
    {
      "metadata": {
        "id": "9dXeOjAAr93F",
        "colab_type": "code",
        "outputId": "2f1b00a9-c06c-4e66-b113-9ff6c88d1b30",
        "colab": {
          "base_uri": "https://localhost:8080/",
          "height": 514
        }
      },
      "cell_type": "code",
      "source": [
        "search_term = \"cardiac arrest\"\n",
        "\n",
        "DD = clean(search_term)\n",
        "n = np.sum(np.dot(CD,DD.T),axis=(1,2))\n",
        "d1 = sum(np.diagonal(np.dot(DD,DD.T)))\n",
        "d2 = np.count_nonzero(np.sum(CD, axis=2), axis=1) + 0.00001\n",
        "out = n/(d1*d2)\n",
        "index = np.argsort(out)[-15:]\n",
        "scores = out[index[::-1]]\n",
        "result = np.array(ICD_dict)[index[::-1]]\n",
        "df = pd.DataFrame(result,scores*100)\n",
        "df.reset_index(level=0, inplace=True)\n",
        "df.columns = ['Confidence','ICD-10','Description']\n",
        "df"
      ],
      "execution_count": 146,
      "outputs": [
        {
          "output_type": "execute_result",
          "data": {
            "text/html": [
              "<div>\n",
              "<style scoped>\n",
              "    .dataframe tbody tr th:only-of-type {\n",
              "        vertical-align: middle;\n",
              "    }\n",
              "\n",
              "    .dataframe tbody tr th {\n",
              "        vertical-align: top;\n",
              "    }\n",
              "\n",
              "    .dataframe thead th {\n",
              "        text-align: right;\n",
              "    }\n",
              "</style>\n",
              "<table border=\"1\" class=\"dataframe\">\n",
              "  <thead>\n",
              "    <tr style=\"text-align: right;\">\n",
              "      <th></th>\n",
              "      <th>Confidence</th>\n",
              "      <th>ICD-10</th>\n",
              "      <th>Description</th>\n",
              "    </tr>\n",
              "  </thead>\n",
              "  <tbody>\n",
              "    <tr>\n",
              "      <th>0</th>\n",
              "      <td>71.138845</td>\n",
              "      <td>I469</td>\n",
              "      <td>Cardiac arrest, cause unspecified</td>\n",
              "    </tr>\n",
              "    <tr>\n",
              "      <th>1</th>\n",
              "      <td>60.798841</td>\n",
              "      <td>I498</td>\n",
              "      <td>Other specified cardiac arrhythmias</td>\n",
              "    </tr>\n",
              "    <tr>\n",
              "      <th>2</th>\n",
              "      <td>58.360368</td>\n",
              "      <td>I4901</td>\n",
              "      <td>Ventricular fibrillation</td>\n",
              "    </tr>\n",
              "    <tr>\n",
              "      <th>3</th>\n",
              "      <td>57.773877</td>\n",
              "      <td>I472</td>\n",
              "      <td>Ventricular tachycardia</td>\n",
              "    </tr>\n",
              "    <tr>\n",
              "      <th>4</th>\n",
              "      <td>57.311926</td>\n",
              "      <td>I499</td>\n",
              "      <td>Cardiac arrhythmia, unspecified</td>\n",
              "    </tr>\n",
              "    <tr>\n",
              "      <th>5</th>\n",
              "      <td>56.683625</td>\n",
              "      <td>I471</td>\n",
              "      <td>Supraventricular tachycardia</td>\n",
              "    </tr>\n",
              "    <tr>\n",
              "      <th>6</th>\n",
              "      <td>54.250983</td>\n",
              "      <td>I4902</td>\n",
              "      <td>Ventricular flutter</td>\n",
              "    </tr>\n",
              "    <tr>\n",
              "      <th>7</th>\n",
              "      <td>51.609104</td>\n",
              "      <td>I4891</td>\n",
              "      <td>Unspecified atrial fibrillation</td>\n",
              "    </tr>\n",
              "    <tr>\n",
              "      <th>8</th>\n",
              "      <td>47.920810</td>\n",
              "      <td>I97710</td>\n",
              "      <td>Intraoperative cardiac arrest during cardiac surgery</td>\n",
              "    </tr>\n",
              "    <tr>\n",
              "      <th>9</th>\n",
              "      <td>47.499719</td>\n",
              "      <td>I4892</td>\n",
              "      <td>Unspecified atrial flutter</td>\n",
              "    </tr>\n",
              "    <tr>\n",
              "      <th>10</th>\n",
              "      <td>45.246090</td>\n",
              "      <td>I97711</td>\n",
              "      <td>Intraoperative cardiac arrest during other surgery</td>\n",
              "    </tr>\n",
              "    <tr>\n",
              "      <th>11</th>\n",
              "      <td>43.191140</td>\n",
              "      <td>I480</td>\n",
              "      <td>Paroxysmal atrial fibrillation</td>\n",
              "    </tr>\n",
              "    <tr>\n",
              "      <th>12</th>\n",
              "      <td>42.129177</td>\n",
              "      <td>I97120</td>\n",
              "      <td>Postprocedural cardiac arrest following cardiac surgery</td>\n",
              "    </tr>\n",
              "    <tr>\n",
              "      <th>13</th>\n",
              "      <td>40.858089</td>\n",
              "      <td>I219</td>\n",
              "      <td>Acute myocardial infarction, unspecified</td>\n",
              "    </tr>\n",
              "    <tr>\n",
              "      <th>14</th>\n",
              "      <td>40.614804</td>\n",
              "      <td>I479</td>\n",
              "      <td>Paroxysmal tachycardia, unspecified</td>\n",
              "    </tr>\n",
              "  </tbody>\n",
              "</table>\n",
              "</div>"
            ],
            "text/plain": [
              "    Confidence  ICD-10  \\\n",
              "0   71.138845   I469     \n",
              "1   60.798841   I498     \n",
              "2   58.360368   I4901    \n",
              "3   57.773877   I472     \n",
              "4   57.311926   I499     \n",
              "5   56.683625   I471     \n",
              "6   54.250983   I4902    \n",
              "7   51.609104   I4891    \n",
              "8   47.920810   I97710   \n",
              "9   47.499719   I4892    \n",
              "10  45.246090   I97711   \n",
              "11  43.191140   I480     \n",
              "12  42.129177   I97120   \n",
              "13  40.858089   I219     \n",
              "14  40.614804   I479     \n",
              "\n",
              "                                                Description  \n",
              "0   Cardiac arrest, cause unspecified                        \n",
              "1   Other specified cardiac arrhythmias                      \n",
              "2   Ventricular fibrillation                                 \n",
              "3   Ventricular tachycardia                                  \n",
              "4   Cardiac arrhythmia, unspecified                          \n",
              "5   Supraventricular tachycardia                             \n",
              "6   Ventricular flutter                                      \n",
              "7   Unspecified atrial fibrillation                          \n",
              "8   Intraoperative cardiac arrest during cardiac surgery     \n",
              "9   Unspecified atrial flutter                               \n",
              "10  Intraoperative cardiac arrest during other surgery       \n",
              "11  Paroxysmal atrial fibrillation                           \n",
              "12  Postprocedural cardiac arrest following cardiac surgery  \n",
              "13  Acute myocardial infarction, unspecified                 \n",
              "14  Paroxysmal tachycardia, unspecified                      "
            ]
          },
          "metadata": {
            "tags": []
          },
          "execution_count": 146
        }
      ]
    },
    {
      "metadata": {
        "id": "3hd2KcG6sCiD",
        "colab_type": "code",
        "colab": {}
      },
      "cell_type": "code",
      "source": [
        ""
      ],
      "execution_count": 0,
      "outputs": []
    }
  ]
}