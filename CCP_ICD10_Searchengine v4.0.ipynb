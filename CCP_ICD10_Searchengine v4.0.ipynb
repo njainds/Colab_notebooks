{
  "nbformat": 4,
  "nbformat_minor": 0,
  "metadata": {
    "colab": {
      "name": "CCP_ICD10_Searchengine",
      "version": "0.3.2",
      "provenance": [],
      "collapsed_sections": [],
      "toc_visible": true,
      "include_colab_link": true
    },
    "kernelspec": {
      "name": "python3",
      "display_name": "Python 3"
    },
    "accelerator": "GPU"
  },
  "cells": [
    {
      "cell_type": "markdown",
      "metadata": {
        "id": "view-in-github",
        "colab_type": "text"
      },
      "source": [
        "<a href=\"https://colab.research.google.com/github/njainds/Colab_notebooks/blob/master/CCP_ICD10_Searchengine%20v4.0.ipynb\" target=\"_parent\"><img src=\"https://colab.research.google.com/assets/colab-badge.svg\" alt=\"Open In Colab\"/></a>"
      ]
    },
    {
      "metadata": {
        "colab_type": "code",
        "id": "oYZkU7ZN3CL0",
        "outputId": "083cacbb-5844-4127-c196-348653249cfb",
        "colab": {
          "base_uri": "https://localhost:8080/",
          "height": 139
        }
      },
      "cell_type": "code",
      "source": [
        "# requirements\n",
        "import nltk\n",
        "import numpy as np\n",
        "import requests\n",
        "import operator\n",
        "import flask\n",
        "from keras.preprocessing.text import Tokenizer\n",
        "import re\n",
        "import string\n",
        "from wordcloud import STOPWORDS\n",
        "! pip install pyspellchecker\n",
        "from spellchecker import SpellChecker\n",
        "from gensim.models.keyedvectors import KeyedVectors\n",
        "import warnings\n",
        "warnings.filterwarnings('ignore')\n"
      ],
      "execution_count": 1,
      "outputs": [
        {
          "output_type": "stream",
          "text": [
            "Using TensorFlow backend.\n"
          ],
          "name": "stderr"
        },
        {
          "output_type": "stream",
          "text": [
            "Collecting pyspellchecker\n",
            "\u001b[?25l  Downloading https://files.pythonhosted.org/packages/6a/b3/f1d5af6dcd4cd50fbe75b425e386013a6afb9e2bdba59a2e6b9f200c1319/pyspellchecker-0.3.0-py3-none-any.whl (1.9MB)\n",
            "\r\u001b[K    0% |▏                               | 10kB 15.0MB/s eta 0:00:01\r\u001b[K    1% |▍                               | 20kB 4.6MB/s eta 0:00:01\r\u001b[K    1% |▌                               | 30kB 6.4MB/s eta 0:00:01\r\u001b[K    2% |▊                               | 40kB 4.3MB/s eta 0:00:01\r\u001b[K    2% |▉                               | 51kB 5.3MB/s eta 0:00:01\r\u001b[K    3% |█                               | 61kB 6.3MB/s eta 0:00:01\r\u001b[K    3% |█▏                              | 71kB 7.1MB/s eta 0:00:01\r\u001b[K    4% |█▍                              | 81kB 8.0MB/s eta 0:00:01\r\u001b[K    4% |█▌                              | 92kB 8.8MB/s eta 0:00:01\r\u001b[K    5% |█▊                              | 102kB 7.0MB/s eta 0:00:01\r\u001b[K    5% |██                              | 112kB 7.2MB/s eta 0:00:01\r\u001b[K    6% |██                              | 122kB 9.6MB/s eta 0:00:01\r\u001b[K    6% |██▎                             | 133kB 9.7MB/s eta 0:00:01\r\u001b[K    7% |██▍                             | 143kB 16.6MB/s eta 0:00:01\r\u001b[K    8% |██▋                             | 153kB 16.7MB/s eta 0:00:01\r\u001b[K    8% |██▊                             | 163kB 16.7MB/s eta 0:00:01\r\u001b[K    9% |███                             | 174kB 16.4MB/s eta 0:00:01\r\u001b[K    9% |███                             | 184kB 16.5MB/s eta 0:00:01\r\u001b[K    10% |███▎                            | 194kB 16.2MB/s eta 0:00:01\r\u001b[K    10% |███▍                            | 204kB 43.4MB/s eta 0:00:01\r\u001b[K    11% |███▋                            | 215kB 20.8MB/s eta 0:00:01\r\u001b[K    11% |███▉                            | 225kB 20.7MB/s eta 0:00:01\r\u001b[K    12% |████                            | 235kB 20.8MB/s eta 0:00:01\r\u001b[K    12% |████▏                           | 245kB 20.8MB/s eta 0:00:01\r\u001b[K    13% |████▎                           | 256kB 20.9MB/s eta 0:00:01\r\u001b[K    13% |████▌                           | 266kB 19.6MB/s eta 0:00:01\r\u001b[K    14% |████▋                           | 276kB 20.0MB/s eta 0:00:01\r\u001b[K    15% |████▉                           | 286kB 19.9MB/s eta 0:00:01\r\u001b[K    15% |█████                           | 296kB 20.2MB/s eta 0:00:01\r\u001b[K    16% |█████▏                          | 307kB 20.9MB/s eta 0:00:01\r\u001b[K    16% |█████▎                          | 317kB 45.8MB/s eta 0:00:01\r\u001b[K    17% |█████▌                          | 327kB 44.8MB/s eta 0:00:01\r\u001b[K    17% |█████▊                          | 337kB 45.9MB/s eta 0:00:01\r\u001b[K    18% |█████▉                          | 348kB 40.9MB/s eta 0:00:01\r\u001b[K    18% |██████                          | 358kB 41.0MB/s eta 0:00:01\r\u001b[K    19% |██████▏                         | 368kB 46.8MB/s eta 0:00:01\r\u001b[K    19% |██████▍                         | 378kB 47.5MB/s eta 0:00:01\r\u001b[K    20% |██████▌                         | 389kB 48.4MB/s eta 0:00:01\r\u001b[K    20% |██████▊                         | 399kB 33.1MB/s eta 0:00:01\r\u001b[K    21% |██████▉                         | 409kB 31.4MB/s eta 0:00:01\r\u001b[K    22% |███████                         | 419kB 31.5MB/s eta 0:00:01\r\u001b[K    22% |███████▏                        | 430kB 31.8MB/s eta 0:00:01\r\u001b[K    23% |███████▍                        | 440kB 32.1MB/s eta 0:00:01\r\u001b[K    23% |███████▋                        | 450kB 33.4MB/s eta 0:00:01\r\u001b[K    24% |███████▊                        | 460kB 31.2MB/s eta 0:00:01\r\u001b[K    24% |████████                        | 471kB 30.7MB/s eta 0:00:01\r\u001b[K    25% |████████                        | 481kB 30.8MB/s eta 0:00:01\r\u001b[K    25% |████████▎                       | 491kB 30.5MB/s eta 0:00:01\r\u001b[K    26% |████████▍                       | 501kB 43.0MB/s eta 0:00:01\r\u001b[K    26% |████████▋                       | 512kB 43.0MB/s eta 0:00:01\r\u001b[K    27% |████████▊                       | 522kB 42.7MB/s eta 0:00:01\r\u001b[K    27% |█████████                       | 532kB 43.0MB/s eta 0:00:01\r\u001b[K    28% |█████████                       | 542kB 42.2MB/s eta 0:00:01\r\u001b[K    28% |█████████▎                      | 552kB 45.1MB/s eta 0:00:01\r\u001b[K    29% |█████████▌                      | 563kB 49.6MB/s eta 0:00:01\r\u001b[K    30% |█████████▋                      | 573kB 49.6MB/s eta 0:00:01\r\u001b[K    30% |█████████▉                      | 583kB 49.7MB/s eta 0:00:01\r\u001b[K    31% |██████████                      | 593kB 49.1MB/s eta 0:00:01\r\u001b[K    31% |██████████▏                     | 604kB 48.5MB/s eta 0:00:01\r\u001b[K    32% |██████████▎                     | 614kB 51.3MB/s eta 0:00:01\r\u001b[K    32% |██████████▌                     | 624kB 48.6MB/s eta 0:00:01\r\u001b[K    33% |██████████▋                     | 634kB 47.5MB/s eta 0:00:01\r\u001b[K    33% |██████████▉                     | 645kB 45.5MB/s eta 0:00:01\r\u001b[K    34% |███████████                     | 655kB 44.6MB/s eta 0:00:01\r\u001b[K    34% |███████████▏                    | 665kB 37.3MB/s eta 0:00:01\r\u001b[K    35% |███████████▍                    | 675kB 36.0MB/s eta 0:00:01\r\u001b[K    35% |███████████▌                    | 686kB 35.6MB/s eta 0:00:01\r\u001b[K    36% |███████████▊                    | 696kB 35.6MB/s eta 0:00:01\r\u001b[K    37% |███████████▉                    | 706kB 34.5MB/s eta 0:00:01\r\u001b[K    37% |████████████                    | 716kB 34.9MB/s eta 0:00:01\r\u001b[K    38% |████████████▏                   | 727kB 36.2MB/s eta 0:00:01\r\u001b[K    38% |████████████▍                   | 737kB 36.8MB/s eta 0:00:01\r\u001b[K    39% |████████████▌                   | 747kB 38.7MB/s eta 0:00:01\r\u001b[K    39% |████████████▊                   | 757kB 38.7MB/s eta 0:00:01\r\u001b[K    40% |████████████▉                   | 768kB 45.2MB/s eta 0:00:01\r\u001b[K    40% |█████████████                   | 778kB 48.7MB/s eta 0:00:01\r\u001b[K    41% |█████████████▎                  | 788kB 49.5MB/s eta 0:00:01\r\u001b[K    41% |█████████████▍                  | 798kB 50.1MB/s eta 0:00:01\r\u001b[K    42% |█████████████▋                  | 808kB 52.1MB/s eta 0:00:01\r\u001b[K    42% |█████████████▊                  | 819kB 51.4MB/s eta 0:00:01\r\u001b[K    43% |██████████████                  | 829kB 51.4MB/s eta 0:00:01\r\u001b[K    44% |██████████████                  | 839kB 48.7MB/s eta 0:00:01\r\u001b[K    44% |██████████████▎                 | 849kB 48.0MB/s eta 0:00:01\r\u001b[K    45% |██████████████▍                 | 860kB 43.4MB/s eta 0:00:01\r\u001b[K    45% |██████████████▋                 | 870kB 44.7MB/s eta 0:00:01\r\u001b[K    46% |██████████████▉                 | 880kB 44.7MB/s eta 0:00:01\r\u001b[K    46% |███████████████                 | 890kB 44.6MB/s eta 0:00:01\r\u001b[K    47% |███████████████▏                | 901kB 44.9MB/s eta 0:00:01\r\u001b[K    47% |███████████████▎                | 911kB 45.2MB/s eta 0:00:01\r\u001b[K    48% |███████████████▌                | 921kB 43.6MB/s eta 0:00:01\r\u001b[K    48% |███████████████▋                | 931kB 43.4MB/s eta 0:00:01\r\u001b[K    49% |███████████████▉                | 942kB 45.2MB/s eta 0:00:01\r\u001b[K    49% |████████████████                | 952kB 41.5MB/s eta 0:00:01\r\u001b[K    50% |████████████████▏               | 962kB 46.8MB/s eta 0:00:01\r\u001b[K    51% |████████████████▎               | 972kB 47.3MB/s eta 0:00:01\r\u001b[K    51% |████████████████▌               | 983kB 46.9MB/s eta 0:00:01\r\u001b[K    52% |████████████████▊               | 993kB 47.6MB/s eta 0:00:01\r\u001b[K    52% |████████████████▉               | 1.0MB 46.8MB/s eta 0:00:01\r\u001b[K    53% |█████████████████               | 1.0MB 46.5MB/s eta 0:00:01\r\u001b[K    53% |█████████████████▏              | 1.0MB 47.8MB/s eta 0:00:01\r\u001b[K    54% |█████████████████▍              | 1.0MB 47.1MB/s eta 0:00:01\r\u001b[K    54% |█████████████████▌              | 1.0MB 48.0MB/s eta 0:00:01\r\u001b[K    55% |█████████████████▊              | 1.1MB 53.5MB/s eta 0:00:01\r\u001b[K    55% |█████████████████▉              | 1.1MB 53.0MB/s eta 0:00:01\r\u001b[K    56% |██████████████████              | 1.1MB 53.6MB/s eta 0:00:01\r\u001b[K    56% |██████████████████▏             | 1.1MB 53.5MB/s eta 0:00:01\r\u001b[K    57% |██████████████████▍             | 1.1MB 43.4MB/s eta 0:00:01\r\u001b[K    57% |██████████████████▋             | 1.1MB 44.3MB/s eta 0:00:01\r\u001b[K    58% |██████████████████▊             | 1.1MB 44.8MB/s eta 0:00:01\r\u001b[K    59% |███████████████████             | 1.1MB 45.9MB/s eta 0:00:01\r\u001b[K    59% |███████████████████             | 1.1MB 46.8MB/s eta 0:00:01\r\u001b[K    60% |███████████████████▎            | 1.1MB 46.0MB/s eta 0:00:01\r\u001b[K    60% |███████████████████▍            | 1.2MB 45.9MB/s eta 0:00:01\r\u001b[K    61% |███████████████████▋            | 1.2MB 45.0MB/s eta 0:00:01\r\u001b[K    61% |███████████████████▊            | 1.2MB 43.4MB/s eta 0:00:01\r\u001b[K    62% |████████████████████            | 1.2MB 43.8MB/s eta 0:00:01\r\u001b[K    62% |████████████████████            | 1.2MB 53.3MB/s eta 0:00:01\r\u001b[K    63% |████████████████████▎           | 1.2MB 53.6MB/s eta 0:00:01\r\u001b[K    63% |████████████████████▌           | 1.2MB 54.1MB/s eta 0:00:01\r\u001b[K    64% |████████████████████▋           | 1.2MB 53.2MB/s eta 0:00:01\r\u001b[K    64% |████████████████████▉           | 1.2MB 53.0MB/s eta 0:00:01\r\u001b[K    65% |█████████████████████           | 1.2MB 51.6MB/s eta 0:00:01\r\u001b[K    66% |█████████████████████▏          | 1.3MB 51.8MB/s eta 0:00:01\r\u001b[K    66% |█████████████████████▎          | 1.3MB 53.0MB/s eta 0:00:01\r\u001b[K    67% |█████████████████████▌          | 1.3MB 51.7MB/s eta 0:00:01\r\u001b[K    67% |█████████████████████▋          | 1.3MB 51.8MB/s eta 0:00:01\r\u001b[K    68% |█████████████████████▉          | 1.3MB 52.1MB/s eta 0:00:01\r\u001b[K    68% |██████████████████████          | 1.3MB 51.3MB/s eta 0:00:01\r\u001b[K    69% |██████████████████████▏         | 1.3MB 50.7MB/s eta 0:00:01\r\u001b[K    69% |██████████████████████▍         | 1.3MB 50.2MB/s eta 0:00:01\r\u001b[K    70% |██████████████████████▌         | 1.3MB 49.6MB/s eta 0:00:01\r\u001b[K    70% |██████████████████████▊         | 1.4MB 51.4MB/s eta 0:00:01\r\u001b[K    71% |██████████████████████▉         | 1.4MB 51.8MB/s eta 0:00:01\r\u001b[K    71% |███████████████████████         | 1.4MB 51.3MB/s eta 0:00:01\r\u001b[K    72% |███████████████████████▏        | 1.4MB 52.4MB/s eta 0:00:01\r\u001b[K    73% |███████████████████████▍        | 1.4MB 52.0MB/s eta 0:00:01\r\u001b[K    73% |███████████████████████▌        | 1.4MB 33.8MB/s eta 0:00:01\r\u001b[K    74% |███████████████████████▊        | 1.4MB 33.7MB/s eta 0:00:01\r\u001b[K    74% |███████████████████████▉        | 1.4MB 33.4MB/s eta 0:00:01\r\u001b[K    75% |████████████████████████        | 1.4MB 33.9MB/s eta 0:00:01\r\u001b[K    75% |████████████████████████▎       | 1.4MB 34.5MB/s eta 0:00:01\r\u001b[K    76% |████████████████████████▍       | 1.5MB 34.4MB/s eta 0:00:01\r\u001b[K    76% |████████████████████████▋       | 1.5MB 34.0MB/s eta 0:00:01\r\u001b[K    77% |████████████████████████▊       | 1.5MB 33.5MB/s eta 0:00:01\r\u001b[K    77% |█████████████████████████       | 1.5MB 33.9MB/s eta 0:00:01\r\u001b[K    78% |█████████████████████████       | 1.5MB 33.4MB/s eta 0:00:01\r\u001b[K    78% |█████████████████████████▎      | 1.5MB 50.6MB/s eta 0:00:01\r\u001b[K    79% |█████████████████████████▍      | 1.5MB 50.9MB/s eta 0:00:01\r\u001b[K    80% |█████████████████████████▋      | 1.5MB 52.7MB/s eta 0:00:01\r\u001b[K    80% |█████████████████████████▊      | 1.5MB 52.9MB/s eta 0:00:01\r\u001b[K    81% |██████████████████████████      | 1.5MB 52.8MB/s eta 0:00:01\r\u001b[K    81% |██████████████████████████▏     | 1.6MB 51.9MB/s eta 0:00:01\r\u001b[K    82% |██████████████████████████▎     | 1.6MB 53.2MB/s eta 0:00:01\r\u001b[K    82% |██████████████████████████▌     | 1.6MB 55.1MB/s eta 0:00:01\r\u001b[K    83% |██████████████████████████▋     | 1.6MB 46.1MB/s eta 0:00:01\r\u001b[K    83% |██████████████████████████▉     | 1.6MB 47.4MB/s eta 0:00:01\r\u001b[K    84% |███████████████████████████     | 1.6MB 48.3MB/s eta 0:00:01\r\u001b[K    84% |███████████████████████████▏    | 1.6MB 49.2MB/s eta 0:00:01\r\u001b[K    85% |███████████████████████████▎    | 1.6MB 49.2MB/s eta 0:00:01\r\u001b[K    85% |███████████████████████████▌    | 1.6MB 48.8MB/s eta 0:00:01\r\u001b[K    86% |███████████████████████████▊    | 1.6MB 49.0MB/s eta 0:00:01\r\u001b[K    86% |███████████████████████████▉    | 1.7MB 47.9MB/s eta 0:00:01\r\u001b[K    87% |████████████████████████████    | 1.7MB 46.6MB/s eta 0:00:01\r\u001b[K    88% |████████████████████████████▏   | 1.7MB 46.9MB/s eta 0:00:01\r\u001b[K    88% |████████████████████████████▍   | 1.7MB 57.5MB/s eta 0:00:01\r\u001b[K    89% |████████████████████████████▌   | 1.7MB 57.8MB/s eta 0:00:01\r\u001b[K    89% |████████████████████████████▊   | 1.7MB 56.9MB/s eta 0:00:01\r\u001b[K    90% |████████████████████████████▉   | 1.7MB 55.4MB/s eta 0:00:01\r\u001b[K    90% |█████████████████████████████   | 1.7MB 54.6MB/s eta 0:00:01\r\u001b[K    91% |█████████████████████████████▏  | 1.7MB 54.4MB/s eta 0:00:01\r\u001b[K    91% |█████████████████████████████▍  | 1.8MB 53.0MB/s eta 0:00:01\r\u001b[K    92% |█████████████████████████████▋  | 1.8MB 55.2MB/s eta 0:00:01\r\u001b[K    92% |█████████████████████████████▊  | 1.8MB 55.6MB/s eta 0:00:01\r\u001b[K    93% |██████████████████████████████  | 1.8MB 54.5MB/s eta 0:00:01\r\u001b[K    93% |██████████████████████████████  | 1.8MB 54.0MB/s eta 0:00:01\r\u001b[K    94% |██████████████████████████████▎ | 1.8MB 597kB/s eta 0:00:01\r\u001b[K    95% |██████████████████████████████▍ | 1.8MB 597kB/s eta 0:00:01\r\u001b[K    95% |██████████████████████████████▋ | 1.8MB 596kB/s eta 0:00:01\r\u001b[K    96% |██████████████████████████████▊ | 1.8MB 596kB/s eta 0:00:01\r\u001b[K    96% |███████████████████████████████ | 1.8MB 596kB/s eta 0:00:01\r\u001b[K    97% |███████████████████████████████ | 1.9MB 596kB/s eta 0:00:01\r\u001b[K    97% |███████████████████████████████▎| 1.9MB 596kB/s eta 0:00:01\r\u001b[K    98% |███████████████████████████████▌| 1.9MB 595kB/s eta 0:00:01\r\u001b[K    98% |███████████████████████████████▋| 1.9MB 595kB/s eta 0:00:01\r\u001b[K    99% |███████████████████████████████▉| 1.9MB 595kB/s eta 0:00:01\r\u001b[K    99% |████████████████████████████████| 1.9MB 37.7MB/s eta 0:00:01\r\u001b[K    100% |████████████████████████████████| 1.9MB 13.2MB/s \n",
            "\u001b[?25hInstalling collected packages: pyspellchecker\n",
            "Successfully installed pyspellchecker-0.3.0\n"
          ],
          "name": "stdout"
        }
      ]
    },
    {
      "metadata": {
        "id": "Effl8aLur6bM",
        "colab_type": "code",
        "colab": {
          "base_uri": "https://localhost:8080/",
          "height": 139
        },
        "outputId": "77c1bee6-749b-44c1-bee8-6965ae5f32e1"
      },
      "cell_type": "code",
      "source": [
        "from google.colab import drive\n",
        "drive.mount('/content/drive')\n",
        "!ls \"/content/drive/My Drive/CCP-ICDsearch\""
      ],
      "execution_count": 2,
      "outputs": [
        {
          "output_type": "stream",
          "text": [
            "Go to this URL in a browser: https://accounts.google.com/o/oauth2/auth?client_id=947318989803-6bn6qk8qdgf4n4g3pfee6491hc0brc4i.apps.googleusercontent.com&redirect_uri=urn%3Aietf%3Awg%3Aoauth%3A2.0%3Aoob&scope=email%20https%3A%2F%2Fwww.googleapis.com%2Fauth%2Fdocs.test%20https%3A%2F%2Fwww.googleapis.com%2Fauth%2Fdrive%20https%3A%2F%2Fwww.googleapis.com%2Fauth%2Fdrive.photos.readonly%20https%3A%2F%2Fwww.googleapis.com%2Fauth%2Fpeopleapi.readonly&response_type=code\n",
            "\n",
            "Enter your authorization code:\n",
            "··········\n",
            "Mounted at /content/drive\n",
            "CD.npy\tICD_dict.npy  map_abbreviation.npy  wikipedia-pubmed-and-PMC-w2v.bin\n"
          ],
          "name": "stdout"
        }
      ]
    },
    {
      "metadata": {
        "id": "qWolTlFGobHk",
        "colab_type": "code",
        "colab": {}
      },
      "cell_type": "code",
      "source": [
        "# Building vectors for CD\n",
        "prohibitedWords = ['other','unspecified','[any part, except buttock]','[any part, except face]','not elsewhere classified','part','parts','specific','region','site','sites','specified','Unspecified','Generalized','(s)','multiple','due to medical condition','type','initial encounter','subsequent encounter']\n",
        "big_regex = re.compile('|'.join(map(re.escape, prohibitedWords)))\n",
        "\n",
        "def onetimeclean(text):\n",
        "  x = wpt.tokenize(big_regex.sub(\"\", text.lower()))\n",
        "  x = [w for w in x if w not in list(STOPWORDS)+['(',')','[',']','-',\"'\",':',',','.','{','}','_']]\n",
        "  vect = np.array([np.zeros((200,)) if word not in model.wv.vocab else model.wv[word] for word in x])\n",
        "  if vect.shape[0]<11:\n",
        "    vect = np.vstack((vect,np.zeros((11-vect.shape[0],200))))\n",
        "  if vect.shape != (11,200): print(\"vector shape not consistent: {}\".format(text))\n",
        "  return vect\n",
        "\n",
        "#CD = np.array([onetimeclean(code) for code in dict(ICD_dict).values()])\n",
        "#np.save('/content/drive/My Drive/CCP-ICDsearch/CD.npy', CD)\n",
        "\n",
        "# Functions\n",
        "def clean(text):\n",
        "  x = wpt.tokenize(text.lower())\n",
        "  x = [w for w in x if w not in list(STOPWORDS)+['(',')','-',\"'\",':',',','.','{','}','_']]\n",
        "  x = [map_abbreviation[word] if word in list(map_abbreviation.keys()) else word for word in x]\n",
        "  x = list(set([spell.correction(word) if word not in model.wv.vocab else word for word in x ]))\n",
        "  vect = np.array([np.zeros((200,)) if word not in model.wv.vocab else model.wv[word] for word in x])\n",
        "  return vect"
      ],
      "execution_count": 0,
      "outputs": []
    },
    {
      "metadata": {
        "id": "fNA2o3sSoWF8",
        "colab_type": "code",
        "colab": {}
      },
      "cell_type": "code",
      "source": [
        "# Initializers\n",
        "model = KeyedVectors.load_word2vec_format('/content/drive/My Drive/CCP-ICDsearch/wikipedia-pubmed-and-PMC-w2v.bin', binary=True)\n",
        "wpt = nltk.WordPunctTokenizer()\n",
        "spell = SpellChecker()"
      ],
      "execution_count": 0,
      "outputs": []
    },
    {
      "metadata": {
        "id": "xxbGrrRwsTGW",
        "colab_type": "code",
        "colab": {}
      },
      "cell_type": "code",
      "source": [
        "# KB\n",
        "ICD_dict = np.load('/content/drive/My Drive/CCP-ICDsearch/ICD_dict.npy')\n",
        "ICD_dict = sorted(dict(ICD_dict).items(), key=lambda kv: kv[0])\n",
        "map_abbreviation = np.load('/content/drive/My Drive/CCP-ICDsearch/map_abbreviation.npy').item()\n",
        "#Build/process and save CD (n_icd=2185, fix_len_cd=11, emb_size=200): \n",
        "CD=np.load('/content/drive/My Drive/CCP-ICDsearch/CD.npy')\n"
      ],
      "execution_count": 0,
      "outputs": []
    },
    {
      "metadata": {
        "id": "9dXeOjAAr93F",
        "colab_type": "code",
        "outputId": "6014c040-f4db-49db-ea18-91ee25b2f51f",
        "colab": {
          "base_uri": "https://localhost:8080/",
          "height": 34
        }
      },
      "cell_type": "code",
      "source": [
        "search_term = \"cataract\"\n",
        "\n",
        "DD = clean(search_term)\n",
        "n = np.sum(np.dot(CD,DD.T),axis=(1,2))\n",
        "d1 = sum(np.diagonal(np.dot(DD,DD.T)))\n",
        "d2 = np.count_nonzero(np.sum(CD, axis=2), axis=1) + 0.00001\n",
        "out = n/(d1*d2)\n",
        "index = np.argsort(out)[-5:]\n",
        "scores = out[index]\n",
        "result = dict(np.array(ICD_dict)[index[::-1]])\n",
        "scores\n",
        "\n",
        "#out = operator.itemgetter(*list(n/(d1*d2))).argsort()[-15:][::-1])(ICD_dict)\n",
        "#out = dict(list(out))"
      ],
      "execution_count": 107,
      "outputs": [
        {
          "output_type": "execute_result",
          "data": {
            "text/plain": [
              "array([0.56317799, 0.57026045, 0.61312343, 0.99998989, 0.99998989])"
            ]
          },
          "metadata": {
            "tags": []
          },
          "execution_count": 107
        }
      ]
    },
    {
      "metadata": {
        "id": "3hd2KcG6sCiD",
        "colab_type": "code",
        "colab": {
          "base_uri": "https://localhost:8080/",
          "height": 34
        },
        "outputId": "4e9b218a-59d8-4daa-ced6-e9291ed4dd29"
      },
      "cell_type": "code",
      "source": [
        "print(np.dot(model.wv['right'],model.wv['left']))"
      ],
      "execution_count": 88,
      "outputs": [
        {
          "output_type": "stream",
          "text": [
            "7.696732\n"
          ],
          "name": "stdout"
        }
      ]
    },
    {
      "metadata": {
        "id": "DPBpUcJIsDQa",
        "colab_type": "code",
        "colab": {
          "base_uri": "https://localhost:8080/",
          "height": 34
        },
        "outputId": "33ead825-0b2e-4929-df1b-9aa5f3cff1af"
      },
      "cell_type": "code",
      "source": [
        "#list(dict(ICD_dict).keys()).index(\"M158\")\n",
        "#ICD_dict[278]\n",
        "#CD[278,:,:5]\n",
        "a= np.dot(model.wv['cataract'],model.wv['cataract'])\n",
        "b= np.dot(model.wv['cataract'],model.wv['left'])\n",
        "c= np.dot(model.wv['cataract'],model.wv['eye'])\n",
        "d= np.dot(model.wv['left'],model.wv['left'])\n",
        "e= np.dot(model.wv['eye'],model.wv['eye'])\n",
        "f = (a+b+c)\n",
        "g = 1*(e+d+a)\n",
        "print(f/g)\n"
      ],
      "execution_count": 94,
      "outputs": [
        {
          "output_type": "stream",
          "text": [
            "0.6547358392168938\n"
          ],
          "name": "stdout"
        }
      ]
    },
    {
      "metadata": {
        "id": "nxqD-vmbsDs8",
        "colab_type": "code",
        "colab": {
          "base_uri": "https://localhost:8080/",
          "height": 34
        },
        "outputId": "6c4a142e-9491-4747-9c67-58bdc79a0d06"
      },
      "cell_type": "code",
      "source": [
        "ICD_dict[0]"
      ],
      "execution_count": 69,
      "outputs": [
        {
          "output_type": "execute_result",
          "data": {
            "text/plain": [
              "('C180', 'Malignant neoplasm of cecum')"
            ]
          },
          "metadata": {
            "tags": []
          },
          "execution_count": 69
        }
      ]
    },
    {
      "metadata": {
        "id": "Dld0hvJyVxfw",
        "colab_type": "code",
        "colab": {}
      },
      "cell_type": "code",
      "source": [
        ""
      ],
      "execution_count": 0,
      "outputs": []
    }
  ]
}