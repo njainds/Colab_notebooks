{
  "nbformat": 4,
  "nbformat_minor": 0,
  "metadata": {
    "colab": {
      "name": "Untitled0.ipynb",
      "version": "0.3.2",
      "provenance": [],
      "include_colab_link": true
    },
    "kernelspec": {
      "name": "python3",
      "display_name": "Python 3"
    },
    "accelerator": "GPU"
  },
  "cells": [
    {
      "cell_type": "markdown",
      "metadata": {
        "id": "view-in-github",
        "colab_type": "text"
      },
      "source": [
        "<a href=\"https://colab.research.google.com/github/njainds/Colab_notebooks/blob/master/CCP_ICD10_Searchengine/CNNmodel_v3.0.ipynb\" target=\"_parent\"><img src=\"https://colab.research.google.com/assets/colab-badge.svg\" alt=\"Open In Colab\"/></a>"
      ]
    },
    {
      "metadata": {
        "id": "QYpecTXf_H6o",
        "colab_type": "code",
        "colab": {}
      },
      "cell_type": "code",
      "source": [
        "# Builf train and evaluate\n",
        "# Save model for offline scoring on test\n",
        "# Model name: CCP_ICD10_Searchengine/CNNmodel_v2.0.ipynb\n",
        "# References\n",
        "#https://github.com/njainds/Colab_notebooks/blob/master/Kaggle_Toxic_Comments/Model-2-keras_lstmConv.ipynb\n",
        "#https://github.com/njainds/NLP/blob/master/kaggle/QIQC/22nd%20Place%20Solution%20-%206%20models%20%2B%20POS%20tagging.ipynb\n",
        "#https://github.com/Cheneng/DPCNN/blob/master/model/DPCNN.py\n"
      ],
      "execution_count": 0,
      "outputs": []
    },
    {
      "metadata": {
        "id": "5AL5rrZqLghp",
        "colab_type": "code",
        "outputId": "9c231835-c66c-42d0-889a-9de52d7caa60",
        "colab": {
          "base_uri": "https://localhost:8080/",
          "height": 51
        }
      },
      "cell_type": "code",
      "source": [
        "import torch\n",
        "print(\"Name of GPU : {}\".format(torch.cuda.get_device_name(0)))\n",
        "print(\"# of GPU : {}\".format(torch.cuda.device_count()))\n"
      ],
      "execution_count": 0,
      "outputs": [
        {
          "output_type": "stream",
          "text": [
            "Name of GPU : Tesla K80\n",
            "# of GPU : 1\n"
          ],
          "name": "stdout"
        }
      ]
    },
    {
      "metadata": {
        "id": "0zRdXN9yo6k3",
        "colab_type": "code",
        "outputId": "434821dc-f705-4b97-85c5-40d9bee2d3dd",
        "colab": {
          "base_uri": "https://localhost:8080/",
          "height": 34
        }
      },
      "cell_type": "code",
      "source": [
        "\n",
        "import pandas as pd\n",
        "import string\n",
        "import time\n",
        "import random\n",
        "import pandas as pd\n",
        "import numpy as np\n",
        "import gc\n",
        "import re\n",
        "from tqdm import tqdm_notebook, tnrange\n",
        "from tqdm.auto import tqdm\n",
        "\n",
        "tqdm.pandas(desc='Progress')\n",
        "\n",
        "import os\n",
        "import keras\n",
        "from keras.preprocessing.text import Tokenizer\n",
        "from keras.utils import to_categorical\n",
        "from keras.preprocessing.sequence import pad_sequences\n",
        "from keras.layers import Dense, Input, LSTM, Embedding, Dropout, Activation, Conv1D, GRU, CuDNNGRU, CuDNNLSTM\n",
        "from keras.layers import Bidirectional, GlobalMaxPool1D, MaxPooling1D, Add, Flatten\n",
        "from keras.layers import GlobalAveragePooling1D, GlobalMaxPooling1D, concatenate, SpatialDropout1D\n",
        "from keras.layers import GRU, BatchNormalization, Conv1D, MaxPooling1D\n",
        "from keras.models import Model, load_model\n",
        "from keras import initializers, regularizers, constraints, optimizers, layers, callbacks\n",
        "from keras import backend as K\n",
        "from keras.engine import InputSpec, Layer\n",
        "from keras.optimizers import Adam, RMSprop\n",
        "from keras.callbacks import Callback, EarlyStopping, ModelCheckpoint, LearningRateScheduler\n",
        "from keras import callbacks\n",
        "\n",
        "# cross validation and metrics\n",
        "from  sklearn.feature_extraction.text import TfidfVectorizer\n",
        "from sklearn import model_selection,linear_model,metrics\n",
        "from sklearn.metrics import roc_auc_score\n",
        "from sklearn.model_selection import StratifiedKFold\n",
        "from sklearn.model_selection import train_test_split\n",
        "from sklearn.metrics import f1_score\n",
        "from torch.optim.optimizer import Optimizer\n",
        "from gensim.models.keyedvectors import KeyedVectors"
      ],
      "execution_count": 1,
      "outputs": [
        {
          "output_type": "stream",
          "text": [
            "Using TensorFlow backend.\n"
          ],
          "name": "stderr"
        }
      ]
    },
    {
      "metadata": {
        "id": "NhSwmpxVpCSx",
        "colab_type": "code",
        "outputId": "9ebb9c44-a598-4b93-91d0-b6ab062b9be9",
        "colab": {
          "base_uri": "https://localhost:8080/",
          "height": 190
        }
      },
      "cell_type": "code",
      "source": [
        "from google.colab import drive\n",
        "drive.mount('/content/drive')\n",
        "!ls \"/content/drive/My Drive/CCP-ICDsearch/desc-icd9-modeldata\""
      ],
      "execution_count": 2,
      "outputs": [
        {
          "output_type": "stream",
          "text": [
            "Go to this URL in a browser: https://accounts.google.com/o/oauth2/auth?client_id=947318989803-6bn6qk8qdgf4n4g3pfee6491hc0brc4i.apps.googleusercontent.com&redirect_uri=urn%3Aietf%3Awg%3Aoauth%3A2.0%3Aoob&scope=email%20https%3A%2F%2Fwww.googleapis.com%2Fauth%2Fdocs.test%20https%3A%2F%2Fwww.googleapis.com%2Fauth%2Fdrive%20https%3A%2F%2Fwww.googleapis.com%2Fauth%2Fdrive.photos.readonly%20https%3A%2F%2Fwww.googleapis.com%2Fauth%2Fpeopleapi.readonly&response_type=code\n",
            "\n",
            "Enter your authorization code:\n",
            "··········\n",
            "Mounted at /content/drive\n",
            "best_model.hdf5       model_data.csv   model_v2.0.json\ttrain_y.npy\n",
            "embedding_matrix.npy  model_v1.0.h5    test_X.npy\tword_index.npy\n",
            "icd_dict.npy\t      model_v1.0.json  test_y.npy\n",
            "mispell_dict.npy      model_v2.0.h5    train_X.npy\n"
          ],
          "name": "stdout"
        }
      ]
    },
    {
      "metadata": {
        "id": "OiHWhcY9SszU",
        "colab_type": "code",
        "colab": {}
      },
      "cell_type": "code",
      "source": [
        "os.chdir(\"/content/drive/My Drive/CCP-ICDsearch/desc-icd9-modeldata/\")\n",
        "x_train = np.load(\"train_X.npy\")\n",
        "x_test = np.load(\"test_X.npy\")\n",
        "y_train = np.load(\"train_y.npy\")\n",
        "y_test = np.load(\"test_y.npy\")\n",
        "features = np.load(\"test_y.npy\")\n",
        "icd_dict = np.load(\"icd_dict.npy\").item()\n",
        "word_index = np.load(\"word_index.npy\").item()\n",
        "embeddings = np.load(\"embedding_matrix.npy\")"
      ],
      "execution_count": 0,
      "outputs": []
    },
    {
      "metadata": {
        "id": "QwjoGzOR3m9H",
        "colab_type": "code",
        "colab": {}
      },
      "cell_type": "code",
      "source": [
        "class RocAucEvaluation(keras.callbacks.Callback):\n",
        "    def __init__(self, validation_data=(), interval=1):\n",
        "        super(Callback, self).__init__()\n",
        "        self.interval = interval\n",
        "        self.X_val, self.y_val = validation_data\n",
        "\n",
        "    def on_epoch_end(self, epoch, logs={}):\n",
        "        if epoch % self.interval == 0:\n",
        "            y_pred = self.model.predict(self.X_val, verbose=0)\n",
        "            score = roc_auc_score(self.y_val, y_pred)\n",
        "            print(\"\\n ROC-AUC - epoch: {:d} - score: {:.6f}\".format(epoch+1, score))\n",
        "\n",
        "          \n",
        "file_path = \"best_model.hdf5\"\n",
        "check_point = ModelCheckpoint(file_path, monitor = \"val_loss\", verbose = 1,save_best_only = True, mode = \"min\")\n",
        "ra_val = RocAucEvaluation(validation_data=(x_test, y_test), interval = 1)\n",
        "early_stop = EarlyStopping(monitor = \"val_loss\", mode = \"min\", patience = 5)"
      ],
      "execution_count": 0,
      "outputs": []
    },
    {
      "metadata": {
        "id": "D5xLwVe9Bw91",
        "colab_type": "code",
        "colab": {}
      },
      "cell_type": "code",
      "source": [
        "#configs\n",
        "max_features = embeddings.shape[0]\n",
        "maxlen = x_train.shape[1]\n",
        "embed_size = embeddings.shape[1]\n",
        "n_class = y_train.shape[1]"
      ],
      "execution_count": 0,
      "outputs": []
    },
    {
      "metadata": {
        "id": "lXiTe8F678Kg",
        "colab_type": "code",
        "outputId": "43981673-5601-4039-c962-9046821bf8ee",
        "colab": {
          "base_uri": "https://localhost:8080/",
          "height": 629
        }
      },
      "cell_type": "code",
      "source": [
        "del model\n",
        "inp = Input(shape=(maxlen,))\n",
        "x   = Embedding(max_features, embed_size, weights=[embeddings], trainable=True)(inp)\n",
        "x   = SpatialDropout1D(rate=0.2)(x)\n",
        "x1  = Conv1D(64, kernel_size=1, padding='valid', kernel_initializer='he_uniform')(x)\n",
        "x2  = Conv1D(64, kernel_size=2, padding='valid', kernel_initializer='he_uniform')(x)\n",
        "x3  = Conv1D(64, kernel_size=3, padding='valid', kernel_initializer='he_uniform')(x)\n",
        "x1  = GlobalMaxPooling1D()(x1)\n",
        "x2  = GlobalMaxPooling1D()(x2)\n",
        "x3  = GlobalMaxPooling1D()(x3)\n",
        "c   = concatenate([x1,x2,x3])\n",
        "y   = Dense(128, activation='relu')(c)\n",
        "y   = Dropout(0.5)(y)\n",
        "out = Dense(n_class, activation='softmax')(y)\n",
        "model=Model(inputs=inp,outputs=out)\n",
        "model.compile(loss='categorical_crossentropy', optimizer=Adam(lr=5e-4), metrics=[\"accuracy\"])\n",
        "print(model.summary())"
      ],
      "execution_count": 22,
      "outputs": [
        {
          "output_type": "stream",
          "text": [
            "__________________________________________________________________________________________________\n",
            "Layer (type)                    Output Shape         Param #     Connected to                     \n",
            "==================================================================================================\n",
            "input_9 (InputLayer)            (None, 6)            0                                            \n",
            "__________________________________________________________________________________________________\n",
            "embedding_9 (Embedding)         (None, 6, 200)       595400      input_9[0][0]                    \n",
            "__________________________________________________________________________________________________\n",
            "spatial_dropout1d_9 (SpatialDro (None, 6, 200)       0           embedding_9[0][0]                \n",
            "__________________________________________________________________________________________________\n",
            "conv1d_25 (Conv1D)              (None, 6, 64)        12864       spatial_dropout1d_9[0][0]        \n",
            "__________________________________________________________________________________________________\n",
            "conv1d_26 (Conv1D)              (None, 5, 64)        25664       spatial_dropout1d_9[0][0]        \n",
            "__________________________________________________________________________________________________\n",
            "conv1d_27 (Conv1D)              (None, 4, 64)        38464       spatial_dropout1d_9[0][0]        \n",
            "__________________________________________________________________________________________________\n",
            "global_max_pooling1d_25 (Global (None, 64)           0           conv1d_25[0][0]                  \n",
            "__________________________________________________________________________________________________\n",
            "global_max_pooling1d_26 (Global (None, 64)           0           conv1d_26[0][0]                  \n",
            "__________________________________________________________________________________________________\n",
            "global_max_pooling1d_27 (Global (None, 64)           0           conv1d_27[0][0]                  \n",
            "__________________________________________________________________________________________________\n",
            "concatenate_9 (Concatenate)     (None, 192)          0           global_max_pooling1d_25[0][0]    \n",
            "                                                                 global_max_pooling1d_26[0][0]    \n",
            "                                                                 global_max_pooling1d_27[0][0]    \n",
            "__________________________________________________________________________________________________\n",
            "dense_17 (Dense)                (None, 128)          24704       concatenate_9[0][0]              \n",
            "__________________________________________________________________________________________________\n",
            "dropout_9 (Dropout)             (None, 128)          0           dense_17[0][0]                   \n",
            "__________________________________________________________________________________________________\n",
            "dense_18 (Dense)                (None, 126)          16254       dropout_9[0][0]                  \n",
            "==================================================================================================\n",
            "Total params: 713,350\n",
            "Trainable params: 713,350\n",
            "Non-trainable params: 0\n",
            "__________________________________________________________________________________________________\n",
            "None\n"
          ],
          "name": "stdout"
        }
      ]
    },
    {
      "metadata": {
        "id": "VaWv1RBN7_ER",
        "colab_type": "code",
        "outputId": "0c3aed80-9f7e-477a-c4ab-fb8524797715",
        "colab": {
          "base_uri": "https://localhost:8080/",
          "height": 663
        }
      },
      "cell_type": "code",
      "source": [
        "gc.collect()\n",
        "model.fit(x_train, y_train, batch_size = 16, epochs = 6, validation_data = (x_test, y_test), verbose = 1, callbacks = [ra_val, check_point, early_stop])\n"
      ],
      "execution_count": 23,
      "outputs": [
        {
          "output_type": "stream",
          "text": [
            "Train on 7834 samples, validate on 871 samples\n",
            "Epoch 1/6\n",
            "7834/7834 [==============================] - 6s 720us/step - loss: 3.8799 - acc: 0.1963 - val_loss: 2.5184 - val_acc: 0.4374\n",
            "\n",
            " ROC-AUC - epoch: 1 - score: 0.963427\n",
            "\n",
            "Epoch 00001: val_loss did not improve from 0.71041\n",
            "Epoch 2/6\n",
            "7834/7834 [==============================] - 4s 558us/step - loss: 2.2952 - acc: 0.4728 - val_loss: 1.4364 - val_acc: 0.6739\n",
            "\n",
            " ROC-AUC - epoch: 2 - score: 0.985817\n",
            "\n",
            "Epoch 00002: val_loss did not improve from 0.71041\n",
            "Epoch 3/6\n",
            "7834/7834 [==============================] - 4s 555us/step - loss: 1.5691 - acc: 0.6162 - val_loss: 1.0553 - val_acc: 0.7600\n",
            "\n",
            " ROC-AUC - epoch: 3 - score: 0.990148\n",
            "\n",
            "Epoch 00003: val_loss did not improve from 0.71041\n",
            "Epoch 4/6\n",
            "7834/7834 [==============================] - 4s 558us/step - loss: 1.1958 - acc: 0.6959 - val_loss: 0.9009 - val_acc: 0.7853\n",
            "\n",
            " ROC-AUC - epoch: 4 - score: 0.992016\n",
            "\n",
            "Epoch 00004: val_loss did not improve from 0.71041\n",
            "Epoch 5/6\n",
            "7834/7834 [==============================] - 4s 557us/step - loss: 0.9469 - acc: 0.7595 - val_loss: 0.8029 - val_acc: 0.7991\n",
            "\n",
            " ROC-AUC - epoch: 5 - score: 0.993068\n",
            "\n",
            "Epoch 00005: val_loss did not improve from 0.71041\n",
            "Epoch 6/6\n",
            "7834/7834 [==============================] - 4s 553us/step - loss: 0.8159 - acc: 0.7910 - val_loss: 0.7467 - val_acc: 0.8117\n",
            "\n",
            " ROC-AUC - epoch: 6 - score: 0.993635\n",
            "\n",
            "Epoch 00006: val_loss did not improve from 0.71041\n"
          ],
          "name": "stdout"
        },
        {
          "output_type": "execute_result",
          "data": {
            "text/plain": [
              "<keras.callbacks.History at 0x7efbf4b30b70>"
            ]
          },
          "metadata": {
            "tags": []
          },
          "execution_count": 23
        }
      ]
    },
    {
      "metadata": {
        "id": "6DLYUM3s8DDo",
        "colab_type": "code",
        "outputId": "72cf31ac-9e95-4f14-d228-47725404bdd6",
        "colab": {
          "base_uri": "https://localhost:8080/",
          "height": 85
        }
      },
      "cell_type": "code",
      "source": [
        "#itoicd = dict((v,k) for k,v in icd_dict.items())\n",
        "test_pred = np.argmax(model.predict(x_test, batch_size = 16, verbose = 1), axis=1)\n",
        "test_act = np.argmax(y_test, axis=1)\n",
        "trn_pred = np.argmax(model.predict(x_train, batch_size = 16, verbose = 1), axis=1)\n",
        "trn_act = np.argmax(y_train, axis=1)\n",
        "\n",
        "print(\"Accuracy on val dataset is {}\".format(sum(test_act==test_pred)/test_pred.shape[0]))\n",
        "print(\"Accuracy on trn dataset is {}\".format(sum(trn_act==trn_pred)/trn_pred.shape[0]))"
      ],
      "execution_count": 24,
      "outputs": [
        {
          "output_type": "stream",
          "text": [
            "871/871 [==============================] - 0s 135us/step\n",
            "7834/7834 [==============================] - 1s 116us/step\n",
            "Accuracy on val dataset is 0.8117106773823192\n",
            "Accuracy on trn dataset is 0.9098800102118969\n"
          ],
          "name": "stdout"
        }
      ]
    },
    {
      "metadata": {
        "id": "vvc7MWcyLwue",
        "colab_type": "code",
        "outputId": "21057571-ceb4-4d53-ff13-66453898a03b",
        "colab": {
          "base_uri": "https://localhost:8080/",
          "height": 34
        }
      },
      "cell_type": "code",
      "source": [
        "# Saving Model\n",
        "# serialize model to JSON\n",
        "model_json = model.to_json()\n",
        "with open(\"model_v3.0.json\", \"w\") as json_file:\n",
        "    json_file.write(model_json)\n",
        "# serialize weights to HDF5\n",
        "model.save_weights(\"model_v3.0.h5\")\n",
        "print(\"Saved model 3 to disk\")\n",
        " \n",
        "# later...\n",
        " "
      ],
      "execution_count": 25,
      "outputs": [
        {
          "output_type": "stream",
          "text": [
            "Saved model 3 to disk\n"
          ],
          "name": "stdout"
        }
      ]
    },
    {
      "metadata": {
        "id": "cj0mhWJ0Qg2R",
        "colab_type": "code",
        "colab": {}
      },
      "cell_type": "code",
      "source": [
        "# load json and create model\n",
        "json_file = open('model_v3.0.json', 'r')\n",
        "loaded_model_json = json_file.read()\n",
        "json_file.close()\n",
        "loaded_model = model_from_json(loaded_model_json)\n",
        "# load weights into new model\n",
        "loaded_model.load_weights(\"model_v3.0.h5\")\n",
        "print(\"Loaded model from disk\")\n",
        " \n",
        "# evaluate loaded model on test data\n",
        "loaded_model.compile(loss='categorical_crossentropy', optimizer=Adam(lr=5e-4), metrics=[\"accuracy\"])\n",
        "score = np.argmax(loaded_model.predict(DATASET, batch_size = 16, verbose = 1), axis=1)"
      ],
      "execution_count": 0,
      "outputs": []
    }
  ]
}