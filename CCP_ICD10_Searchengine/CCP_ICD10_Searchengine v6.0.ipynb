{
  "nbformat": 4,
  "nbformat_minor": 0,
  "metadata": {
    "colab": {
      "name": "CCP_ICD10_Searchengine",
      "version": "0.3.2",
      "provenance": [],
      "collapsed_sections": [],
      "toc_visible": true,
      "include_colab_link": true
    },
    "kernelspec": {
      "name": "python3",
      "display_name": "Python 3"
    },
    "accelerator": "GPU"
  },
  "cells": [
    {
      "cell_type": "markdown",
      "metadata": {
        "id": "view-in-github",
        "colab_type": "text"
      },
      "source": [
        "<a href=\"https://colab.research.google.com/github/njainds/Colab_notebooks/blob/master/CCP_ICD10_Searchengine%20v6.0.ipynb\" target=\"_parent\"><img src=\"https://colab.research.google.com/assets/colab-badge.svg\" alt=\"Open In Colab\"/></a>"
      ]
    },
    {
      "metadata": {
        "colab_type": "code",
        "id": "oYZkU7ZN3CL0",
        "outputId": "9bf612f9-8255-4072-86c2-f52ced1d53ab",
        "colab": {
          "base_uri": "https://localhost:8080/",
          "height": 34
        }
      },
      "cell_type": "code",
      "source": [
        "# requirements\n",
        "import nltk\n",
        "import numpy as np\n",
        "import pandas as pd\n",
        "pd.set_option('display.max_colwidth', -1)\n",
        "pd.set_option('colheader_justify', 'left')\n",
        "import requests\n",
        "import operator\n",
        "import flask\n",
        "from keras.preprocessing.text import Tokenizer\n",
        "import re\n",
        "import string\n",
        "from wordcloud import STOPWORDS\n",
        "! pip install pyspellchecker\n",
        "from spellchecker import SpellChecker\n",
        "from gensim.models.keyedvectors import KeyedVectors\n",
        "import warnings\n",
        "warnings.filterwarnings('ignore')\n"
      ],
      "execution_count": 162,
      "outputs": [
        {
          "output_type": "stream",
          "text": [
            "Requirement already satisfied: pyspellchecker in /usr/local/lib/python3.6/dist-packages (0.3.0)\n"
          ],
          "name": "stdout"
        }
      ]
    },
    {
      "metadata": {
        "id": "Effl8aLur6bM",
        "colab_type": "code",
        "colab": {
          "base_uri": "https://localhost:8080/",
          "height": 139
        },
        "outputId": "77c1bee6-749b-44c1-bee8-6965ae5f32e1"
      },
      "cell_type": "code",
      "source": [
        "from google.colab import drive\n",
        "drive.mount('/content/drive')\n",
        "!ls \"/content/drive/My Drive/CCP-ICDsearch\""
      ],
      "execution_count": 2,
      "outputs": [
        {
          "output_type": "stream",
          "text": [
            "Go to this URL in a browser: https://accounts.google.com/o/oauth2/auth?client_id=947318989803-6bn6qk8qdgf4n4g3pfee6491hc0brc4i.apps.googleusercontent.com&redirect_uri=urn%3Aietf%3Awg%3Aoauth%3A2.0%3Aoob&scope=email%20https%3A%2F%2Fwww.googleapis.com%2Fauth%2Fdocs.test%20https%3A%2F%2Fwww.googleapis.com%2Fauth%2Fdrive%20https%3A%2F%2Fwww.googleapis.com%2Fauth%2Fdrive.photos.readonly%20https%3A%2F%2Fwww.googleapis.com%2Fauth%2Fpeopleapi.readonly&response_type=code\n",
            "\n",
            "Enter your authorization code:\n",
            "··········\n",
            "Mounted at /content/drive\n",
            "CD.npy\tICD_dict.npy  map_abbreviation.npy  wikipedia-pubmed-and-PMC-w2v.bin\n"
          ],
          "name": "stdout"
        }
      ]
    },
    {
      "metadata": {
        "id": "qWolTlFGobHk",
        "colab_type": "code",
        "colab": {}
      },
      "cell_type": "code",
      "source": [
        "# Building vectors for CD\n",
        "prohibitedWords = ['other','unspecified','cause','[any part, except buttock]','[any part, except face]','not elsewhere classified','part','parts','specific','region','site','sites','specified','Unspecified','Generalized','(s)','multiple','due to medical condition','type','initial encounter','subsequent encounter']\n",
        "big_regex = re.compile('|'.join(map(re.escape, prohibitedWords)))\n",
        "\n",
        "def onetimeclean(text):\n",
        "  x = wpt.tokenize(big_regex.sub(\"\", text.lower()))\n",
        "  x = [w for w in x if w not in list(STOPWORDS)+['(',')','[',']','-',\"'\",':',',','.','{','}','_']]\n",
        "  vect = np.array([np.zeros((200,)) if word not in model.wv.vocab else model.wv[word] for word in x])\n",
        "  if vect.shape[0]<11:\n",
        "    vect = np.vstack((vect,np.zeros((11-vect.shape[0],200))))\n",
        "  if vect.shape != (11,200): print(\"vector shape not consistent: {}\".format(text))\n",
        "  return vect\n",
        "\n",
        "#CD = np.array([onetimeclean(code) for code in dict(ICD_dict).values()])\n",
        "#np.save('/content/drive/My Drive/CCP-ICDsearch/CD.npy', CD)\n",
        "\n",
        "# Functions\n",
        "def clean(text):\n",
        "  x = wpt.tokenize(text.lower())\n",
        "  x = [w for w in x if w not in list(STOPWORDS)+['(',')','-',\"'\",':',',','.','{','}','_']]\n",
        "  x = [map_abbreviation[word] if word in list(map_abbreviation.keys()) else word for word in x]\n",
        "  x = list(set([spell.correction(word) if word not in model.wv.vocab else word for word in x ]))\n",
        "  vect = np.array([np.zeros((200,)) if word not in model.wv.vocab else model.wv[word] for word in x])\n",
        "  return vect"
      ],
      "execution_count": 0,
      "outputs": []
    },
    {
      "metadata": {
        "id": "fNA2o3sSoWF8",
        "colab_type": "code",
        "colab": {}
      },
      "cell_type": "code",
      "source": [
        "# Initializers\n",
        "model = KeyedVectors.load_word2vec_format('/content/drive/My Drive/CCP-ICDsearch/wikipedia-pubmed-and-PMC-w2v.bin', binary=True)\n",
        "wpt = nltk.WordPunctTokenizer()\n",
        "spell = SpellChecker()"
      ],
      "execution_count": 0,
      "outputs": []
    },
    {
      "metadata": {
        "id": "xxbGrrRwsTGW",
        "colab_type": "code",
        "colab": {}
      },
      "cell_type": "code",
      "source": [
        "# KB\n",
        "ICD_dict = np.load('/content/drive/My Drive/CCP-ICDsearch/ICD_dict.npy')\n",
        "ICD_dict = sorted(dict(ICD_dict).items(), key=lambda kv: kv[0])\n",
        "map_abbreviation = np.load('/content/drive/My Drive/CCP-ICDsearch/map_abbreviation.npy').item()\n",
        "#Build/process and save CD (n_icd=2185, fix_len_cd=11, emb_size=200): \n",
        "CD=np.load('/content/drive/My Drive/CCP-ICDsearch/CD.npy')\n"
      ],
      "execution_count": 0,
      "outputs": []
    },
    {
      "metadata": {
        "id": "9dXeOjAAr93F",
        "colab_type": "code",
        "outputId": "c7943fb8-7141-4b5f-a8bb-b46fffb861f8",
        "colab": {
          "base_uri": "https://localhost:8080/",
          "height": 266
        }
      },
      "cell_type": "code",
      "source": [
        "search_term = \"cervical\"\n",
        "\n",
        "DD = clean(search_term)\n",
        "n = np.sum(np.dot(CD,DD.T),axis=(1,2))\n",
        "d1 = sum(np.diagonal(np.dot(DD,DD.T)))\n",
        "d2 = np.count_nonzero(np.sum(CD, axis=2), axis=1) + 0.00001\n",
        "out = n/(d1*d2)\n",
        "index = np.argsort(out)[-7:]\n",
        "scores = out[index[::-1]]\n",
        "result = np.array(ICD_dict)[index[::-1]]\n",
        "df = pd.DataFrame(result,scores*100)\n",
        "df.reset_index(level=0, inplace=True)\n",
        "df.columns = ['Confidence','ICD-10','Description']\n",
        "df['Confidence']=df['Confidence'].apply(lambda x: round(x,2))\n",
        "df"
      ],
      "execution_count": 164,
      "outputs": [
        {
          "output_type": "execute_result",
          "data": {
            "text/html": [
              "<div>\n",
              "<style scoped>\n",
              "    .dataframe tbody tr th:only-of-type {\n",
              "        vertical-align: middle;\n",
              "    }\n",
              "\n",
              "    .dataframe tbody tr th {\n",
              "        vertical-align: top;\n",
              "    }\n",
              "\n",
              "    .dataframe thead th {\n",
              "        text-align: right;\n",
              "    }\n",
              "</style>\n",
              "<table border=\"1\" class=\"dataframe\">\n",
              "  <thead>\n",
              "    <tr style=\"text-align: left;\">\n",
              "      <th></th>\n",
              "      <th>Confidence</th>\n",
              "      <th>ICD-10</th>\n",
              "      <th>Description</th>\n",
              "    </tr>\n",
              "  </thead>\n",
              "  <tbody>\n",
              "    <tr>\n",
              "      <th>0</th>\n",
              "      <td>63.65</td>\n",
              "      <td>M4802</td>\n",
              "      <td>Spinal stenosis, cervical region</td>\n",
              "    </tr>\n",
              "    <tr>\n",
              "      <th>1</th>\n",
              "      <td>55.97</td>\n",
              "      <td>M9961</td>\n",
              "      <td>Osseous and subluxation stenosis of intervertebral foramina of cervical region</td>\n",
              "    </tr>\n",
              "    <tr>\n",
              "      <th>2</th>\n",
              "      <td>54.10</td>\n",
              "      <td>S93439D</td>\n",
              "      <td>Sprain of tibiofibular ligament of unspecified ankle, subsequent encounter</td>\n",
              "    </tr>\n",
              "    <tr>\n",
              "      <th>3</th>\n",
              "      <td>54.10</td>\n",
              "      <td>S93439A</td>\n",
              "      <td>Sprain of tibiofibular ligament of unspecified ankle, initial encounter</td>\n",
              "    </tr>\n",
              "    <tr>\n",
              "      <th>4</th>\n",
              "      <td>52.98</td>\n",
              "      <td>M9963</td>\n",
              "      <td>Osseous and subluxation stenosis of intervertebral foramina of lumbar region</td>\n",
              "    </tr>\n",
              "    <tr>\n",
              "      <th>5</th>\n",
              "      <td>52.87</td>\n",
              "      <td>S4350XD</td>\n",
              "      <td>Sprain of unspecified acromioclavicular joint, subsequent encounter</td>\n",
              "    </tr>\n",
              "    <tr>\n",
              "      <th>6</th>\n",
              "      <td>52.87</td>\n",
              "      <td>S4350XA</td>\n",
              "      <td>Sprain of unspecified acromioclavicular joint, initial encounter</td>\n",
              "    </tr>\n",
              "  </tbody>\n",
              "</table>\n",
              "</div>"
            ],
            "text/plain": [
              "   Confidence ICD-10    \\\n",
              "0  63.65       M4802     \n",
              "1  55.97       M9961     \n",
              "2  54.10       S93439D   \n",
              "3  54.10       S93439A   \n",
              "4  52.98       M9963     \n",
              "5  52.87       S4350XD   \n",
              "6  52.87       S4350XA   \n",
              "\n",
              "  Description                                                                      \n",
              "0  Spinal stenosis, cervical region                                                \n",
              "1  Osseous and subluxation stenosis of intervertebral foramina of cervical region  \n",
              "2  Sprain of tibiofibular ligament of unspecified ankle, subsequent encounter      \n",
              "3  Sprain of tibiofibular ligament of unspecified ankle, initial encounter         \n",
              "4  Osseous and subluxation stenosis of intervertebral foramina of lumbar region    \n",
              "5  Sprain of unspecified acromioclavicular joint, subsequent encounter             \n",
              "6  Sprain of unspecified acromioclavicular joint, initial encounter                "
            ]
          },
          "metadata": {
            "tags": []
          },
          "execution_count": 164
        }
      ]
    },
    {
      "metadata": {
        "id": "3hd2KcG6sCiD",
        "colab_type": "code",
        "colab": {}
      },
      "cell_type": "code",
      "source": [
        ""
      ],
      "execution_count": 0,
      "outputs": []
    }
  ]
}