{
  "nbformat": 4,
  "nbformat_minor": 0,
  "metadata": {
    "colab": {
      "name": "CCP_ICD10_Searchengine",
      "version": "0.3.2",
      "provenance": [],
      "collapsed_sections": [],
      "toc_visible": true,
      "include_colab_link": true
    },
    "kernelspec": {
      "name": "python3",
      "display_name": "Python 3"
    },
    "accelerator": "GPU"
  },
  "cells": [
    {
      "cell_type": "markdown",
      "metadata": {
        "id": "view-in-github",
        "colab_type": "text"
      },
      "source": [
        "<a href=\"https://colab.research.google.com/github/njainds/Colab_notebooks/blob/master/CCP_ICD10_Searchengine%20v7.0.ipynb\" target=\"_parent\"><img src=\"https://colab.research.google.com/assets/colab-badge.svg\" alt=\"Open In Colab\"/></a>"
      ]
    },
    {
      "metadata": {
        "colab_type": "code",
        "id": "oYZkU7ZN3CL0",
        "outputId": "d774f1bb-ef76-4f13-f1a3-807db336803d",
        "colab": {
          "base_uri": "https://localhost:8080/",
          "height": 139
        }
      },
      "cell_type": "code",
      "source": [
        "# requirements\n",
        "import nltk\n",
        "import numpy as np\n",
        "import pandas as pd\n",
        "pd.set_option('display.max_colwidth', -1)\n",
        "pd.set_option('colheader_justify', 'left')\n",
        "import requests\n",
        "import operator\n",
        "import flask\n",
        "from keras.preprocessing.text import Tokenizer\n",
        "import re\n",
        "import string\n",
        "from wordcloud import STOPWORDS\n",
        "! pip install pyspellchecker\n",
        "from spellchecker import SpellChecker\n",
        "from gensim.models.keyedvectors import KeyedVectors\n",
        "import warnings\n",
        "warnings.filterwarnings('ignore')\n"
      ],
      "execution_count": 1,
      "outputs": [
        {
          "output_type": "stream",
          "text": [
            "Using TensorFlow backend.\n"
          ],
          "name": "stderr"
        },
        {
          "output_type": "stream",
          "text": [
            "Collecting pyspellchecker\n",
            "\u001b[?25l  Downloading https://files.pythonhosted.org/packages/79/ab/5f68d1e2739f920b953e5ea5141e1dc79ae63cf02f3a91450d96ea34d560/pyspellchecker-0.3.1-py3-none-any.whl (1.9MB)\n",
            "\u001b[K    100% |████████████████████████████████| 1.9MB 16.8MB/s \n",
            "\u001b[?25hInstalling collected packages: pyspellchecker\n",
            "Successfully installed pyspellchecker-0.3.1\n"
          ],
          "name": "stdout"
        }
      ]
    },
    {
      "metadata": {
        "id": "Effl8aLur6bM",
        "colab_type": "code",
        "outputId": "e937aeb6-b031-47e2-a285-158a8ac759d7",
        "colab": {
          "base_uri": "https://localhost:8080/",
          "height": 139
        }
      },
      "cell_type": "code",
      "source": [
        "from google.colab import drive\n",
        "drive.mount('/content/drive')\n",
        "!ls \"/content/drive/My Drive/CCP-ICDsearch\""
      ],
      "execution_count": 2,
      "outputs": [
        {
          "output_type": "stream",
          "text": [
            "Go to this URL in a browser: https://accounts.google.com/o/oauth2/auth?client_id=947318989803-6bn6qk8qdgf4n4g3pfee6491hc0brc4i.apps.googleusercontent.com&redirect_uri=urn%3Aietf%3Awg%3Aoauth%3A2.0%3Aoob&scope=email%20https%3A%2F%2Fwww.googleapis.com%2Fauth%2Fdocs.test%20https%3A%2F%2Fwww.googleapis.com%2Fauth%2Fdrive%20https%3A%2F%2Fwww.googleapis.com%2Fauth%2Fdrive.photos.readonly%20https%3A%2F%2Fwww.googleapis.com%2Fauth%2Fpeopleapi.readonly&response_type=code\n",
            "\n",
            "Enter your authorization code:\n",
            "··········\n",
            "Mounted at /content/drive\n",
            "CD.npy\tICD_dict.npy  map_abbreviation.npy  wikipedia-pubmed-and-PMC-w2v.bin\n"
          ],
          "name": "stdout"
        }
      ]
    },
    {
      "metadata": {
        "id": "qWolTlFGobHk",
        "colab_type": "code",
        "colab": {}
      },
      "cell_type": "code",
      "source": [
        "# Functions\n",
        "def clean(text):\n",
        "  x = wpt.tokenize(text.lower())\n",
        "  x = [w for w in x if w not in list(STOPWORDS)+['(',')','-',\"'\",':',',','.','{','}','_']]\n",
        "  x = [map_abbreviation[word] if word in list(map_abbreviation.keys()) else word for word in x]\n",
        "  x = list(set([spell.correction(word) if word not in model.wv.vocab else word for word in x ]))\n",
        "  vect = np.array([np.zeros((200,)) if word not in model.wv.vocab else model.wv[word] for word in x])\n",
        "  return vect"
      ],
      "execution_count": 0,
      "outputs": []
    },
    {
      "metadata": {
        "id": "fNA2o3sSoWF8",
        "colab_type": "code",
        "colab": {}
      },
      "cell_type": "code",
      "source": [
        "# Initializers\n",
        "\n",
        "model = KeyedVectors.load_word2vec_format('/content/drive/My Drive/CCP-ICDsearch/wikipedia-pubmed-and-PMC-w2v.bin', binary=True)\n",
        "wpt = nltk.WordPunctTokenizer()\n",
        "spell = SpellChecker()\n"
      ],
      "execution_count": 0,
      "outputs": []
    },
    {
      "metadata": {
        "id": "xxbGrrRwsTGW",
        "colab_type": "code",
        "colab": {}
      },
      "cell_type": "code",
      "source": [
        "# KB\n",
        "def load_KB():\n",
        "    ICD_dict = np.load('/content/drive/My Drive/CCP-ICDsearch/ICD_dict.npy')\n",
        "    ICD_dict = sorted(dict(ICD_dict).items(), key=lambda kv: kv[0])\n",
        "    map_abbreviation = np.load('/content/drive/My Drive/CCP-ICDsearch/map_abbreviation.npy').item()\n",
        "    CD=np.load('/content/drive/My Drive/CCP-ICDsearch/CD.npy')\n",
        "    return ICD_dict, CD, map_abbreviation\n",
        "  "
      ],
      "execution_count": 0,
      "outputs": []
    },
    {
      "metadata": {
        "id": "9dXeOjAAr93F",
        "colab_type": "code",
        "colab": {}
      },
      "cell_type": "code",
      "source": [
        "def get_result(search_term):\n",
        "    DD = clean(search_term)\n",
        "    out = np.dot(np.mean(CD,axis=1),(np.mean(DD,axis=0)).T)\n",
        "    #d1 = sum(np.diagonal(np.dot(DD,DD.T)))\n",
        "    #d2 = np.count_nonzero(np.sum(CD, axis=2), axis=1) + 0.00001\n",
        "    #out = n/(d1*d2)\n",
        "    index = np.argsort(out)[-7:]\n",
        "    scores = out[index[::-1]]\n",
        "    result = np.array(ICD_dict)[index[::-1]]\n",
        "    df = pd.DataFrame(result,scores*100)\n",
        "    df.reset_index(level=0, inplace=True)\n",
        "    df.columns = ['Confidence','ICD-10','Description']\n",
        "    df['Confidence']=df['Confidence'].apply(lambda x: round(x,2))\n",
        "    return df"
      ],
      "execution_count": 0,
      "outputs": []
    },
    {
      "metadata": {
        "id": "3hd2KcG6sCiD",
        "colab_type": "code",
        "colab": {
          "base_uri": "https://localhost:8080/",
          "height": 266
        },
        "outputId": "fc94b887-c48f-4a67-bfa8-dff37d8c3bc9"
      },
      "cell_type": "code",
      "source": [
        "#initialise()\n",
        "ICD_dict, CD, map_abbreviation = load_KB()\n",
        "df = get_result(\"catract in left eye\")\n",
        "df"
      ],
      "execution_count": 18,
      "outputs": [
        {
          "output_type": "execute_result",
          "data": {
            "text/html": [
              "<div>\n",
              "<style scoped>\n",
              "    .dataframe tbody tr th:only-of-type {\n",
              "        vertical-align: middle;\n",
              "    }\n",
              "\n",
              "    .dataframe tbody tr th {\n",
              "        vertical-align: top;\n",
              "    }\n",
              "\n",
              "    .dataframe thead th {\n",
              "        text-align: right;\n",
              "    }\n",
              "</style>\n",
              "<table border=\"1\" class=\"dataframe\">\n",
              "  <thead>\n",
              "    <tr style=\"text-align: left;\">\n",
              "      <th></th>\n",
              "      <th>Confidence</th>\n",
              "      <th>ICD-10</th>\n",
              "      <th>Description</th>\n",
              "    </tr>\n",
              "  </thead>\n",
              "  <tbody>\n",
              "    <tr>\n",
              "      <th>0</th>\n",
              "      <td>176.79</td>\n",
              "      <td>H59022</td>\n",
              "      <td>Cataract (lens) fragments in eye following cataract surgery, left eye</td>\n",
              "    </tr>\n",
              "    <tr>\n",
              "      <th>1</th>\n",
              "      <td>175.97</td>\n",
              "      <td>H59021</td>\n",
              "      <td>Cataract (lens) fragments in eye following cataract surgery, right eye</td>\n",
              "    </tr>\n",
              "    <tr>\n",
              "      <th>2</th>\n",
              "      <td>158.16</td>\n",
              "      <td>M23212</td>\n",
              "      <td>Derangement of anterior horn of medial meniscus due to old tear or injury, left knee</td>\n",
              "    </tr>\n",
              "    <tr>\n",
              "      <th>3</th>\n",
              "      <td>157.63</td>\n",
              "      <td>M23242</td>\n",
              "      <td>Derangement of anterior horn of lateral meniscus due to old tear or injury, left knee</td>\n",
              "    </tr>\n",
              "    <tr>\n",
              "      <th>4</th>\n",
              "      <td>157.34</td>\n",
              "      <td>M23211</td>\n",
              "      <td>Derangement of anterior horn of medial meniscus due to old tear or injury, right knee</td>\n",
              "    </tr>\n",
              "    <tr>\n",
              "      <th>5</th>\n",
              "      <td>156.81</td>\n",
              "      <td>M23241</td>\n",
              "      <td>Derangement of anterior horn of lateral meniscus due to old tear or injury, right knee</td>\n",
              "    </tr>\n",
              "    <tr>\n",
              "      <th>6</th>\n",
              "      <td>155.34</td>\n",
              "      <td>H59032</td>\n",
              "      <td>Cystoid macular edema following cataract surgery, left eye</td>\n",
              "    </tr>\n",
              "  </tbody>\n",
              "</table>\n",
              "</div>"
            ],
            "text/plain": [
              "   Confidence ICD-10   \\\n",
              "0  176.79      H59022   \n",
              "1  175.97      H59021   \n",
              "2  158.16      M23212   \n",
              "3  157.63      M23242   \n",
              "4  157.34      M23211   \n",
              "5  156.81      M23241   \n",
              "6  155.34      H59032   \n",
              "\n",
              "  Description                                                                              \n",
              "0  Cataract (lens) fragments in eye following cataract surgery, left eye                   \n",
              "1  Cataract (lens) fragments in eye following cataract surgery, right eye                  \n",
              "2  Derangement of anterior horn of medial meniscus due to old tear or injury, left knee    \n",
              "3  Derangement of anterior horn of lateral meniscus due to old tear or injury, left knee   \n",
              "4  Derangement of anterior horn of medial meniscus due to old tear or injury, right knee   \n",
              "5  Derangement of anterior horn of lateral meniscus due to old tear or injury, right knee  \n",
              "6  Cystoid macular edema following cataract surgery, left eye                              "
            ]
          },
          "metadata": {
            "tags": []
          },
          "execution_count": 18
        }
      ]
    }
  ]
}