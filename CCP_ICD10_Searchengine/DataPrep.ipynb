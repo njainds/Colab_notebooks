{
  "nbformat": 4,
  "nbformat_minor": 0,
  "metadata": {
    "colab": {
      "name": "Untitled0.ipynb",
      "version": "0.3.2",
      "provenance": [],
      "include_colab_link": true
    },
    "kernelspec": {
      "name": "python3",
      "display_name": "Python 3"
    },
    "accelerator": "GPU"
  },
  "cells": [
    {
      "cell_type": "markdown",
      "metadata": {
        "id": "view-in-github",
        "colab_type": "text"
      },
      "source": [
        "<a href=\"https://colab.research.google.com/github/njainds/Colab_notebooks/blob/master/CCP_ICD10_Searchengine/DataPrep.ipynb\" target=\"_parent\"><img src=\"https://colab.research.google.com/assets/colab-badge.svg\" alt=\"Open In Colab\"/></a>"
      ]
    },
    {
      "metadata": {
        "id": "QYpecTXf_H6o",
        "colab_type": "code",
        "colab": {}
      },
      "cell_type": "code",
      "source": [
        "# Data Preparation\n",
        "#Cleaning: Spellchecks, lemma\n",
        "#Create embedding matrix, missing embedding imputation\n",
        "\n",
        "# Build tokenizer and vocab\n",
        "# create test and train with sequence\n",
        "\n",
        "# Builf train and evaluate\n",
        "\n",
        "# Save model for offline scoring on test"
      ],
      "execution_count": 0,
      "outputs": []
    },
    {
      "metadata": {
        "id": "xlhWWPwGggVX",
        "colab_type": "code",
        "colab": {}
      },
      "cell_type": "code",
      "source": [
        "# Data preparation"
      ],
      "execution_count": 0,
      "outputs": []
    },
    {
      "metadata": {
        "id": "5AL5rrZqLghp",
        "colab_type": "code",
        "outputId": "de8c31eb-780e-4700-9375-1df2c1f6a1d0",
        "colab": {
          "base_uri": "https://localhost:8080/",
          "height": 51
        }
      },
      "cell_type": "code",
      "source": [
        "import torch\n",
        "print(\"Name of GPU : {}\".format(torch.cuda.get_device_name(0)))\n",
        "print(\"# of GPU : {}\".format(torch.cuda.device_count()))\n"
      ],
      "execution_count": 2,
      "outputs": [
        {
          "output_type": "stream",
          "text": [
            "Name of GPU : Tesla K80\n",
            "# of GPU : 1\n"
          ],
          "name": "stdout"
        }
      ]
    },
    {
      "metadata": {
        "id": "0zRdXN9yo6k3",
        "colab_type": "code",
        "colab": {}
      },
      "cell_type": "code",
      "source": [
        "from fastai.text import *\n",
        "import html\n",
        "import sklearn\n",
        "import torch.tensor as T\n",
        "from sklearn.model_selection import train_test_split\n",
        "\n",
        "#from fastai.learner import *\n",
        "\n",
        "import torchtext\n",
        "from torchtext import vocab, data\n",
        "from torchtext.datasets import language_modeling\n",
        "\n",
        "import pandas as pd\n",
        "import string\n",
        "import time\n",
        "import random\n",
        "import pandas as pd\n",
        "import numpy as np\n",
        "import gc\n",
        "import re\n",
        "import torch\n",
        "from torchtext import data\n",
        "import spacy\n",
        "from tqdm import tqdm_notebook, tnrange\n",
        "from tqdm.auto import tqdm\n",
        "import zipfile\n",
        "import gzip\n",
        "\n",
        "tqdm.pandas(desc='Progress')\n",
        "from collections import Counter\n",
        "from textblob import TextBlob\n",
        "from nltk import word_tokenize\n",
        "import torch\n",
        "import torch.nn as nn\n",
        "import random\n",
        "import keras\n",
        "import numpy as np\n",
        "from keras.layers import Conv1D, Conv2D\n",
        "from keras import optimizers\n",
        "import os\n",
        "from keras.preprocessing.text import Tokenizer\n",
        "from keras.preprocessing.sequence import pad_sequences\n",
        "import nltk\n",
        "\n",
        "# cross validation and metrics\n",
        "from  sklearn.feature_extraction.text import TfidfVectorizer\n",
        "from sklearn import model_selection,linear_model,metrics\n",
        "from sklearn.model_selection import StratifiedKFold\n",
        "from sklearn.metrics import f1_score\n",
        "from torch.optim.optimizer import Optimizer\n",
        "from gensim.models.keyedvectors import KeyedVectors"
      ],
      "execution_count": 0,
      "outputs": []
    },
    {
      "metadata": {
        "id": "NhSwmpxVpCSx",
        "colab_type": "code",
        "colab": {}
      },
      "cell_type": "code",
      "source": [
        "from google.colab import drive\n",
        "drive.mount('/content/drive')\n",
        "!ls \"/content/drive/My Drive/kaggle_toxic_comments/ulmfit\""
      ],
      "execution_count": 0,
      "outputs": []
    },
    {
      "metadata": {
        "id": "thldnbWMjHoF",
        "colab_type": "code",
        "colab": {
          "base_uri": "https://localhost:8080/",
          "height": 51
        },
        "outputId": "def03978-7e92-46f3-87e4-1ef2fee35266"
      },
      "cell_type": "code",
      "source": [
        "df = pd.read_csv('/content/drive/My Drive/CCP-ICDsearch/desc-icd9-modeldata/model_data.csv')\n",
        "#df.head()\n",
        "# removed duplicated rows\n",
        "print(df.shape)\n",
        "df.drop_duplicates(inplace=True)\n",
        "print(df.shape)"
      ],
      "execution_count": 66,
      "outputs": [
        {
          "output_type": "stream",
          "text": [
            "(16981, 2)\n",
            "(8705, 2)\n"
          ],
          "name": "stdout"
        }
      ]
    },
    {
      "metadata": {
        "id": "ZSnWg5eXmeK0",
        "colab_type": "code",
        "colab": {}
      },
      "cell_type": "code",
      "source": [
        "#misspell correction\n",
        "def build_vocab(texts):\n",
        "    sentences = texts.apply(lambda x: re.split(' |;|,|\\*|\\n|[(]|[)]',x))\n",
        "    dfvocab = {}\n",
        "    for sentence in sentences:\n",
        "        for word in sentence:\n",
        "            try:\n",
        "                dfvocab[word] += 1\n",
        "            except KeyError:\n",
        "                dfvocab[word] = 1\n",
        "    return dfvocab\n",
        "dfvocab = build_vocab(df['desc'])\n",
        "\n",
        "#len(vocab.keys()) 3630\n",
        "\n",
        "model = KeyedVectors.load_word2vec_format('/content/drive/My Drive/CCP-ICDsearch/wikipedia-pubmed-and-PMC-w2v.bin', binary=True)\n",
        "misspells=[]\n",
        "for k in list(dfvocab.keys()):\n",
        "    if k in model.vocab:\n",
        "        continue\n",
        "    else:\n",
        "        misspells.append(k)"
      ],
      "execution_count": 0,
      "outputs": []
    },
    {
      "metadata": {
        "id": "Jt3L1t93rlv6",
        "colab_type": "code",
        "colab": {
          "base_uri": "https://localhost:8080/",
          "height": 34
        },
        "outputId": "8b318468-58f8-4342-f8a9-2c355ed9abe8"
      },
      "cell_type": "code",
      "source": [
        "len(misspells)"
      ],
      "execution_count": 81,
      "outputs": [
        {
          "output_type": "execute_result",
          "data": {
            "text/plain": [
              "743"
            ]
          },
          "metadata": {
            "tags": []
          },
          "execution_count": 81
        }
      ]
    },
    {
      "metadata": {
        "id": "61xyhw5Lq00k",
        "colab_type": "code",
        "colab": {}
      },
      "cell_type": "code",
      "source": [
        "dfvocab['duodenal']"
      ],
      "execution_count": 0,
      "outputs": []
    },
    {
      "metadata": {
        "id": "j-BD39I5B7ZW",
        "colab_type": "code",
        "colab": {}
      },
      "cell_type": "code",
      "source": [
        "mispell_dict = {\"I'm\": \"i am\",\"gleekvampire\":\"gleek vampire\",\"publiclaly\":\"publicly\",\"rleigion\":\"religion\",\"easialy\":\"easily\",\"orthodaox\":\"orthodox\",\"beelifs\":\"beliefs\",\"inteliigence\":\"intelligence\",\"sturcuture\":\"structure\",\"imposble\":\"impossible\",\"clarfification\":\"clarification\",\"temporararily\":\"temporarily\",\"broughted\":\"brought\",\"identifiing\":\"identifying\", \"noerthern\":\"northern\",\"rpublic\":\"republic\",\"immadiately\":\"immediately\",\"statenment\":\"statement\",\"yourplaceneeded\":\"your place needed\",\"thatwasit\":\"that was it\",\"theclubworkers\":\"the club workers\",\"megaaward\":\"mega award\",\"morecurrentevents\":\"more current events\",\"permanat\":\"permanent\",\"conndoms\":\"condoms\",\"sisterproject\":\"sister project\", \"editorwelcome\":\"editor welcome\",\"hindusism\":\"hinduism\",\"last2\":\"last 2\",\"emptylineexception\":\"empty line exception\",\"penisboys\":\"penis boys\",\"zealousy\":\"zealous\",\"underpromotion\":\"under promotion\",\"timeaftertime\":\"time after time\",\"aeroshuttle\":\"aero shuttle\",\"constitude\":\"constitute\",\"emotionallly\":\"emotionally\",\"circambulation\":\"circumambulation\",\"flyhead\":\"fly head\",\"ain't\": \"is not\", \"aren't\": \"are not\",\"can't\": \"cannot\", \"'cause\": \"because\", \"could've\": \"could have\", \"couldn't\": \"could not\", \"didn't\": \"did not\",  \"doesn't\": \"does not\", \"don't\": \"do not\", \"hadn't\": \"had not\", \"hasn't\": \"has not\", \"haven't\": \"have not\", \"he'd\": \"he would\",\"he'll\": \"he will\", \"he's\": \"he is\", \"how'd\": \"how did\", \"how'd'y\": \"how do you\", \"how'll\": \"how will\", \"how's\": \"how is\",  \"I'd\": \"I would\", \"I'd've\": \"I would have\", \"I'll\": \"I will\", \"I'll've\": \"I will have\",\"I'm\": \"I am\", \"I've\": \"I have\", \"i'd\": \"i would\", \"i'd've\": \"i would have\", \"i'll\": \"i will\",  \"i'll've\": \"i will have\",\"i'm\": \"i am\",\"•\":\".\", \"i've\": \"i have\",\"article's\":\"article\", \"isn't\": \"is not\", \"it'd\": \"it would\", \"it'd've\": \"it would have\", \"it'll\": \"it will\", \"it'll've\": \"it will have\",\"it's\": \"it is\", \"let's\": \"let us\", \"ma'am\": \"madam\", \"mayn't\": \"may not\", \"might've\": \"might have\",\"mightn't\": \"might not\",\"mightn't've\": \"might not have\", \"must've\": \"must have\", \"mustn't\": \"must not\", \"mustn't've\": \"must not have\", \"needn't\": \"need not\", \"needn't've\": \"need not have\",\"o'clock\": \"of the clock\", \"oughtn't\": \"ought not\", \"oughtn't've\": \"ought not have\", \"shan't\": \"shall not\", \"sha'n't\": \"shall not\", \"shan't've\": \"shall not have\", \"she'd\": \"she would\", \"she'd've\": \"she would have\", \"she'll\": \"she will\", \"she'll've\": \"she will have\",\"admins\":\"admin\", \"she's\": \"she is\", \"should've\": \"should have\", \"shouldn't\": \"should not\", \"shouldn't've\": \"should not have\", \"so've\": \"so have\",\"so's\": \"so as\", \"this's\": \"this is\",\"that'd\": \"that would\", \"that'd've\": \"that would have\", \"that's\": \"that is\", \"there'd\": \"there would\", \"there'd've\": \"there would have\", \"there's\": \"there is\", \"here's\": \"here is\",\"they'd\": \"they would\", \"they'd've\": \"they would have\", \"they'll\": \"they will\", \"they'll've\": \"they will have\", \"they're\": \"they are\", \"they've\": \"they have\", \"to've\": \"to have\", \"wasn't\": \"was not\", \"we'd\": \"we would\", \"we'd've\": \"we would have\", \"we'll\": \"we will\", \"we'll've\": \"we will have\", \"we're\": \"we are\", \"we've\": \"we have\", \"weren't\": \"were not\", \"what'll\": \"what will\", \"what'll've\": \"what will have\", \"what're\": \"what are\",  \"what's\": \"what is\", \"what've\": \"what have\", \"when's\": \"when is\", \"when've\": \"when have\", \"where'd\": \"where did\", \"where's\": \"where is\", \"where've\": \"where have\", \"who'll\": \"who will\", \"who'll've\": \"who will have\", \"who's\": \"who is\", \"who've\": \"who have\", \"why's\": \"why is\", \"why've\": \"why have\", \"will've\": \"will have\", \"won't\": \"will not\", \"won't've\": \"will not have\", \"would've\": \"would have\", \"wouldn't\": \"would not\", \"wouldn't've\": \"would not have\", \"y'all\": \"you all\", \"y'all'd\": \"you all would\",\"y'all'd've\": \"you all would have\",\"y'all're\": \"you all are\",\"y'all've\": \"you all have\",\"you'd\": \"you would\", \"you'd've\": \"you would have\", \"you'll\": \"you will\", \"you'll've\": \"you will have\", \"you're\": \"you are\", \"you've\": \"you have\", 'colour': 'color', 'centre': 'center', 'favourite': 'favorite', 'travelling': 'traveling', 'counselling': 'counseling', 'theatre': 'theater', 'cancelled': 'canceled', 'labour': 'labor', 'organisation': 'organization', 'wwii': 'world war 2', 'citicise': 'criticize', 'youtu ': 'youtube ', 'Qoura': 'Quora', 'sallary': 'salary', 'Whta': 'What', 'narcisist': 'narcissist', 'howdo': 'how do', 'whatare': 'what are', 'howcan': 'how can', 'howmuch': 'how much', 'howmany': 'how many', 'whydo': 'why do', 'doI': 'do I', 'theBest': 'the best', 'howdoes': 'how does', 'mastrubation': 'masturbation', 'mastrubate': 'masturbate', \"mastrubating\": 'masturbating', 'pennis': 'penis', 'Etherium': 'Ethereum', 'narcissit': 'narcissist', 'bigdata': 'big data', '2k17': '2017', '2k18': '2018', 'qouta': 'quota', 'exboyfriend': 'ex boyfriend', 'airhostess': 'air hostess', \"whst\": 'what', 'watsapp': 'whatsapp',\"re:\":\"regarding\", \"fucksex\":\"fuck sex\",\"mothjer\":\"mother\",\"yourselfgo\":\"yourself go\",'demonitisation': 'demonetization', 'demonitization': 'demonetization', 'demonetisation': 'demonetization'}\n",
        "puncts = [',', '.', '\"', ':', ')', '(', '-', '!', '?', '|', ';', \"'\", '$', '&', '/', '[', ']', '>', '%', '=', '#', '*', '+', '\\\\', '•',  '~', '@', '£', \n",
        " '·', '_', '{', '}', '©', '^', '®', '`',  '<', '→', '°', '€', '™', '›',  '♥', '←', '×', '§', '″', '′', 'Â', '█', '½', 'à', '…', \n",
        " '“', '★', '”', '–', '●', 'â', '►', '−', '¢', '²', '¬', '░', '¶', '↑', '±', '¿', '▾', '═', '¦', '║', '―', '¥', '▓', '—', '‹', '─', \n",
        " '▒', '：', '¼', '⊕', '▼', '▪', '†', '■', '’', '▀', '¨', '▄', '♫', '☆', 'é', '¯', '♦', '¤', '▲', 'è', '¸', '¾', 'Ã', '⋅', '‘', '∞', \n",
        " '∙', '）', '↓', '、', '│', '（', '»', '，', '♪', '╩', '╚', '³', '・', '╦', '╣', '╔', '╗', '▬', '❤', 'ï', 'Ø', '¹', '≤', '‡', '√', ]\n",
        "def clean_text(x): \n",
        "    #x = re.sub(r\"\\W+\", \" \", x.lower())\n",
        "    x = bytes(x, encoding=\"utf-8\")\n",
        "    x = x.replace(b\"\\n\", b\" \")\n",
        "    x = x.replace(b\"\\t\", b\" \")\n",
        "    x = x.replace(b\"\\b\", b\" \")\n",
        "    x = x.replace(b\"\\r\", b\" \")\n",
        "    x = re.sub(b\"\\s+\", b\" \", x)\n",
        "    x = str(x, 'utf-8')\n",
        "    x = re.sub(r\"([0-9]+(\\.[0-9]+)?)\",r\" \\1 \", x).strip()\n",
        "    x = re.sub(r'(.)\\1{2,}', r'\\1\\1', x)\n",
        "    \n",
        "    for punct in puncts:\n",
        "        x = x.replace(punct, f' {punct} ')\n",
        "    return x\n",
        "\n",
        "def replace_n_punc(x):\n",
        "  return re.sub(r'[\\?\\.\\!\\,\\=]+(?=[\\?\\.\\!\\,\\=])', '', x)\n",
        "    \n",
        "  \n",
        "def clean_numbers(x):\n",
        "    x = re.sub('[0-9]{5,}', '#####', x)\n",
        "    x = re.sub('[0-9]{4}', '####', x)\n",
        "    x = re.sub('[0-9]{3}', '###', x)\n",
        "    x = re.sub('[0-9]{2}', '##', x)\n",
        "    return x\n",
        "def _get_mispell(mispell_dict):\n",
        "    mispell_re = re.compile('(%s)' % '|'.join(mispell_dict.keys()))\n",
        "    return mispell_dict, mispell_re\n",
        "\n",
        "mispellings, mispellings_re = _get_mispell(mispell_dict)\n",
        "def replace_typical_misspell(text):\n",
        "    def replace(match):\n",
        "        return mispellings[match.group(0)]\n",
        "    return mispellings_re.sub(replace, text)"
      ],
      "execution_count": 0,
      "outputs": []
    },
    {
      "metadata": {
        "id": "uXDKdq0YpxjL",
        "colab_type": "code",
        "colab": {}
      },
      "cell_type": "code",
      "source": [
        "train_df = pd.read_csv(\"/content/drive/My Drive/kaggle_toxic_comments/train.csv\")\n",
        "test_df = pd.read_csv(\"/content/drive/My Drive/kaggle_toxic_comments/test.csv\")\n",
        "\n",
        "train_X = train_df\n",
        "test_X = test_df\n",
        "# lower\n",
        "train_X[\"comment_text\"] = train_df[\"comment_text\"].apply(lambda x: x.lower())\n",
        "test_X[\"comment_text\"] = test_df[\"comment_text\"].apply(lambda x: x.lower())\n",
        "\n",
        "# Clean speelings\n",
        "train_X[\"comment_text\"] = train_X[\"comment_text\"].progress_apply(lambda x: replace_typical_misspell(x))\n",
        "test_X[\"comment_text\"] = test_X[\"comment_text\"].apply(lambda x: replace_typical_misspell(x))\n",
        "   \n",
        "# Replcae multiple punct by single\n",
        "train_X[\"comment_text\"] = train_X[\"comment_text\"].progress_apply(lambda x: replace_n_punc(x))\n",
        "test_X[\"comment_text\"] = test_X[\"comment_text\"].apply(lambda x: replace_n_punc(x))    \n",
        "\n",
        "# Clean numbers\n",
        "train_X[\"comment_text\"] = train_X[\"comment_text\"].progress_apply(lambda x: clean_numbers(x))\n",
        "test_X[\"comment_text\"] = test_X[\"comment_text\"].apply(lambda x: clean_numbers(x))\n",
        "\n",
        "# Clean the text\n",
        "train_X[\"comment_text\"] = train_X[\"comment_text\"].progress_apply(lambda x: clean_text(x))\n",
        "test_X[\"comment_text\"] = test_X[\"comment_text\"].apply(lambda x: clean_text(x))\n",
        "\n",
        "## fill up the missing values\n",
        "train_X[\"comment_text\"].fillna(\"_##_\", inplace=True)\n",
        "test_X[\"comment_text\"].fillna(\"_##_\", inplace=True)"
      ],
      "execution_count": 0,
      "outputs": []
    },
    {
      "metadata": {
        "id": "ocsKxTFDJB2D",
        "colab_type": "code",
        "colab": {}
      },
      "cell_type": "code",
      "source": [
        ""
      ],
      "execution_count": 0,
      "outputs": []
    },
    {
      "metadata": {
        "id": "oMBrSI-uJQSc",
        "colab_type": "code",
        "colab": {}
      },
      "cell_type": "code",
      "source": [
        ""
      ],
      "execution_count": 0,
      "outputs": []
    }
  ]
}