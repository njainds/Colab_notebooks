{
  "nbformat": 4,
  "nbformat_minor": 0,
  "metadata": {
    "colab": {
      "name": "Untitled0.ipynb",
      "version": "0.3.2",
      "provenance": [],
      "include_colab_link": true
    },
    "kernelspec": {
      "name": "python3",
      "display_name": "Python 3"
    },
    "accelerator": "GPU"
  },
  "cells": [
    {
      "cell_type": "markdown",
      "metadata": {
        "id": "view-in-github",
        "colab_type": "text"
      },
      "source": [
        "<a href=\"https://colab.research.google.com/github/njainds/Colab_notebooks/blob/master/Train_LM_RNN/lm_train_v1.0.ipynb\" target=\"_parent\"><img src=\"https://colab.research.google.com/assets/colab-badge.svg\" alt=\"Open In Colab\"/></a>"
      ]
    },
    {
      "metadata": {
        "id": "QYpecTXf_H6o",
        "colab_type": "code",
        "colab": {}
      },
      "cell_type": "code",
      "source": [
        "# Langauge model training on Wiki Text 103 dataset"
      ],
      "execution_count": 0,
      "outputs": []
    },
    {
      "metadata": {
        "id": "xlhWWPwGggVX",
        "colab_type": "code",
        "colab": {}
      },
      "cell_type": "code",
      "source": [
        "# Data preparation\n",
        "#DataSource: https://www.salesforce.com/products/einstein/ai-research/the-wikitext-dependency-language-modeling-dataset/\n",
        "#Scripts:\n",
        "#https://github.com/yunjey/pytorch-tutorial/tree/master/tutorials/02-intermediate/language_model\n",
        "#https://github.com/pytorch/examples/tree/master/word_language_model"
      ],
      "execution_count": 0,
      "outputs": []
    },
    {
      "metadata": {
        "id": "5AL5rrZqLghp",
        "colab_type": "code",
        "outputId": "426d0982-34f8-47f8-a71a-503ad7b3b210",
        "colab": {
          "base_uri": "https://localhost:8080/",
          "height": 51
        }
      },
      "cell_type": "code",
      "source": [
        "import torch\n",
        "print(\"Name of GPU : {}\".format(torch.cuda.get_device_name(0)))\n",
        "print(\"# of GPU : {}\".format(torch.cuda.device_count()))\n"
      ],
      "execution_count": 1,
      "outputs": [
        {
          "output_type": "stream",
          "text": [
            "Name of GPU : Tesla T4\n",
            "# of GPU : 1\n"
          ],
          "name": "stdout"
        }
      ]
    },
    {
      "metadata": {
        "id": "0zRdXN9yo6k3",
        "colab_type": "code",
        "outputId": "a38f1674-ffb8-4b1d-dfc6-2bb22f42b0f8",
        "colab": {
          "base_uri": "https://localhost:8080/",
          "height": 71
        }
      },
      "cell_type": "code",
      "source": [
        "from google.colab import drive\n",
        "drive.mount('/content/drive')\n",
        "import os\n",
        "#os.mkdir('/content/drive/My Drive/LM_model')\n",
        "#os.mkdir('/content/drive/My Drive/LM_model/data')\n",
        "#os.mkdir('/content/drive/My Drive/LM_model/models')\n",
        "#os.mkdir('/content/drive/My Drive/LM_model/outputs')\n",
        "!ls \"/content/drive/My Drive/LM_model\"\n",
        "os.chdir('/content/drive/My Drive/LM_model')"
      ],
      "execution_count": 67,
      "outputs": [
        {
          "output_type": "stream",
          "text": [
            "Drive already mounted at /content/drive; to attempt to forcibly remount, call drive.mount(\"/content/drive\", force_remount=True).\n",
            "data  models  outputs\n"
          ],
          "name": "stdout"
        }
      ]
    },
    {
      "metadata": {
        "id": "NhSwmpxVpCSx",
        "colab_type": "code",
        "colab": {}
      },
      "cell_type": "code",
      "source": [
        "#Downloading data\n",
        "oc.chdir('./data')\n",
        "!wget https://s3.amazonaws.com/research.metamind.io/wikitext/wikitext-2-v1.zip\n",
        "!unzip wikitext-2-v1.zip\n",
        "!head wikitext-2/wiki.test.tokens"
      ],
      "execution_count": 0,
      "outputs": []
    },
    {
      "metadata": {
        "id": "sO6PF4BHCNBw",
        "colab_type": "code",
        "colab": {}
      },
      "cell_type": "code",
      "source": [
        "import torch\n",
        "import os\n",
        "\n",
        "class Dictionary(object):\n",
        "  def __init__(self):\n",
        "    self.word2idx = {}\n",
        "    self.idx2word = {}\n",
        "    self.idx = 0\n",
        "  def add_word(self,word):\n",
        "    if not word in self.word2idx:\n",
        "      self.word2idx[word] = self.idx\n",
        "      self.idx2word[self.idx] = word\n",
        "      self.idx += 1\n",
        "  def __len__(self):\n",
        "    return len(self.word2idx)\n",
        "\n",
        "class Corpus(object):\n",
        "  def __init__(self):\n",
        "    self.dictionary = Dictionary()\n",
        "  def get_data(self, path, batch_size=20):\n",
        "    with open(path, 'r') as f:\n",
        "      tokens=0\n",
        "      for line in f:\n",
        "        words = line.split() + ['<eos>']\n",
        "        tokens += len(words)\n",
        "        for word in words:\n",
        "          self.dictionary.add_word(word)\n",
        "    ids = torch.LongTensor(tokens)\n",
        "    token = 0\n",
        "    with open(path, 'r') as f:\n",
        "      for line in f:\n",
        "        words = line.split() + ['<eos>']\n",
        "        for word in words:\n",
        "          ids[token] = self.dictionary.word2idx[word]\n",
        "          token +=1\n",
        "    num_batches = ids.size(0)//batch_size\n",
        "    ids = ids[:num_batches*batch_size]\n",
        "    #print(ids.size())\n",
        "    return ids.view(batch_size, -1)"
      ],
      "execution_count": 0,
      "outputs": []
    },
    {
      "metadata": {
        "id": "pb9ghA0kGTDA",
        "colab_type": "code",
        "colab": {}
      },
      "cell_type": "code",
      "source": [
        "import torch.nn as nn\n",
        "import torch.nn.utils as clip_grad_norm_\n",
        "import numpy as np\n",
        "\n",
        "class config(object):\n",
        "  def __init__(self):\n",
        "    self.embed_size = 128\n",
        "    self.hidden_size = 1024\n",
        "    self.device = torch.device('cuda' if torch.cuda.is_available() else 'cpu')\n",
        "    self.num_layers = 1\n",
        "    self.num_epochs = 5\n",
        "    self.num_samples = 1000     # number of words to be sampled\n",
        "    self.batch_size = 20\n",
        "    self.seq_length = 30\n",
        "    self.learning_rate = 0.002  "
      ],
      "execution_count": 0,
      "outputs": []
    },
    {
      "metadata": {
        "id": "Sl0fKzMhPBA7",
        "colab_type": "code",
        "colab": {
          "base_uri": "https://localhost:8080/",
          "height": 51
        },
        "outputId": "88a8896a-c904-4de1-93af-dc297538f140"
      },
      "cell_type": "code",
      "source": [
        "%%time\n",
        "#Load Data\n",
        "con = config()\n",
        "corpus = Corpus()\n",
        "ids = corpus.get_data('./data/wikitext-2/wiki.train.tokens', con.batch_size)\n",
        "vocab_size = len(corpus.dictionary)\n",
        "num_batches = ids.size(1) // con.seq_length # no. of sequences per batch\n",
        "#2088620 | 20, 104431 | 20,30,3481|"
      ],
      "execution_count": 70,
      "outputs": [
        {
          "output_type": "stream",
          "text": [
            "CPU times: user 11 s, sys: 1.25 s, total: 12.3 s\n",
            "Wall time: 12.3 s\n"
          ],
          "name": "stdout"
        }
      ]
    },
    {
      "metadata": {
        "id": "Gv-NFASmMmnF",
        "colab_type": "code",
        "colab": {}
      },
      "cell_type": "code",
      "source": [
        "class RNNLM(nn.Module):\n",
        "  def __init__(self,vocab_size, embed_size, hidden_size, num_layers):\n",
        "    super(RNNLM,self).__init__()\n",
        "    self.embed = nn.Embedding(vocab_size,embed_size)\n",
        "    self.lstm = nn.LSTM(embed_size,hidden_size,num_layers,batch_first=True)\n",
        "    self.linear = nn.Linear(hidden_size, vocab_size)\n",
        "  def forward(self,x,h):\n",
        "    x = self.embed(x)\n",
        "    out, (h,c) = self.lstm(x,h)\n",
        "    #batch_size(20),seg_len(30),hidden_size(1024)\n",
        "    out = out.reshape(out.size(0)*out.size(1), out.size(2))\n",
        "    out = self.linear(out)\n",
        "    return out, (h,c)\n",
        "  "
      ],
      "execution_count": 0,
      "outputs": []
    },
    {
      "metadata": {
        "id": "HfPmtJg3W9zW",
        "colab_type": "code",
        "colab": {}
      },
      "cell_type": "code",
      "source": [
        "model = RNNLM(vocab_size, con.embed_size, con.hidden_size, con.num_layers).to(con.device)\n",
        "criterion = nn.CrossEntropyLoss()\n",
        "optimizer = torch.optim.Adam(model.parameters(),lr = con.learning_rate)"
      ],
      "execution_count": 0,
      "outputs": []
    },
    {
      "metadata": {
        "id": "o_z_sdHwZqHR",
        "colab_type": "code",
        "colab": {}
      },
      "cell_type": "code",
      "source": [
        "#for name, param in model.named_parameters():\n",
        "#  print(name,param.size())"
      ],
      "execution_count": 0,
      "outputs": []
    },
    {
      "metadata": {
        "id": "Qrt8_8N9e7M3",
        "colab_type": "code",
        "colab": {
          "base_uri": "https://localhost:8080/",
          "height": 2992
        },
        "outputId": "fd80a4c7-46ea-4b9b-8448-8faa7fc57e2c"
      },
      "cell_type": "code",
      "source": [
        "def detach(states):\n",
        "  return [state.detach() for state in states]\n",
        "\n",
        "#Training model\n",
        "for epoch in range(con.num_epochs):\n",
        "  states = (torch.zeros(con.num_layers,con.batch_size,con.hidden_size).to(con.device),\n",
        "            torch.zeros(con.num_layers,con.batch_size,con.hidden_size).to(con.device))\n",
        "  for i in range(0, ids.size(1)-con.seq_length, con.seq_length):\n",
        "    #Get mini-batch and inputs\n",
        "    inputs = ids[:,i:i+con.seq_length].to(con.device)\n",
        "    targets = ids[:,(i+1):(i+1)+con.seq_length].to(con.device)\n",
        "    \n",
        "    #Forward pass\n",
        "    states = detach(states)\n",
        "    output,states = model(inputs,states)\n",
        "    loss = criterion(output,targets.reshape(-1))\n",
        "    \n",
        "    #backward pass and optimize\n",
        "    model.zero_grad()\n",
        "    loss.backward()\n",
        "    torch.nn.utils.clip_grad_norm_(model.parameters(),0.5)\n",
        "    optimizer.step()\n",
        "    \n",
        "    step = (i+1)//con.seq_length\n",
        "    if step % 100 == 0:\n",
        "            print ('Epoch [{}/{}], Step[{}/{}], Loss: {:.4f}, Perplexity: {:5.2f}'\n",
        "                   .format(epoch+1, con.num_epochs, step, num_batches, loss.item(), np.exp(loss.item())))\n",
        "        \n",
        "        "
      ],
      "execution_count": 79,
      "outputs": [
        {
          "output_type": "stream",
          "text": [
            "Epoch [1/5], Step[0/3481], Loss: 10.1810, Perplexity: 26396.24\n",
            "Epoch [1/5], Step[100/3481], Loss: 6.6243, Perplexity: 753.16\n",
            "Epoch [1/5], Step[200/3481], Loss: 6.6370, Perplexity: 762.81\n",
            "Epoch [1/5], Step[300/3481], Loss: 6.2727, Perplexity: 529.89\n",
            "Epoch [1/5], Step[400/3481], Loss: 6.0557, Perplexity: 426.55\n",
            "Epoch [1/5], Step[500/3481], Loss: 6.0908, Perplexity: 441.77\n",
            "Epoch [1/5], Step[600/3481], Loss: 5.7785, Perplexity: 323.28\n",
            "Epoch [1/5], Step[700/3481], Loss: 5.6433, Perplexity: 282.39\n",
            "Epoch [1/5], Step[800/3481], Loss: 5.4451, Perplexity: 231.62\n",
            "Epoch [1/5], Step[900/3481], Loss: 5.8075, Perplexity: 332.78\n",
            "Epoch [1/5], Step[1000/3481], Loss: 5.7670, Perplexity: 319.56\n",
            "Epoch [1/5], Step[1100/3481], Loss: 5.7964, Perplexity: 329.11\n",
            "Epoch [1/5], Step[1200/3481], Loss: 5.5951, Perplexity: 269.11\n",
            "Epoch [1/5], Step[1300/3481], Loss: 5.6901, Perplexity: 295.91\n",
            "Epoch [1/5], Step[1400/3481], Loss: 5.6881, Perplexity: 295.34\n",
            "Epoch [1/5], Step[1500/3481], Loss: 5.5002, Perplexity: 244.74\n",
            "Epoch [1/5], Step[1600/3481], Loss: 5.2683, Perplexity: 194.09\n",
            "Epoch [1/5], Step[1700/3481], Loss: 5.4376, Perplexity: 229.88\n",
            "Epoch [1/5], Step[1800/3481], Loss: 5.5968, Perplexity: 269.55\n",
            "Epoch [1/5], Step[1900/3481], Loss: 5.1500, Perplexity: 172.44\n",
            "Epoch [1/5], Step[2000/3481], Loss: 5.3984, Perplexity: 221.05\n",
            "Epoch [1/5], Step[2100/3481], Loss: 5.3252, Perplexity: 205.44\n",
            "Epoch [1/5], Step[2200/3481], Loss: 5.1900, Perplexity: 179.46\n",
            "Epoch [1/5], Step[2300/3481], Loss: 5.2535, Perplexity: 191.23\n",
            "Epoch [1/5], Step[2400/3481], Loss: 5.4488, Perplexity: 232.48\n",
            "Epoch [1/5], Step[2500/3481], Loss: 5.1932, Perplexity: 180.05\n",
            "Epoch [1/5], Step[2600/3481], Loss: 4.8620, Perplexity: 129.28\n",
            "Epoch [1/5], Step[2700/3481], Loss: 5.4357, Perplexity: 229.45\n",
            "Epoch [1/5], Step[2800/3481], Loss: 5.3783, Perplexity: 216.66\n",
            "Epoch [1/5], Step[2900/3481], Loss: 5.1621, Perplexity: 174.53\n",
            "Epoch [1/5], Step[3000/3481], Loss: 5.0656, Perplexity: 158.47\n",
            "Epoch [1/5], Step[3100/3481], Loss: 5.0310, Perplexity: 153.08\n",
            "Epoch [1/5], Step[3200/3481], Loss: 4.7981, Perplexity: 121.28\n",
            "Epoch [1/5], Step[3300/3481], Loss: 4.9854, Perplexity: 146.26\n",
            "Epoch [1/5], Step[3400/3481], Loss: 5.1585, Perplexity: 173.90\n",
            "Epoch [2/5], Step[0/3481], Loss: 4.8983, Perplexity: 134.07\n",
            "Epoch [2/5], Step[100/3481], Loss: 4.9397, Perplexity: 139.73\n",
            "Epoch [2/5], Step[200/3481], Loss: 5.0520, Perplexity: 156.34\n",
            "Epoch [2/5], Step[300/3481], Loss: 4.8553, Perplexity: 128.42\n",
            "Epoch [2/5], Step[400/3481], Loss: 4.8135, Perplexity: 123.16\n",
            "Epoch [2/5], Step[500/3481], Loss: 4.6240, Perplexity: 101.90\n",
            "Epoch [2/5], Step[600/3481], Loss: 4.3969, Perplexity: 81.20\n",
            "Epoch [2/5], Step[700/3481], Loss: 4.4402, Perplexity: 84.79\n",
            "Epoch [2/5], Step[800/3481], Loss: 4.4650, Perplexity: 86.92\n",
            "Epoch [2/5], Step[900/3481], Loss: 4.5930, Perplexity: 98.79\n",
            "Epoch [2/5], Step[1000/3481], Loss: 4.6900, Perplexity: 108.86\n",
            "Epoch [2/5], Step[1100/3481], Loss: 4.6705, Perplexity: 106.75\n",
            "Epoch [2/5], Step[1200/3481], Loss: 4.4770, Perplexity: 87.97\n",
            "Epoch [2/5], Step[1300/3481], Loss: 4.5983, Perplexity: 99.32\n",
            "Epoch [2/5], Step[1400/3481], Loss: 4.4237, Perplexity: 83.41\n",
            "Epoch [2/5], Step[1500/3481], Loss: 4.5430, Perplexity: 93.97\n",
            "Epoch [2/5], Step[1600/3481], Loss: 4.2191, Perplexity: 67.97\n",
            "Epoch [2/5], Step[1700/3481], Loss: 4.3480, Perplexity: 77.32\n",
            "Epoch [2/5], Step[1800/3481], Loss: 4.7025, Perplexity: 110.22\n",
            "Epoch [2/5], Step[1900/3481], Loss: 3.9998, Perplexity: 54.59\n",
            "Epoch [2/5], Step[2000/3481], Loss: 4.4087, Perplexity: 82.16\n",
            "Epoch [2/5], Step[2100/3481], Loss: 4.3114, Perplexity: 74.54\n",
            "Epoch [2/5], Step[2200/3481], Loss: 4.2924, Perplexity: 73.14\n",
            "Epoch [2/5], Step[2300/3481], Loss: 4.3614, Perplexity: 78.37\n",
            "Epoch [2/5], Step[2400/3481], Loss: 4.4675, Perplexity: 87.14\n",
            "Epoch [2/5], Step[2500/3481], Loss: 4.1654, Perplexity: 64.42\n",
            "Epoch [2/5], Step[2600/3481], Loss: 3.9753, Perplexity: 53.27\n",
            "Epoch [2/5], Step[2700/3481], Loss: 4.3907, Perplexity: 80.69\n",
            "Epoch [2/5], Step[2800/3481], Loss: 4.2965, Perplexity: 73.44\n",
            "Epoch [2/5], Step[2900/3481], Loss: 4.1447, Perplexity: 63.10\n",
            "Epoch [2/5], Step[3000/3481], Loss: 4.2258, Perplexity: 68.43\n",
            "Epoch [2/5], Step[3100/3481], Loss: 4.0985, Perplexity: 60.25\n",
            "Epoch [2/5], Step[3200/3481], Loss: 3.8927, Perplexity: 49.04\n",
            "Epoch [2/5], Step[3300/3481], Loss: 4.1558, Perplexity: 63.80\n",
            "Epoch [2/5], Step[3400/3481], Loss: 4.3002, Perplexity: 73.72\n",
            "Epoch [3/5], Step[0/3481], Loss: 4.1460, Perplexity: 63.18\n",
            "Epoch [3/5], Step[100/3481], Loss: 4.1817, Perplexity: 65.47\n",
            "Epoch [3/5], Step[200/3481], Loss: 4.1608, Perplexity: 64.12\n",
            "Epoch [3/5], Step[300/3481], Loss: 4.0617, Perplexity: 58.08\n",
            "Epoch [3/5], Step[400/3481], Loss: 3.9641, Perplexity: 52.67\n",
            "Epoch [3/5], Step[500/3481], Loss: 3.8794, Perplexity: 48.40\n",
            "Epoch [3/5], Step[600/3481], Loss: 3.6451, Perplexity: 38.29\n",
            "Epoch [3/5], Step[700/3481], Loss: 3.7175, Perplexity: 41.16\n",
            "Epoch [3/5], Step[800/3481], Loss: 3.7416, Perplexity: 42.16\n",
            "Epoch [3/5], Step[900/3481], Loss: 3.8931, Perplexity: 49.06\n",
            "Epoch [3/5], Step[1000/3481], Loss: 3.9730, Perplexity: 53.15\n",
            "Epoch [3/5], Step[1100/3481], Loss: 3.9189, Perplexity: 50.35\n",
            "Epoch [3/5], Step[1200/3481], Loss: 3.7821, Perplexity: 43.91\n",
            "Epoch [3/5], Step[1300/3481], Loss: 3.8183, Perplexity: 45.52\n",
            "Epoch [3/5], Step[1400/3481], Loss: 3.6517, Perplexity: 38.54\n",
            "Epoch [3/5], Step[1500/3481], Loss: 3.7630, Perplexity: 43.08\n",
            "Epoch [3/5], Step[1600/3481], Loss: 3.5333, Perplexity: 34.24\n",
            "Epoch [3/5], Step[1700/3481], Loss: 3.6496, Perplexity: 38.46\n",
            "Epoch [3/5], Step[1800/3481], Loss: 4.0727, Perplexity: 58.72\n",
            "Epoch [3/5], Step[1900/3481], Loss: 3.3437, Perplexity: 28.32\n",
            "Epoch [3/5], Step[2000/3481], Loss: 3.7213, Perplexity: 41.32\n",
            "Epoch [3/5], Step[2100/3481], Loss: 3.6900, Perplexity: 40.05\n",
            "Epoch [3/5], Step[2200/3481], Loss: 3.7079, Perplexity: 40.77\n",
            "Epoch [3/5], Step[2300/3481], Loss: 3.6921, Perplexity: 40.13\n",
            "Epoch [3/5], Step[2400/3481], Loss: 3.7975, Perplexity: 44.59\n",
            "Epoch [3/5], Step[2500/3481], Loss: 3.4727, Perplexity: 32.22\n",
            "Epoch [3/5], Step[2600/3481], Loss: 3.4575, Perplexity: 31.74\n",
            "Epoch [3/5], Step[2700/3481], Loss: 3.6962, Perplexity: 40.29\n",
            "Epoch [3/5], Step[2800/3481], Loss: 3.6305, Perplexity: 37.73\n",
            "Epoch [3/5], Step[2900/3481], Loss: 3.4341, Perplexity: 31.00\n",
            "Epoch [3/5], Step[3000/3481], Loss: 3.5926, Perplexity: 36.33\n",
            "Epoch [3/5], Step[3100/3481], Loss: 3.4369, Perplexity: 31.09\n",
            "Epoch [3/5], Step[3200/3481], Loss: 3.2261, Perplexity: 25.18\n",
            "Epoch [3/5], Step[3300/3481], Loss: 3.5023, Perplexity: 33.19\n",
            "Epoch [3/5], Step[3400/3481], Loss: 3.6377, Perplexity: 38.00\n",
            "Epoch [4/5], Step[0/3481], Loss: 3.5844, Perplexity: 36.03\n",
            "Epoch [4/5], Step[100/3481], Loss: 3.5410, Perplexity: 34.50\n",
            "Epoch [4/5], Step[200/3481], Loss: 3.6553, Perplexity: 38.68\n",
            "Epoch [4/5], Step[300/3481], Loss: 3.5311, Perplexity: 34.16\n",
            "Epoch [4/5], Step[400/3481], Loss: 3.4035, Perplexity: 30.07\n",
            "Epoch [4/5], Step[500/3481], Loss: 3.4284, Perplexity: 30.83\n",
            "Epoch [4/5], Step[600/3481], Loss: 3.2990, Perplexity: 27.08\n",
            "Epoch [4/5], Step[700/3481], Loss: 3.2948, Perplexity: 26.97\n",
            "Epoch [4/5], Step[800/3481], Loss: 3.2596, Perplexity: 26.04\n",
            "Epoch [4/5], Step[900/3481], Loss: 3.5263, Perplexity: 34.00\n",
            "Epoch [4/5], Step[1000/3481], Loss: 3.5647, Perplexity: 35.33\n",
            "Epoch [4/5], Step[1100/3481], Loss: 3.4508, Perplexity: 31.53\n",
            "Epoch [4/5], Step[1200/3481], Loss: 3.4003, Perplexity: 29.97\n",
            "Epoch [4/5], Step[1300/3481], Loss: 3.4000, Perplexity: 29.96\n",
            "Epoch [4/5], Step[1400/3481], Loss: 3.2166, Perplexity: 24.94\n",
            "Epoch [4/5], Step[1500/3481], Loss: 3.3303, Perplexity: 27.95\n",
            "Epoch [4/5], Step[1600/3481], Loss: 3.1203, Perplexity: 22.65\n",
            "Epoch [4/5], Step[1700/3481], Loss: 3.2386, Perplexity: 25.50\n",
            "Epoch [4/5], Step[1800/3481], Loss: 3.6135, Perplexity: 37.10\n",
            "Epoch [4/5], Step[1900/3481], Loss: 2.9953, Perplexity: 19.99\n",
            "Epoch [4/5], Step[2000/3481], Loss: 3.3649, Perplexity: 28.93\n",
            "Epoch [4/5], Step[2100/3481], Loss: 3.3046, Perplexity: 27.24\n",
            "Epoch [4/5], Step[2200/3481], Loss: 3.2875, Perplexity: 26.77\n",
            "Epoch [4/5], Step[2300/3481], Loss: 3.3132, Perplexity: 27.47\n",
            "Epoch [4/5], Step[2400/3481], Loss: 3.3681, Perplexity: 29.02\n",
            "Epoch [4/5], Step[2500/3481], Loss: 3.0761, Perplexity: 21.67\n",
            "Epoch [4/5], Step[2600/3481], Loss: 3.1002, Perplexity: 22.20\n",
            "Epoch [4/5], Step[2700/3481], Loss: 3.3641, Perplexity: 28.91\n",
            "Epoch [4/5], Step[2800/3481], Loss: 3.2268, Perplexity: 25.20\n",
            "Epoch [4/5], Step[2900/3481], Loss: 3.1225, Perplexity: 22.70\n",
            "Epoch [4/5], Step[3000/3481], Loss: 3.2071, Perplexity: 24.71\n",
            "Epoch [4/5], Step[3100/3481], Loss: 3.0859, Perplexity: 21.89\n",
            "Epoch [4/5], Step[3200/3481], Loss: 2.8113, Perplexity: 16.63\n",
            "Epoch [4/5], Step[3300/3481], Loss: 3.1768, Perplexity: 23.97\n",
            "Epoch [4/5], Step[3400/3481], Loss: 3.2868, Perplexity: 26.76\n",
            "Epoch [5/5], Step[0/3481], Loss: 3.1871, Perplexity: 24.22\n",
            "Epoch [5/5], Step[100/3481], Loss: 3.1582, Perplexity: 23.53\n",
            "Epoch [5/5], Step[200/3481], Loss: 3.2365, Perplexity: 25.45\n",
            "Epoch [5/5], Step[300/3481], Loss: 3.1954, Perplexity: 24.42\n",
            "Epoch [5/5], Step[400/3481], Loss: 3.0226, Perplexity: 20.54\n",
            "Epoch [5/5], Step[500/3481], Loss: 3.1915, Perplexity: 24.33\n",
            "Epoch [5/5], Step[600/3481], Loss: 3.0424, Perplexity: 20.96\n",
            "Epoch [5/5], Step[700/3481], Loss: 2.9862, Perplexity: 19.81\n",
            "Epoch [5/5], Step[800/3481], Loss: 2.9916, Perplexity: 19.92\n",
            "Epoch [5/5], Step[900/3481], Loss: 3.2058, Perplexity: 24.68\n",
            "Epoch [5/5], Step[1000/3481], Loss: 3.2973, Perplexity: 27.04\n",
            "Epoch [5/5], Step[1100/3481], Loss: 3.1708, Perplexity: 23.83\n",
            "Epoch [5/5], Step[1200/3481], Loss: 3.2100, Perplexity: 24.78\n",
            "Epoch [5/5], Step[1300/3481], Loss: 3.1993, Perplexity: 24.52\n",
            "Epoch [5/5], Step[1400/3481], Loss: 2.9400, Perplexity: 18.92\n",
            "Epoch [5/5], Step[1500/3481], Loss: 3.0488, Perplexity: 21.09\n",
            "Epoch [5/5], Step[1600/3481], Loss: 2.9452, Perplexity: 19.01\n",
            "Epoch [5/5], Step[1700/3481], Loss: 2.9722, Perplexity: 19.53\n",
            "Epoch [5/5], Step[1800/3481], Loss: 3.3695, Perplexity: 29.06\n",
            "Epoch [5/5], Step[1900/3481], Loss: 2.7316, Perplexity: 15.36\n",
            "Epoch [5/5], Step[2000/3481], Loss: 3.0863, Perplexity: 21.90\n",
            "Epoch [5/5], Step[2100/3481], Loss: 3.0469, Perplexity: 21.05\n",
            "Epoch [5/5], Step[2200/3481], Loss: 3.1347, Perplexity: 22.98\n",
            "Epoch [5/5], Step[2300/3481], Loss: 3.0665, Perplexity: 21.47\n",
            "Epoch [5/5], Step[2400/3481], Loss: 3.1340, Perplexity: 22.97\n",
            "Epoch [5/5], Step[2500/3481], Loss: 2.8444, Perplexity: 17.19\n",
            "Epoch [5/5], Step[2600/3481], Loss: 2.9286, Perplexity: 18.70\n",
            "Epoch [5/5], Step[2700/3481], Loss: 3.2199, Perplexity: 25.03\n",
            "Epoch [5/5], Step[2800/3481], Loss: 2.9555, Perplexity: 19.21\n",
            "Epoch [5/5], Step[2900/3481], Loss: 2.9545, Perplexity: 19.19\n",
            "Epoch [5/5], Step[3000/3481], Loss: 2.9747, Perplexity: 19.58\n",
            "Epoch [5/5], Step[3100/3481], Loss: 2.7837, Perplexity: 16.18\n",
            "Epoch [5/5], Step[3200/3481], Loss: 2.5877, Perplexity: 13.30\n",
            "Epoch [5/5], Step[3300/3481], Loss: 2.9348, Perplexity: 18.82\n",
            "Epoch [5/5], Step[3400/3481], Loss: 3.1494, Perplexity: 23.32\n"
          ],
          "name": "stdout"
        }
      ]
    },
    {
      "metadata": {
        "id": "aKpSgvK9OQF5",
        "colab_type": "code",
        "colab": {
          "base_uri": "https://localhost:8080/",
          "height": 187
        },
        "outputId": "28a4e4b1-5998-4327-9c3c-0fea9df79748"
      },
      "cell_type": "code",
      "source": [
        "#Model Testing\n",
        "with torch.no_grad():\n",
        "  with open('./outputs/sample.txt','w') as f:\n",
        "    state = (torch.zeros(con.num_layers,1,con.hidden_size).to(con.device),\n",
        "            torch.zeros(con.num_layers,1,con.hidden_size).to(con.device))\n",
        "    prob = torch.ones(vocab_size)\n",
        "    input = torch.multinomial(prob,num_samples=1).unsqueeze(1).to(con.device)\n",
        "    for i in range(con.num_samples):\n",
        "      output,state = model(input,state)\n",
        "      prob = output.exp()\n",
        "      word_id = torch.multinomial(prob,num_samples=1).item()\n",
        "      input.fill_(word_id)\n",
        "      word = corpus.dictionary.idx2word[word_id]\n",
        "      word = '\\n' if word == '<eos>' else word + ' '\n",
        "      f.write(word)\n",
        "      if (i+1) % 100 == 0:\n",
        "                print('Sampled [{}/{}] words and save to {}'.format(i+1, con.num_samples, '/outputs/sample.txt'))\n",
        "\n",
        "torch.save(model.state_dict(), 'model.ckpt')\n",
        "    "
      ],
      "execution_count": 83,
      "outputs": [
        {
          "output_type": "stream",
          "text": [
            "Sampled [100/1000] words and save to /outputs/sample.txt\n",
            "Sampled [200/1000] words and save to /outputs/sample.txt\n",
            "Sampled [300/1000] words and save to /outputs/sample.txt\n",
            "Sampled [400/1000] words and save to /outputs/sample.txt\n",
            "Sampled [500/1000] words and save to /outputs/sample.txt\n",
            "Sampled [600/1000] words and save to /outputs/sample.txt\n",
            "Sampled [700/1000] words and save to /outputs/sample.txt\n",
            "Sampled [800/1000] words and save to /outputs/sample.txt\n",
            "Sampled [900/1000] words and save to /outputs/sample.txt\n",
            "Sampled [1000/1000] words and save to /outputs/sample.txt\n"
          ],
          "name": "stdout"
        }
      ]
    },
    {
      "metadata": {
        "id": "lpREl238axSd",
        "colab_type": "code",
        "colab": {}
      },
      "cell_type": "code",
      "source": [
        "# Next steps:\n",
        "#Fine tuning using LR, regularisation\n",
        "#Implement AWD LSTM with drop connect, dropout over hidden-hidden\n",
        "#Weight tying with the embeddings for the last fully connected layer\n",
        "#Evaluation of the Langauge model"
      ],
      "execution_count": 0,
      "outputs": []
    }
  ]
}