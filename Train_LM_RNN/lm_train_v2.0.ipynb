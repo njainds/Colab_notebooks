{
  "nbformat": 4,
  "nbformat_minor": 0,
  "metadata": {
    "colab": {
      "name": "Untitled0.ipynb",
      "version": "0.3.2",
      "provenance": [],
      "include_colab_link": true
    },
    "kernelspec": {
      "name": "python3",
      "display_name": "Python 3"
    },
    "accelerator": "GPU"
  },
  "cells": [
    {
      "cell_type": "markdown",
      "metadata": {
        "id": "view-in-github",
        "colab_type": "text"
      },
      "source": [
        "<a href=\"https://colab.research.google.com/github/njainds/Colab_notebooks/blob/master/Train_LM_RNN/lm_train_v2.0.ipynb\" target=\"_parent\"><img src=\"https://colab.research.google.com/assets/colab-badge.svg\" alt=\"Open In Colab\"/></a>"
      ]
    },
    {
      "metadata": {
        "id": "QYpecTXf_H6o",
        "colab_type": "code",
        "colab": {}
      },
      "cell_type": "code",
      "source": [
        "# Langauge model training on Wiki Text 103 dataset"
      ],
      "execution_count": 0,
      "outputs": []
    },
    {
      "metadata": {
        "id": "xlhWWPwGggVX",
        "colab_type": "code",
        "colab": {}
      },
      "cell_type": "code",
      "source": [
        "# Data preparation\n",
        "#DataSource: https://www.salesforce.com/products/einstein/ai-research/the-wikitext-dependency-language-modeling-dataset/\n",
        "#Scripts:\n",
        "#https://github.com/yunjey/pytorch-tutorial/tree/master/tutorials/02-intermediate/language_model\n",
        "#https://github.com/pytorch/examples/tree/master/word_language_model"
      ],
      "execution_count": 0,
      "outputs": []
    },
    {
      "metadata": {
        "id": "5AL5rrZqLghp",
        "colab_type": "code",
        "outputId": "4e6b717b-fca2-4288-e8a8-2ee60faf4ef9",
        "colab": {
          "base_uri": "https://localhost:8080/",
          "height": 51
        }
      },
      "cell_type": "code",
      "source": [
        "import torch\n",
        "print(\"Name of GPU : {}\".format(torch.cuda.get_device_name(0)))\n",
        "print(\"# of GPU : {}\".format(torch.cuda.device_count()))\n"
      ],
      "execution_count": 1,
      "outputs": [
        {
          "output_type": "stream",
          "text": [
            "Name of GPU : Tesla T4\n",
            "# of GPU : 1\n"
          ],
          "name": "stdout"
        }
      ]
    },
    {
      "metadata": {
        "id": "0zRdXN9yo6k3",
        "colab_type": "code",
        "outputId": "a45c6c1a-db56-4e77-a40f-3b0c9b89d0be",
        "colab": {
          "base_uri": "https://localhost:8080/",
          "height": 71
        }
      },
      "cell_type": "code",
      "source": [
        "from google.colab import drive\n",
        "drive.mount('/content/drive')\n",
        "import os\n",
        "#os.mkdir('/content/drive/My Drive/LM_model')\n",
        "#os.mkdir('/content/drive/My Drive/LM_model/data')\n",
        "#os.mkdir('/content/drive/My Drive/LM_model/models')\n",
        "#os.mkdir('/content/drive/My Drive/LM_model/outputs')\n",
        "!ls \"/content/drive/My Drive/LM_model\"\n",
        "os.chdir('/content/drive/My Drive/LM_model')"
      ],
      "execution_count": 2,
      "outputs": [
        {
          "output_type": "stream",
          "text": [
            "Drive already mounted at /content/drive; to attempt to forcibly remount, call drive.mount(\"/content/drive\", force_remount=True).\n",
            "data  models  outputs\n"
          ],
          "name": "stdout"
        }
      ]
    },
    {
      "metadata": {
        "id": "NhSwmpxVpCSx",
        "colab_type": "code",
        "colab": {}
      },
      "cell_type": "code",
      "source": [
        "#Downloading data\n",
        "oc.chdir('./data')\n",
        "!wget https://s3.amazonaws.com/research.metamind.io/wikitext/wikitext-2-v1.zip\n",
        "!unzip wikitext-2-v1.zip\n",
        "!head wikitext-2/wiki.test.tokens"
      ],
      "execution_count": 0,
      "outputs": []
    },
    {
      "metadata": {
        "id": "sO6PF4BHCNBw",
        "colab_type": "code",
        "colab": {}
      },
      "cell_type": "code",
      "source": [
        "import torch\n",
        "import os\n",
        "\n",
        "class Dictionary(object):\n",
        "  def __init__(self):\n",
        "    self.word2idx = {}\n",
        "    self.idx2word = {}\n",
        "    self.idx = 0\n",
        "  def add_word(self,word):\n",
        "    if not word in self.word2idx:\n",
        "      self.word2idx[word] = self.idx\n",
        "      self.idx2word[self.idx] = word\n",
        "      self.idx += 1\n",
        "  def __len__(self):\n",
        "    return len(self.word2idx)\n",
        "\n",
        "class Corpus(object):\n",
        "  def __init__(self):\n",
        "    self.dictionary = Dictionary()\n",
        "  def get_data(self, path, batch_size=20):\n",
        "    with open(path, 'r') as f:\n",
        "      tokens=0\n",
        "      for line in f:\n",
        "        words = line.split() + ['<eos>']\n",
        "        tokens += len(words)\n",
        "        for word in words:\n",
        "          self.dictionary.add_word(word)\n",
        "    ids = torch.LongTensor(tokens)\n",
        "    token = 0\n",
        "    with open(path, 'r') as f:\n",
        "      for line in f:\n",
        "        words = line.split() + ['<eos>']\n",
        "        for word in words:\n",
        "          ids[token] = self.dictionary.word2idx[word]\n",
        "          token +=1\n",
        "    num_batches = ids.size(0)//batch_size\n",
        "    ids = ids[:num_batches*batch_size]\n",
        "    #print(ids.size())\n",
        "    return ids.view(batch_size, -1)"
      ],
      "execution_count": 0,
      "outputs": []
    },
    {
      "metadata": {
        "id": "pb9ghA0kGTDA",
        "colab_type": "code",
        "colab": {}
      },
      "cell_type": "code",
      "source": [
        "import torch.nn as nn\n",
        "import torch.nn.utils as clip_grad_norm_\n",
        "import numpy as np\n",
        "\n",
        "class config(object):\n",
        "  def __init__(self):\n",
        "    self.embed_size = 128\n",
        "    self.hidden_size = 1024\n",
        "    self.device = torch.device('cuda' if torch.cuda.is_available() else 'cpu')\n",
        "    self.num_layers = 1\n",
        "    self.num_epochs = 5\n",
        "    self.num_samples = 1000     # number of words to be sampled\n",
        "    self.batch_size = 20\n",
        "    self.seq_length = 30\n",
        "    self.learning_rate = 0.002  "
      ],
      "execution_count": 0,
      "outputs": []
    },
    {
      "metadata": {
        "id": "Sl0fKzMhPBA7",
        "colab_type": "code",
        "outputId": "5644ee12-4e46-4eec-cfd0-8a250bc100a8",
        "colab": {
          "base_uri": "https://localhost:8080/",
          "height": 51
        }
      },
      "cell_type": "code",
      "source": [
        "%%time\n",
        "#Load Data\n",
        "con = config()\n",
        "corpus = Corpus()\n",
        "ids = corpus.get_data('./data/wikitext-2/wiki.train.tokens', con.batch_size)\n",
        "vocab_size = len(corpus.dictionary)\n",
        "num_batches = ids.size(1) // con.seq_length # no. of sequences per batch\n",
        "#2088620 | 20, 104431 | 20,30,3481|"
      ],
      "execution_count": 5,
      "outputs": [
        {
          "output_type": "stream",
          "text": [
            "CPU times: user 10.1 s, sys: 1.04 s, total: 11.1 s\n",
            "Wall time: 11.1 s\n"
          ],
          "name": "stdout"
        }
      ]
    },
    {
      "metadata": {
        "id": "T40WNmAbkUEj",
        "colab_type": "code",
        "colab": {
          "base_uri": "https://localhost:8080/",
          "height": 51
        },
        "outputId": "fe05325b-884a-4d74-e91a-3cd542a2ef6e"
      },
      "cell_type": "code",
      "source": [
        "%%time\n",
        "#Load Data\n",
        "valcorpus = Corpus()\n",
        "vids = valcorpus.get_data('./data/wikitext-2/wiki.test.tokens', con.batch_size)\n",
        "val_vocab_size = len(valcorpus.dictionary)\n",
        "#245560 | 20, 12278 | 20,30,409|"
      ],
      "execution_count": 6,
      "outputs": [
        {
          "output_type": "stream",
          "text": [
            "CPU times: user 1.19 s, sys: 118 ms, total: 1.31 s\n",
            "Wall time: 1.32 s\n"
          ],
          "name": "stdout"
        }
      ]
    },
    {
      "metadata": {
        "id": "Gv-NFASmMmnF",
        "colab_type": "code",
        "colab": {}
      },
      "cell_type": "code",
      "source": [
        "class RNNLM(nn.Module):\n",
        "  def __init__(self,vocab_size, embed_size, hidden_size, num_layers):\n",
        "    super(RNNLM,self).__init__()\n",
        "    self.embed = nn.Embedding(vocab_size,embed_size)\n",
        "    self.lstm = nn.LSTM(embed_size,hidden_size,num_layers,batch_first=True)\n",
        "    self.linear = nn.Linear(hidden_size, vocab_size)\n",
        "  def forward(self,x,h):\n",
        "    x = self.embed(x)\n",
        "    out, (h,c) = self.lstm(x,h)\n",
        "    #batch_size(20),seg_len(30),hidden_size(1024)\n",
        "    out = out.reshape(out.size(0)*out.size(1), out.size(2))\n",
        "    out = self.linear(out)\n",
        "    return out, (h,c)\n",
        "  "
      ],
      "execution_count": 0,
      "outputs": []
    },
    {
      "metadata": {
        "id": "HfPmtJg3W9zW",
        "colab_type": "code",
        "colab": {}
      },
      "cell_type": "code",
      "source": [
        "model = RNNLM(vocab_size, con.embed_size, con.hidden_size, con.num_layers).to(con.device)\n",
        "criterion = nn.CrossEntropyLoss()\n",
        "optimizer = torch.optim.Adam(model.parameters(),lr = con.learning_rate)"
      ],
      "execution_count": 0,
      "outputs": []
    },
    {
      "metadata": {
        "id": "o_z_sdHwZqHR",
        "colab_type": "code",
        "colab": {}
      },
      "cell_type": "code",
      "source": [
        "#for name, param in model.named_parameters():\n",
        "#  print(name,param.size())"
      ],
      "execution_count": 0,
      "outputs": []
    },
    {
      "metadata": {
        "id": "Qrt8_8N9e7M3",
        "colab_type": "code",
        "colab": {}
      },
      "cell_type": "code",
      "source": [
        "def detach(states):\n",
        "  return [state.detach() for state in states]\n",
        "\n",
        "#Training model\n",
        "for epoch in range(con.num_epochs):\n",
        "  states = (torch.zeros(con.num_layers,con.batch_size,con.hidden_size).to(con.device),\n",
        "            torch.zeros(con.num_layers,con.batch_size,con.hidden_size).to(con.device))\n",
        "  vstates = (torch.zeros(con.num_layers,con.batch_size,con.hidden_size).to(con.device),\n",
        "            torch.zeros(con.num_layers,con.batch_size,con.hidden_size).to(con.device))\n",
        "  model.train()\n",
        "  \n",
        "  #Training set\n",
        "  for i in range(0, ids.size(1)-con.seq_length, con.seq_length):\n",
        "    #Get mini-batch and inputs\n",
        "    inputs = ids[:,i:i+con.seq_length].to(con.device)\n",
        "    targets = ids[:,(i+1):(i+1)+con.seq_length].to(con.device)\n",
        "    \n",
        "    #Forward pass\n",
        "    states = detach(states)\n",
        "    output,states = model(inputs,states)\n",
        "    loss = criterion(output,targets.reshape(-1))\n",
        "    \n",
        "    #backward pass and optimize\n",
        "    model.zero_grad()\n",
        "    loss.backward()\n",
        "    torch.nn.utils.clip_grad_norm_(model.parameters(),0.5)\n",
        "    optimizer.step()\n",
        "    step = (i+1)//con.seq_length\n",
        "    if step%100==0:\n",
        "      print ('Step [{}/{}], Epoch [{}/{}], Train Loss: {:.4f}, Train Perplexity: {:5.2f}'\n",
        "         .format(step, num_batches, epoch+1, con.num_epochs, loss.item(), np.exp(loss.item())))\n",
        "  \n",
        "  #Validation set\n",
        "  model.eval()\n",
        "  val_loss = 0\n",
        "  val_size = vids.size(1)//con.seq_length\n",
        "  for vi in range(0, vids.size(1)-con.seq_length, con.seq_length):\n",
        "    #Get mini-batch and inputs\n",
        "    vinputs = ids[:,vi:vi+con.seq_length].to(con.device)\n",
        "    vtargets = ids[:,(vi+1):(vi+1)+con.seq_length].to(con.device)\n",
        "    \n",
        "    #Forward pass\n",
        "    vstates = detach(vstates)\n",
        "    voutput,vstates = model(vinputs,vstates)\n",
        "    voutput = voutput.detach() ##Saves lot of GPU memory\n",
        "    vloss = criterion(voutput,vtargets.reshape(-1))\n",
        "    val_loss += vloss/val_size\n",
        "\n",
        "  print('#################################################################')\n",
        "  print ('Epoch [{}/{}], Train Loss: {:.4f}, Train Perplexity: {:5.2f}, Val Loss: {:.4f}, Val Perplexity: {:5.2f}'\n",
        "         .format(epoch+1, con.num_epochs, loss.item(), np.exp(loss.item()), val_loss.item(), np.exp(val_loss.item())))                "
      ],
      "execution_count": 0,
      "outputs": []
    },
    {
      "metadata": {
        "id": "aKpSgvK9OQF5",
        "colab_type": "code",
        "outputId": "28a4e4b1-5998-4327-9c3c-0fea9df79748",
        "colab": {
          "base_uri": "https://localhost:8080/",
          "height": 187
        }
      },
      "cell_type": "code",
      "source": [
        "#Model Testing\n",
        "with torch.no_grad():\n",
        "  with open('./outputs/sample.txt','w') as f:\n",
        "    state = (torch.zeros(con.num_layers,1,con.hidden_size).to(con.device),\n",
        "            torch.zeros(con.num_layers,1,con.hidden_size).to(con.device))\n",
        "    prob = torch.ones(vocab_size)\n",
        "    input = torch.multinomial(prob,num_samples=1).unsqueeze(1).to(con.device)\n",
        "    for i in range(con.num_samples):\n",
        "      output,state = model(input,state)\n",
        "      prob = output.exp()\n",
        "      word_id = torch.multinomial(prob,num_samples=1).item()\n",
        "      input.fill_(word_id)\n",
        "      word = corpus.dictionary.idx2word[word_id]\n",
        "      word = '\\n' if word == '<eos>' else word + ' '\n",
        "      f.write(word)\n",
        "      if (i+1) % 100 == 0:\n",
        "                print('Sampled [{}/{}] words and save to {}'.format(i+1, con.num_samples, '/outputs/sample.txt'))\n",
        "\n",
        "torch.save(model.state_dict(), 'model2.ckpt')\n",
        "    "
      ],
      "execution_count": 0,
      "outputs": [
        {
          "output_type": "stream",
          "text": [
            "Sampled [100/1000] words and save to /outputs/sample.txt\n",
            "Sampled [200/1000] words and save to /outputs/sample.txt\n",
            "Sampled [300/1000] words and save to /outputs/sample.txt\n",
            "Sampled [400/1000] words and save to /outputs/sample.txt\n",
            "Sampled [500/1000] words and save to /outputs/sample.txt\n",
            "Sampled [600/1000] words and save to /outputs/sample.txt\n",
            "Sampled [700/1000] words and save to /outputs/sample.txt\n",
            "Sampled [800/1000] words and save to /outputs/sample.txt\n",
            "Sampled [900/1000] words and save to /outputs/sample.txt\n",
            "Sampled [1000/1000] words and save to /outputs/sample.txt\n"
          ],
          "name": "stdout"
        }
      ]
    },
    {
      "metadata": {
        "id": "lpREl238axSd",
        "colab_type": "code",
        "colab": {}
      },
      "cell_type": "code",
      "source": [
        "# Next steps:\n",
        "#Get error and perplixity for val set for each epoch | on Test set at end of training\n",
        "#Fine tuning using LR, regularisation\n",
        "#Implement AWD LSTM with drop connect, dropout over hidden-hidden, Variable batch size\n",
        "#Weight tying with the embeddings for the last fully connected layer\n",
        "#Evaluation of the Langauge model"
      ],
      "execution_count": 0,
      "outputs": []
    }
  ]
}