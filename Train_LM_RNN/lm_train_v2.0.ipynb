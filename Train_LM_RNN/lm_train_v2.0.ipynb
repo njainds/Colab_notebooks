{
  "nbformat": 4,
  "nbformat_minor": 0,
  "metadata": {
    "colab": {
      "name": "Untitled0.ipynb",
      "version": "0.3.2",
      "provenance": [],
      "include_colab_link": true
    },
    "kernelspec": {
      "name": "python3",
      "display_name": "Python 3"
    },
    "accelerator": "GPU"
  },
  "cells": [
    {
      "cell_type": "markdown",
      "metadata": {
        "id": "view-in-github",
        "colab_type": "text"
      },
      "source": [
        "<a href=\"https://colab.research.google.com/github/njainds/Colab_notebooks/blob/master/Train_LM_RNN/lm_train_v2.0.ipynb\" target=\"_parent\"><img src=\"https://colab.research.google.com/assets/colab-badge.svg\" alt=\"Open In Colab\"/></a>"
      ]
    },
    {
      "metadata": {
        "id": "QYpecTXf_H6o",
        "colab_type": "code",
        "colab": {}
      },
      "cell_type": "code",
      "source": [
        "# Langauge model training on Wiki Text 103 dataset"
      ],
      "execution_count": 0,
      "outputs": []
    },
    {
      "metadata": {
        "id": "xlhWWPwGggVX",
        "colab_type": "code",
        "colab": {}
      },
      "cell_type": "code",
      "source": [
        "# Data preparation\n",
        "#DataSource: https://www.salesforce.com/products/einstein/ai-research/the-wikitext-dependency-language-modeling-dataset/\n",
        "#Scripts:\n",
        "#https://github.com/yunjey/pytorch-tutorial/tree/master/tutorials/02-intermediate/language_model\n",
        "#https://github.com/pytorch/examples/tree/master/word_language_model"
      ],
      "execution_count": 0,
      "outputs": []
    },
    {
      "metadata": {
        "id": "5AL5rrZqLghp",
        "colab_type": "code",
        "outputId": "91548abc-961c-45e7-8593-39bbb8f31ef2",
        "colab": {
          "base_uri": "https://localhost:8080/",
          "height": 50
        }
      },
      "cell_type": "code",
      "source": [
        "import torch\n",
        "print(\"Name of GPU : {}\".format(torch.cuda.get_device_name(0)))\n",
        "print(\"# of GPU : {}\".format(torch.cuda.device_count()))\n"
      ],
      "execution_count": 1,
      "outputs": [
        {
          "output_type": "stream",
          "text": [
            "Name of GPU : Tesla T4\n",
            "# of GPU : 1\n"
          ],
          "name": "stdout"
        }
      ]
    },
    {
      "metadata": {
        "id": "0zRdXN9yo6k3",
        "colab_type": "code",
        "outputId": "80827ba3-c0d5-4f9d-d13a-e27ef012ff82",
        "colab": {
          "base_uri": "https://localhost:8080/",
          "height": 138
        }
      },
      "cell_type": "code",
      "source": [
        "from google.colab import drive\n",
        "drive.mount('/content/drive')\n",
        "import os\n",
        "#os.mkdir('/content/drive/My Drive/LM_model')\n",
        "#os.mkdir('/content/drive/My Drive/LM_model/data')\n",
        "#os.mkdir('/content/drive/My Drive/LM_model/models')\n",
        "#os.mkdir('/content/drive/My Drive/LM_model/outputs')\n",
        "!ls \"/content/drive/My Drive/LM_model\"\n",
        "os.chdir('/content/drive/My Drive/LM_model')"
      ],
      "execution_count": 1,
      "outputs": [
        {
          "output_type": "stream",
          "text": [
            "Go to this URL in a browser: https://accounts.google.com/o/oauth2/auth?client_id=947318989803-6bn6qk8qdgf4n4g3pfee6491hc0brc4i.apps.googleusercontent.com&redirect_uri=urn%3Aietf%3Awg%3Aoauth%3A2.0%3Aoob&scope=email%20https%3A%2F%2Fwww.googleapis.com%2Fauth%2Fdocs.test%20https%3A%2F%2Fwww.googleapis.com%2Fauth%2Fdrive%20https%3A%2F%2Fwww.googleapis.com%2Fauth%2Fdrive.photos.readonly%20https%3A%2F%2Fwww.googleapis.com%2Fauth%2Fpeopleapi.readonly&response_type=code\n",
            "\n",
            "Enter your authorization code:\n",
            "··········\n",
            "Mounted at /content/drive\n",
            "data  models  outputs\n"
          ],
          "name": "stdout"
        }
      ]
    },
    {
      "metadata": {
        "id": "NhSwmpxVpCSx",
        "colab_type": "code",
        "colab": {}
      },
      "cell_type": "code",
      "source": [
        "#Downloading data\n",
        "oc.chdir('./data')\n",
        "!wget https://s3.amazonaws.com/research.metamind.io/wikitext/wikitext-2-v1.zip\n",
        "!unzip wikitext-2-v1.zip\n",
        "!head wikitext-2/wiki.test.tokens"
      ],
      "execution_count": 0,
      "outputs": []
    },
    {
      "metadata": {
        "id": "sO6PF4BHCNBw",
        "colab_type": "code",
        "colab": {}
      },
      "cell_type": "code",
      "source": [
        "import torch\n",
        "import os\n",
        "\n",
        "class Dictionary(object):\n",
        "  def __init__(self):\n",
        "    self.word2idx = {}\n",
        "    self.idx2word = {}\n",
        "    self.idx = 0\n",
        "  def add_word(self,word):\n",
        "    if not word in self.word2idx:\n",
        "      self.word2idx[word] = self.idx\n",
        "      self.idx2word[self.idx] = word\n",
        "      self.idx += 1\n",
        "  def __len__(self):\n",
        "    return len(self.word2idx)\n",
        "\n",
        "class Corpus(object):\n",
        "  def __init__(self):\n",
        "    self.dictionary = Dictionary()\n",
        "  def get_data(self, path, batch_size=20):\n",
        "    with open(path, 'r') as f:\n",
        "      tokens=0\n",
        "      for line in f:\n",
        "        words = line.split() + ['<eos>']\n",
        "        tokens += len(words)\n",
        "        for word in words:\n",
        "          self.dictionary.add_word(word)\n",
        "    ids = torch.LongTensor(tokens)\n",
        "    token = 0\n",
        "    with open(path, 'r') as f:\n",
        "      for line in f:\n",
        "        words = line.split() + ['<eos>']\n",
        "        for word in words:\n",
        "          ids[token] = self.dictionary.word2idx[word]\n",
        "          token +=1\n",
        "    num_batches = ids.size(0)//batch_size\n",
        "    ids = ids[:num_batches*batch_size]\n",
        "    #print(ids.size())\n",
        "    return ids.view(batch_size, -1)"
      ],
      "execution_count": 0,
      "outputs": []
    },
    {
      "metadata": {
        "id": "pb9ghA0kGTDA",
        "colab_type": "code",
        "colab": {}
      },
      "cell_type": "code",
      "source": [
        "import torch.nn as nn\n",
        "import torch.nn.utils as clip_grad_norm_\n",
        "import numpy as np\n",
        "\n",
        "class config(object):\n",
        "  def __init__(self):\n",
        "    self.embed_size = 128\n",
        "    self.hidden_size = 1024\n",
        "    self.device = torch.device('cuda' if torch.cuda.is_available() else 'cpu')\n",
        "    self.num_layers = 1\n",
        "    self.num_epochs = 5\n",
        "    self.num_samples = 1000     # number of words to be sampled\n",
        "    self.batch_size = 20\n",
        "    self.seq_length = 30\n",
        "    self.learning_rate = 0.002  "
      ],
      "execution_count": 0,
      "outputs": []
    },
    {
      "metadata": {
        "id": "Sl0fKzMhPBA7",
        "colab_type": "code",
        "outputId": "a696867d-75bf-4f3d-cd43-b4a6825c0db7",
        "colab": {
          "base_uri": "https://localhost:8080/",
          "height": 50
        }
      },
      "cell_type": "code",
      "source": [
        "%%time\n",
        "#Load Data\n",
        "con = config()\n",
        "corpus = Corpus()\n",
        "ids = corpus.get_data('./data/wikitext-2/wiki.train.tokens', con.batch_size)\n",
        "vocab_size = len(corpus.dictionary)\n",
        "num_batches = ids.size(1) // con.seq_length # no. of sequences per batch\n",
        "#2088620 | 20, 104431 | 20,30,3481|"
      ],
      "execution_count": 4,
      "outputs": [
        {
          "output_type": "stream",
          "text": [
            "CPU times: user 9.83 s, sys: 1.12 s, total: 11 s\n",
            "Wall time: 11.5 s\n"
          ],
          "name": "stdout"
        }
      ]
    },
    {
      "metadata": {
        "id": "T40WNmAbkUEj",
        "colab_type": "code",
        "outputId": "dfd6f943-edbd-4fbe-9802-e7c0170b65dd",
        "colab": {
          "base_uri": "https://localhost:8080/",
          "height": 50
        }
      },
      "cell_type": "code",
      "source": [
        "%%time\n",
        "#Load Data\n",
        "valcorpus = Corpus()\n",
        "vids = valcorpus.get_data('./data/wikitext-2/wiki.test.tokens', con.batch_size)\n",
        "val_vocab_size = len(valcorpus.dictionary)\n",
        "#245560 | 20, 12278 | 20,30,409|"
      ],
      "execution_count": 5,
      "outputs": [
        {
          "output_type": "stream",
          "text": [
            "CPU times: user 1.13 s, sys: 140 ms, total: 1.27 s\n",
            "Wall time: 1.62 s\n"
          ],
          "name": "stdout"
        }
      ]
    },
    {
      "metadata": {
        "id": "Gv-NFASmMmnF",
        "colab_type": "code",
        "colab": {}
      },
      "cell_type": "code",
      "source": [
        "class RNNLM(nn.Module):\n",
        "  def __init__(self,vocab_size, embed_size, hidden_size, num_layers):\n",
        "    super(RNNLM,self).__init__()\n",
        "    self.embed = nn.Embedding(vocab_size,embed_size)\n",
        "    self.lstm = nn.LSTM(embed_size,hidden_size,num_layers,batch_first=True)\n",
        "    self.linear = nn.Linear(hidden_size, vocab_size)\n",
        "  def forward(self,x,h):\n",
        "    x = self.embed(x)\n",
        "    out, (h,c) = self.lstm(x,h)\n",
        "    #batch_size(20),seg_len(30),hidden_size(1024)\n",
        "    out = out.reshape(out.size(0)*out.size(1), out.size(2))\n",
        "    out = self.linear(out)\n",
        "    return out, (h,c)\n",
        "  "
      ],
      "execution_count": 0,
      "outputs": []
    },
    {
      "metadata": {
        "id": "HfPmtJg3W9zW",
        "colab_type": "code",
        "colab": {}
      },
      "cell_type": "code",
      "source": [
        "model = RNNLM(vocab_size, con.embed_size, con.hidden_size, con.num_layers).to(con.device)\n",
        "criterion = nn.CrossEntropyLoss()\n",
        "optimizer = torch.optim.Adam(model.parameters(),lr = con.learning_rate)"
      ],
      "execution_count": 0,
      "outputs": []
    },
    {
      "metadata": {
        "id": "o_z_sdHwZqHR",
        "colab_type": "code",
        "colab": {}
      },
      "cell_type": "code",
      "source": [
        "#for name, param in model.named_parameters():\n",
        "#  print(name,param.size())"
      ],
      "execution_count": 0,
      "outputs": []
    },
    {
      "metadata": {
        "id": "Qrt8_8N9e7M3",
        "colab_type": "code",
        "colab": {
          "base_uri": "https://localhost:8080/",
          "height": 3125
        },
        "outputId": "87dae5f1-8c1e-4f8f-b834-108bf83e5464"
      },
      "cell_type": "code",
      "source": [
        "def detach(states):\n",
        "  return [state.detach() for state in states]\n",
        "\n",
        "#Training model\n",
        "for epoch in range(con.num_epochs):\n",
        "  states = (torch.zeros(con.num_layers,con.batch_size,con.hidden_size).to(con.device),\n",
        "            torch.zeros(con.num_layers,con.batch_size,con.hidden_size).to(con.device))\n",
        "  vstates = (torch.zeros(con.num_layers,con.batch_size,con.hidden_size).to(con.device),\n",
        "            torch.zeros(con.num_layers,con.batch_size,con.hidden_size).to(con.device))\n",
        "  model.train()\n",
        "  \n",
        "  #Training set\n",
        "  for i in range(0, ids.size(1)-con.seq_length, con.seq_length):\n",
        "    #Get mini-batch and inputs\n",
        "    inputs = ids[:,i:i+con.seq_length].to(con.device)\n",
        "    targets = ids[:,(i+1):(i+1)+con.seq_length].to(con.device)\n",
        "    \n",
        "    #Forward pass\n",
        "    states = detach(states)\n",
        "    output,states = model(inputs,states)\n",
        "    loss = criterion(output,targets.reshape(-1))\n",
        "    \n",
        "    #backward pass and optimize\n",
        "    model.zero_grad()\n",
        "    loss.backward()\n",
        "    torch.nn.utils.clip_grad_norm_(model.parameters(),0.5)\n",
        "    optimizer.step()\n",
        "    step = (i+1)//con.seq_length\n",
        "    if step%100==0:\n",
        "      print ('Step [{}/{}], Epoch [{}/{}], Train Loss: {:.4f}, Train Perplexity: {:5.2f}'\n",
        "         .format(step, num_batches, epoch+1, con.num_epochs, loss.item(), np.exp(loss.item())))\n",
        "  \n",
        "  #Validation set\n",
        "  model.eval()\n",
        "  val_loss = 0\n",
        "  val_size = vids.size(1)//con.seq_length\n",
        "  for vi in range(0, vids.size(1)-con.seq_length, con.seq_length):\n",
        "    #Get mini-batch and inputs\n",
        "    vinputs = ids[:,vi:vi+con.seq_length].to(con.device)\n",
        "    vtargets = ids[:,(vi+1):(vi+1)+con.seq_length].to(con.device)\n",
        "    \n",
        "    #Forward pass\n",
        "    vstates = detach(vstates)\n",
        "    voutput,vstates = model(vinputs,vstates)\n",
        "    voutput = voutput.detach() ##Saves lot of GPU memory\n",
        "    vloss = criterion(voutput,vtargets.reshape(-1))\n",
        "    val_loss += vloss/val_size\n",
        "\n",
        "  print('#################################################################')\n",
        "  print ('Epoch [{}/{}], Train Loss: {:.4f}, Train Perplexity: {:5.2f}, Val Loss: {:.4f}, Val Perplexity: {:5.2f}'\n",
        "         .format(epoch+1, con.num_epochs, loss.item(), np.exp(loss.item()), val_loss.item(), np.exp(val_loss.item())))                "
      ],
      "execution_count": 8,
      "outputs": [
        {
          "output_type": "stream",
          "text": [
            "Step [0/3481], Epoch [1/5], Train Loss: 10.4028, Train Perplexity: 32952.60\n",
            "Step [100/3481], Epoch [1/5], Train Loss: 6.6565, Train Perplexity: 777.83\n",
            "Step [200/3481], Epoch [1/5], Train Loss: 6.6260, Train Perplexity: 754.45\n",
            "Step [300/3481], Epoch [1/5], Train Loss: 6.2965, Train Perplexity: 542.69\n",
            "Step [400/3481], Epoch [1/5], Train Loss: 6.0791, Train Perplexity: 436.65\n",
            "Step [500/3481], Epoch [1/5], Train Loss: 6.0721, Train Perplexity: 433.57\n",
            "Step [600/3481], Epoch [1/5], Train Loss: 5.8352, Train Perplexity: 342.12\n",
            "Step [700/3481], Epoch [1/5], Train Loss: 5.5710, Train Perplexity: 262.68\n",
            "Step [800/3481], Epoch [1/5], Train Loss: 5.4251, Train Perplexity: 227.03\n",
            "Step [900/3481], Epoch [1/5], Train Loss: 5.7766, Train Perplexity: 322.66\n",
            "Step [1000/3481], Epoch [1/5], Train Loss: 5.8000, Train Perplexity: 330.30\n",
            "Step [1100/3481], Epoch [1/5], Train Loss: 5.7227, Train Perplexity: 305.73\n",
            "Step [1200/3481], Epoch [1/5], Train Loss: 5.5887, Train Perplexity: 267.40\n",
            "Step [1300/3481], Epoch [1/5], Train Loss: 5.7030, Train Perplexity: 299.75\n",
            "Step [1400/3481], Epoch [1/5], Train Loss: 5.7226, Train Perplexity: 305.70\n",
            "Step [1500/3481], Epoch [1/5], Train Loss: 5.5218, Train Perplexity: 250.08\n",
            "Step [1600/3481], Epoch [1/5], Train Loss: 5.2714, Train Perplexity: 194.69\n",
            "Step [1700/3481], Epoch [1/5], Train Loss: 5.4390, Train Perplexity: 230.20\n",
            "Step [1800/3481], Epoch [1/5], Train Loss: 5.6290, Train Perplexity: 278.39\n",
            "Step [1900/3481], Epoch [1/5], Train Loss: 5.1927, Train Perplexity: 179.96\n",
            "Step [2000/3481], Epoch [1/5], Train Loss: 5.4238, Train Perplexity: 226.73\n",
            "Step [2100/3481], Epoch [1/5], Train Loss: 5.3003, Train Perplexity: 200.39\n",
            "Step [2200/3481], Epoch [1/5], Train Loss: 5.2196, Train Perplexity: 184.87\n",
            "Step [2300/3481], Epoch [1/5], Train Loss: 5.2750, Train Perplexity: 195.39\n",
            "Step [2400/3481], Epoch [1/5], Train Loss: 5.4868, Train Perplexity: 241.49\n",
            "Step [2500/3481], Epoch [1/5], Train Loss: 5.2600, Train Perplexity: 192.48\n",
            "Step [2600/3481], Epoch [1/5], Train Loss: 4.9459, Train Perplexity: 140.60\n",
            "Step [2700/3481], Epoch [1/5], Train Loss: 5.3602, Train Perplexity: 212.76\n",
            "Step [2800/3481], Epoch [1/5], Train Loss: 5.3380, Train Perplexity: 208.09\n",
            "Step [2900/3481], Epoch [1/5], Train Loss: 5.2015, Train Perplexity: 181.54\n",
            "Step [3000/3481], Epoch [1/5], Train Loss: 5.1088, Train Perplexity: 165.47\n",
            "Step [3100/3481], Epoch [1/5], Train Loss: 5.0162, Train Perplexity: 150.84\n",
            "Step [3200/3481], Epoch [1/5], Train Loss: 4.8660, Train Perplexity: 129.80\n",
            "Step [3300/3481], Epoch [1/5], Train Loss: 5.0748, Train Perplexity: 159.94\n",
            "Step [3400/3481], Epoch [1/5], Train Loss: 5.1395, Train Perplexity: 170.63\n",
            "#################################################################\n",
            "Epoch [1/5], Train Loss: 5.1263, Train Perplexity: 168.40, Val Loss: 5.3375, Val Perplexity: 207.98\n",
            "Step [0/3481], Epoch [2/5], Train Loss: 4.9489, Train Perplexity: 141.02\n",
            "Step [100/3481], Epoch [2/5], Train Loss: 4.9871, Train Perplexity: 146.52\n",
            "Step [200/3481], Epoch [2/5], Train Loss: 5.0939, Train Perplexity: 163.03\n",
            "Step [300/3481], Epoch [2/5], Train Loss: 4.8010, Train Perplexity: 121.64\n",
            "Step [400/3481], Epoch [2/5], Train Loss: 4.8177, Train Perplexity: 123.68\n",
            "Step [500/3481], Epoch [2/5], Train Loss: 4.5560, Train Perplexity: 95.20\n",
            "Step [600/3481], Epoch [2/5], Train Loss: 4.4282, Train Perplexity: 83.78\n",
            "Step [700/3481], Epoch [2/5], Train Loss: 4.4579, Train Perplexity: 86.30\n",
            "Step [800/3481], Epoch [2/5], Train Loss: 4.4411, Train Perplexity: 84.87\n",
            "Step [900/3481], Epoch [2/5], Train Loss: 4.5832, Train Perplexity: 97.83\n",
            "Step [1000/3481], Epoch [2/5], Train Loss: 4.7481, Train Perplexity: 115.37\n",
            "Step [1100/3481], Epoch [2/5], Train Loss: 4.6714, Train Perplexity: 106.85\n",
            "Step [1200/3481], Epoch [2/5], Train Loss: 4.4687, Train Perplexity: 87.24\n",
            "Step [1300/3481], Epoch [2/5], Train Loss: 4.5502, Train Perplexity: 94.65\n",
            "Step [1400/3481], Epoch [2/5], Train Loss: 4.4235, Train Perplexity: 83.39\n",
            "Step [1500/3481], Epoch [2/5], Train Loss: 4.4709, Train Perplexity: 87.43\n",
            "Step [1600/3481], Epoch [2/5], Train Loss: 4.3031, Train Perplexity: 73.93\n",
            "Step [1700/3481], Epoch [2/5], Train Loss: 4.3098, Train Perplexity: 74.43\n",
            "Step [1800/3481], Epoch [2/5], Train Loss: 4.6749, Train Perplexity: 107.22\n",
            "Step [1900/3481], Epoch [2/5], Train Loss: 4.0505, Train Perplexity: 57.43\n",
            "Step [2000/3481], Epoch [2/5], Train Loss: 4.3967, Train Perplexity: 81.18\n",
            "Step [2100/3481], Epoch [2/5], Train Loss: 4.2522, Train Perplexity: 70.26\n",
            "Step [2200/3481], Epoch [2/5], Train Loss: 4.3074, Train Perplexity: 74.25\n",
            "Step [2300/3481], Epoch [2/5], Train Loss: 4.3728, Train Perplexity: 79.26\n",
            "Step [2400/3481], Epoch [2/5], Train Loss: 4.4556, Train Perplexity: 86.11\n",
            "Step [2500/3481], Epoch [2/5], Train Loss: 4.3140, Train Perplexity: 74.74\n",
            "Step [2600/3481], Epoch [2/5], Train Loss: 4.1149, Train Perplexity: 61.25\n",
            "Step [2700/3481], Epoch [2/5], Train Loss: 4.3418, Train Perplexity: 76.84\n",
            "Step [2800/3481], Epoch [2/5], Train Loss: 4.3277, Train Perplexity: 75.77\n",
            "Step [2900/3481], Epoch [2/5], Train Loss: 4.2007, Train Perplexity: 66.73\n",
            "Step [3000/3481], Epoch [2/5], Train Loss: 4.2679, Train Perplexity: 71.37\n",
            "Step [3100/3481], Epoch [2/5], Train Loss: 4.1313, Train Perplexity: 62.26\n",
            "Step [3200/3481], Epoch [2/5], Train Loss: 3.9361, Train Perplexity: 51.22\n",
            "Step [3300/3481], Epoch [2/5], Train Loss: 4.2300, Train Perplexity: 68.71\n",
            "Step [3400/3481], Epoch [2/5], Train Loss: 4.3391, Train Perplexity: 76.64\n",
            "#################################################################\n",
            "Epoch [2/5], Train Loss: 4.3285, Train Perplexity: 75.83, Val Loss: 4.6329, Val Perplexity: 102.81\n",
            "Step [0/3481], Epoch [3/5], Train Loss: 4.1844, Train Perplexity: 65.65\n",
            "Step [100/3481], Epoch [3/5], Train Loss: 4.1691, Train Perplexity: 64.66\n",
            "Step [200/3481], Epoch [3/5], Train Loss: 4.1246, Train Perplexity: 61.84\n",
            "Step [300/3481], Epoch [3/5], Train Loss: 4.0059, Train Perplexity: 54.92\n",
            "Step [400/3481], Epoch [3/5], Train Loss: 3.9396, Train Perplexity: 51.40\n",
            "Step [500/3481], Epoch [3/5], Train Loss: 3.8611, Train Perplexity: 47.52\n",
            "Step [600/3481], Epoch [3/5], Train Loss: 3.6524, Train Perplexity: 38.57\n",
            "Step [700/3481], Epoch [3/5], Train Loss: 3.8115, Train Perplexity: 45.22\n",
            "Step [800/3481], Epoch [3/5], Train Loss: 3.7317, Train Perplexity: 41.75\n",
            "Step [900/3481], Epoch [3/5], Train Loss: 3.8551, Train Perplexity: 47.23\n",
            "Step [1000/3481], Epoch [3/5], Train Loss: 4.0469, Train Perplexity: 57.22\n",
            "Step [1100/3481], Epoch [3/5], Train Loss: 3.9396, Train Perplexity: 51.40\n",
            "Step [1200/3481], Epoch [3/5], Train Loss: 3.8034, Train Perplexity: 44.85\n",
            "Step [1300/3481], Epoch [3/5], Train Loss: 3.8895, Train Perplexity: 48.89\n",
            "Step [1400/3481], Epoch [3/5], Train Loss: 3.6585, Train Perplexity: 38.80\n",
            "Step [1500/3481], Epoch [3/5], Train Loss: 3.7280, Train Perplexity: 41.59\n",
            "Step [1600/3481], Epoch [3/5], Train Loss: 3.5791, Train Perplexity: 35.84\n",
            "Step [1700/3481], Epoch [3/5], Train Loss: 3.5917, Train Perplexity: 36.30\n",
            "Step [1800/3481], Epoch [3/5], Train Loss: 4.0544, Train Perplexity: 57.65\n",
            "Step [1900/3481], Epoch [3/5], Train Loss: 3.4283, Train Perplexity: 30.82\n",
            "Step [2000/3481], Epoch [3/5], Train Loss: 3.7522, Train Perplexity: 42.61\n",
            "Step [2100/3481], Epoch [3/5], Train Loss: 3.6096, Train Perplexity: 36.95\n",
            "Step [2200/3481], Epoch [3/5], Train Loss: 3.7424, Train Perplexity: 42.20\n",
            "Step [2300/3481], Epoch [3/5], Train Loss: 3.7211, Train Perplexity: 41.31\n",
            "Step [2400/3481], Epoch [3/5], Train Loss: 3.7834, Train Perplexity: 43.96\n",
            "Step [2500/3481], Epoch [3/5], Train Loss: 3.5942, Train Perplexity: 36.39\n",
            "Step [2600/3481], Epoch [3/5], Train Loss: 3.6374, Train Perplexity: 37.99\n",
            "Step [2700/3481], Epoch [3/5], Train Loss: 3.6693, Train Perplexity: 39.22\n",
            "Step [2800/3481], Epoch [3/5], Train Loss: 3.6498, Train Perplexity: 38.47\n",
            "Step [2900/3481], Epoch [3/5], Train Loss: 3.5056, Train Perplexity: 33.30\n",
            "Step [3000/3481], Epoch [3/5], Train Loss: 3.6824, Train Perplexity: 39.74\n",
            "Step [3100/3481], Epoch [3/5], Train Loss: 3.4785, Train Perplexity: 32.41\n",
            "Step [3200/3481], Epoch [3/5], Train Loss: 3.2704, Train Perplexity: 26.32\n",
            "Step [3300/3481], Epoch [3/5], Train Loss: 3.6616, Train Perplexity: 38.92\n",
            "Step [3400/3481], Epoch [3/5], Train Loss: 3.6788, Train Perplexity: 39.60\n",
            "#################################################################\n",
            "Epoch [3/5], Train Loss: 3.7283, Train Perplexity: 41.61, Val Loss: 4.1710, Val Perplexity: 64.78\n",
            "Step [0/3481], Epoch [4/5], Train Loss: 3.5470, Train Perplexity: 34.71\n",
            "Step [100/3481], Epoch [4/5], Train Loss: 3.5494, Train Perplexity: 34.79\n",
            "Step [200/3481], Epoch [4/5], Train Loss: 3.6187, Train Perplexity: 37.29\n",
            "Step [300/3481], Epoch [4/5], Train Loss: 3.5364, Train Perplexity: 34.34\n",
            "Step [400/3481], Epoch [4/5], Train Loss: 3.3791, Train Perplexity: 29.34\n",
            "Step [500/3481], Epoch [4/5], Train Loss: 3.3846, Train Perplexity: 29.51\n",
            "Step [600/3481], Epoch [4/5], Train Loss: 3.1899, Train Perplexity: 24.29\n",
            "Step [700/3481], Epoch [4/5], Train Loss: 3.4052, Train Perplexity: 30.12\n",
            "Step [800/3481], Epoch [4/5], Train Loss: 3.2993, Train Perplexity: 27.09\n",
            "Step [900/3481], Epoch [4/5], Train Loss: 3.4200, Train Perplexity: 30.57\n",
            "Step [1000/3481], Epoch [4/5], Train Loss: 3.5831, Train Perplexity: 35.99\n",
            "Step [1100/3481], Epoch [4/5], Train Loss: 3.4216, Train Perplexity: 30.62\n",
            "Step [1200/3481], Epoch [4/5], Train Loss: 3.3813, Train Perplexity: 29.41\n",
            "Step [1300/3481], Epoch [4/5], Train Loss: 3.4535, Train Perplexity: 31.61\n",
            "Step [1400/3481], Epoch [4/5], Train Loss: 3.2520, Train Perplexity: 25.84\n",
            "Step [1500/3481], Epoch [4/5], Train Loss: 3.3570, Train Perplexity: 28.70\n",
            "Step [1600/3481], Epoch [4/5], Train Loss: 3.1347, Train Perplexity: 22.98\n",
            "Step [1700/3481], Epoch [4/5], Train Loss: 3.1792, Train Perplexity: 24.03\n",
            "Step [1800/3481], Epoch [4/5], Train Loss: 3.6387, Train Perplexity: 38.04\n",
            "Step [1900/3481], Epoch [4/5], Train Loss: 3.0341, Train Perplexity: 20.78\n",
            "Step [2000/3481], Epoch [4/5], Train Loss: 3.4112, Train Perplexity: 30.30\n",
            "Step [2100/3481], Epoch [4/5], Train Loss: 3.2390, Train Perplexity: 25.51\n",
            "Step [2200/3481], Epoch [4/5], Train Loss: 3.3887, Train Perplexity: 29.63\n",
            "Step [2300/3481], Epoch [4/5], Train Loss: 3.3709, Train Perplexity: 29.10\n",
            "Step [2400/3481], Epoch [4/5], Train Loss: 3.3472, Train Perplexity: 28.42\n",
            "Step [2500/3481], Epoch [4/5], Train Loss: 3.1358, Train Perplexity: 23.01\n",
            "Step [2600/3481], Epoch [4/5], Train Loss: 3.2854, Train Perplexity: 26.72\n",
            "Step [2700/3481], Epoch [4/5], Train Loss: 3.3465, Train Perplexity: 28.40\n",
            "Step [2800/3481], Epoch [4/5], Train Loss: 3.2655, Train Perplexity: 26.19\n",
            "Step [2900/3481], Epoch [4/5], Train Loss: 3.1204, Train Perplexity: 22.66\n",
            "Step [3000/3481], Epoch [4/5], Train Loss: 3.2950, Train Perplexity: 26.98\n",
            "Step [3100/3481], Epoch [4/5], Train Loss: 3.0725, Train Perplexity: 21.60\n",
            "Step [3200/3481], Epoch [4/5], Train Loss: 2.8968, Train Perplexity: 18.12\n",
            "Step [3300/3481], Epoch [4/5], Train Loss: 3.2421, Train Perplexity: 25.59\n",
            "Step [3400/3481], Epoch [4/5], Train Loss: 3.3659, Train Perplexity: 28.96\n",
            "#################################################################\n",
            "Epoch [4/5], Train Loss: 3.2818, Train Perplexity: 26.62, Val Loss: 3.8981, Val Perplexity: 49.31\n",
            "Step [0/3481], Epoch [5/5], Train Loss: 3.1747, Train Perplexity: 23.92\n",
            "Step [100/3481], Epoch [5/5], Train Loss: 3.1834, Train Perplexity: 24.13\n",
            "Step [200/3481], Epoch [5/5], Train Loss: 3.2930, Train Perplexity: 26.92\n",
            "Step [300/3481], Epoch [5/5], Train Loss: 3.1862, Train Perplexity: 24.20\n",
            "Step [400/3481], Epoch [5/5], Train Loss: 3.0392, Train Perplexity: 20.89\n",
            "Step [500/3481], Epoch [5/5], Train Loss: 3.1637, Train Perplexity: 23.66\n",
            "Step [600/3481], Epoch [5/5], Train Loss: 2.9153, Train Perplexity: 18.45\n",
            "Step [700/3481], Epoch [5/5], Train Loss: 3.1739, Train Perplexity: 23.90\n",
            "Step [800/3481], Epoch [5/5], Train Loss: 3.0329, Train Perplexity: 20.76\n",
            "Step [900/3481], Epoch [5/5], Train Loss: 3.1925, Train Perplexity: 24.35\n",
            "Step [1000/3481], Epoch [5/5], Train Loss: 3.2891, Train Perplexity: 26.82\n",
            "Step [1100/3481], Epoch [5/5], Train Loss: 3.2003, Train Perplexity: 24.54\n",
            "Step [1200/3481], Epoch [5/5], Train Loss: 3.1455, Train Perplexity: 23.23\n",
            "Step [1300/3481], Epoch [5/5], Train Loss: 3.2799, Train Perplexity: 26.57\n",
            "Step [1400/3481], Epoch [5/5], Train Loss: 3.0390, Train Perplexity: 20.88\n",
            "Step [1500/3481], Epoch [5/5], Train Loss: 3.0453, Train Perplexity: 21.02\n",
            "Step [1600/3481], Epoch [5/5], Train Loss: 2.9383, Train Perplexity: 18.88\n",
            "Step [1700/3481], Epoch [5/5], Train Loss: 2.9574, Train Perplexity: 19.25\n",
            "Step [1800/3481], Epoch [5/5], Train Loss: 3.3299, Train Perplexity: 27.94\n",
            "Step [1900/3481], Epoch [5/5], Train Loss: 2.7586, Train Perplexity: 15.78\n",
            "Step [2000/3481], Epoch [5/5], Train Loss: 3.1395, Train Perplexity: 23.09\n",
            "Step [2100/3481], Epoch [5/5], Train Loss: 3.0675, Train Perplexity: 21.49\n",
            "Step [2200/3481], Epoch [5/5], Train Loss: 3.1823, Train Perplexity: 24.10\n",
            "Step [2300/3481], Epoch [5/5], Train Loss: 3.1182, Train Perplexity: 22.61\n",
            "Step [2400/3481], Epoch [5/5], Train Loss: 3.2004, Train Perplexity: 24.54\n",
            "Step [2500/3481], Epoch [5/5], Train Loss: 2.8824, Train Perplexity: 17.86\n",
            "Step [2600/3481], Epoch [5/5], Train Loss: 3.0319, Train Perplexity: 20.74\n",
            "Step [2700/3481], Epoch [5/5], Train Loss: 3.1003, Train Perplexity: 22.20\n",
            "Step [2800/3481], Epoch [5/5], Train Loss: 3.0986, Train Perplexity: 22.17\n",
            "Step [2900/3481], Epoch [5/5], Train Loss: 2.8672, Train Perplexity: 17.59\n",
            "Step [3000/3481], Epoch [5/5], Train Loss: 3.0554, Train Perplexity: 21.23\n",
            "Step [3100/3481], Epoch [5/5], Train Loss: 2.8362, Train Perplexity: 17.05\n",
            "Step [3200/3481], Epoch [5/5], Train Loss: 2.7155, Train Perplexity: 15.11\n",
            "Step [3300/3481], Epoch [5/5], Train Loss: 3.0113, Train Perplexity: 20.31\n",
            "Step [3400/3481], Epoch [5/5], Train Loss: 3.1837, Train Perplexity: 24.14\n",
            "#################################################################\n",
            "Epoch [5/5], Train Loss: 3.0522, Train Perplexity: 21.16, Val Loss: 3.7155, Val Perplexity: 41.08\n"
          ],
          "name": "stdout"
        }
      ]
    },
    {
      "metadata": {
        "id": "aKpSgvK9OQF5",
        "colab_type": "code",
        "outputId": "107968a4-e09f-4c99-ca4c-990b7b94d0ca",
        "colab": {
          "base_uri": "https://localhost:8080/",
          "height": 185
        }
      },
      "cell_type": "code",
      "source": [
        "#Model Testing\n",
        "with torch.no_grad():\n",
        "  with open('./outputs/sample.txt','w') as f:\n",
        "    state = (torch.zeros(con.num_layers,1,con.hidden_size).to(con.device),\n",
        "            torch.zeros(con.num_layers,1,con.hidden_size).to(con.device))\n",
        "    prob = torch.ones(vocab_size)\n",
        "    input = torch.multinomial(prob,num_samples=1).unsqueeze(1).to(con.device)\n",
        "    for i in range(con.num_samples):\n",
        "      output,state = model(input,state)\n",
        "      prob = output.exp()\n",
        "      word_id = torch.multinomial(prob,num_samples=1).item()\n",
        "      input.fill_(word_id)\n",
        "      word = corpus.dictionary.idx2word[word_id]\n",
        "      word = '\\n' if word == '<eos>' else word + ' '\n",
        "      f.write(word)\n",
        "      if (i+1) % 100 == 0:\n",
        "                print('Sampled [{}/{}] words and save to {}'.format(i+1, con.num_samples, '/outputs/sample2.txt'))\n",
        "\n",
        "torch.save(model.state_dict(), 'model2.ckpt')\n",
        "    "
      ],
      "execution_count": 9,
      "outputs": [
        {
          "output_type": "stream",
          "text": [
            "Sampled [100/1000] words and save to /outputs/sample2.txt\n",
            "Sampled [200/1000] words and save to /outputs/sample2.txt\n",
            "Sampled [300/1000] words and save to /outputs/sample2.txt\n",
            "Sampled [400/1000] words and save to /outputs/sample2.txt\n",
            "Sampled [500/1000] words and save to /outputs/sample2.txt\n",
            "Sampled [600/1000] words and save to /outputs/sample2.txt\n",
            "Sampled [700/1000] words and save to /outputs/sample2.txt\n",
            "Sampled [800/1000] words and save to /outputs/sample2.txt\n",
            "Sampled [900/1000] words and save to /outputs/sample2.txt\n",
            "Sampled [1000/1000] words and save to /outputs/sample2.txt\n"
          ],
          "name": "stdout"
        }
      ]
    },
    {
      "metadata": {
        "id": "lpREl238axSd",
        "colab_type": "code",
        "colab": {}
      },
      "cell_type": "code",
      "source": [
        "# Next steps:\n",
        "#Get error and perplixity for val set for each epoch | on Test set at end of training\n",
        "#Fine tuning using LR, regularisation\n",
        "#Implement AWD LSTM with drop connect, dropout over hidden-hidden, Variable batch size\n",
        "#Weight tying with the embeddings for the last fully connected layer\n",
        "#Evaluation of the Langauge model"
      ],
      "execution_count": 0,
      "outputs": []
    }
  ]
}