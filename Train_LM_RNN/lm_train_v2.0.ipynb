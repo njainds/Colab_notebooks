{
  "nbformat": 4,
  "nbformat_minor": 0,
  "metadata": {
    "colab": {
      "name": "Untitled0.ipynb",
      "version": "0.3.2",
      "provenance": [],
      "include_colab_link": true
    },
    "kernelspec": {
      "name": "python3",
      "display_name": "Python 3"
    },
    "accelerator": "GPU"
  },
  "cells": [
    {
      "cell_type": "markdown",
      "metadata": {
        "id": "view-in-github",
        "colab_type": "text"
      },
      "source": [
        "<a href=\"https://colab.research.google.com/github/njainds/Colab_notebooks/blob/master/Train_LM_RNN/lm_train_v2.0.ipynb\" target=\"_parent\"><img src=\"https://colab.research.google.com/assets/colab-badge.svg\" alt=\"Open In Colab\"/></a>"
      ]
    },
    {
      "metadata": {
        "id": "QYpecTXf_H6o",
        "colab_type": "code",
        "colab": {}
      },
      "cell_type": "code",
      "source": [
        "# Langauge model training on Wiki Text 103 dataset"
      ],
      "execution_count": 0,
      "outputs": []
    },
    {
      "metadata": {
        "id": "xlhWWPwGggVX",
        "colab_type": "code",
        "colab": {}
      },
      "cell_type": "code",
      "source": [
        "# Data preparation\n",
        "#DataSource: https://www.salesforce.com/products/einstein/ai-research/the-wikitext-dependency-language-modeling-dataset/\n",
        "#Scripts:\n",
        "#https://github.com/yunjey/pytorch-tutorial/tree/master/tutorials/02-intermediate/language_model\n",
        "#https://github.com/pytorch/examples/tree/master/word_language_model"
      ],
      "execution_count": 0,
      "outputs": []
    },
    {
      "metadata": {
        "id": "5AL5rrZqLghp",
        "colab_type": "code",
        "outputId": "cf4fde3e-d8ce-495e-92f2-585393735d70",
        "colab": {
          "base_uri": "https://localhost:8080/",
          "height": 51
        }
      },
      "cell_type": "code",
      "source": [
        "import torch\n",
        "print(\"Name of GPU : {}\".format(torch.cuda.get_device_name(0)))\n",
        "print(\"# of GPU : {}\".format(torch.cuda.device_count()))\n"
      ],
      "execution_count": 1,
      "outputs": [
        {
          "output_type": "stream",
          "text": [
            "Name of GPU : Tesla T4\n",
            "# of GPU : 1\n"
          ],
          "name": "stdout"
        }
      ]
    },
    {
      "metadata": {
        "id": "0zRdXN9yo6k3",
        "colab_type": "code",
        "outputId": "178c496a-6e0b-437b-a54e-bb46c921fb61",
        "colab": {
          "base_uri": "https://localhost:8080/",
          "height": 71
        }
      },
      "cell_type": "code",
      "source": [
        "from google.colab import drive\n",
        "drive.mount('/content/drive')\n",
        "import os\n",
        "#os.mkdir('/content/drive/My Drive/LM_model')\n",
        "#os.mkdir('/content/drive/My Drive/LM_model/data')\n",
        "#os.mkdir('/content/drive/My Drive/LM_model/models')\n",
        "#os.mkdir('/content/drive/My Drive/LM_model/outputs')\n",
        "!ls \"/content/drive/My Drive/LM_model\"\n",
        "os.chdir('/content/drive/My Drive/LM_model')"
      ],
      "execution_count": 2,
      "outputs": [
        {
          "output_type": "stream",
          "text": [
            "Drive already mounted at /content/drive; to attempt to forcibly remount, call drive.mount(\"/content/drive\", force_remount=True).\n",
            "data  models  outputs\n"
          ],
          "name": "stdout"
        }
      ]
    },
    {
      "metadata": {
        "id": "NhSwmpxVpCSx",
        "colab_type": "code",
        "colab": {}
      },
      "cell_type": "code",
      "source": [
        "#Downloading data\n",
        "oc.chdir('./data')\n",
        "!wget https://s3.amazonaws.com/research.metamind.io/wikitext/wikitext-2-v1.zip\n",
        "!unzip wikitext-2-v1.zip\n",
        "!head wikitext-2/wiki.test.tokens"
      ],
      "execution_count": 0,
      "outputs": []
    },
    {
      "metadata": {
        "id": "sO6PF4BHCNBw",
        "colab_type": "code",
        "colab": {}
      },
      "cell_type": "code",
      "source": [
        "import torch\n",
        "import os\n",
        "\n",
        "class Dictionary(object):\n",
        "  def __init__(self):\n",
        "    self.word2idx = {}\n",
        "    self.idx2word = {}\n",
        "    self.idx = 0\n",
        "  def add_word(self,word):\n",
        "    if not word in self.word2idx:\n",
        "      self.word2idx[word] = self.idx\n",
        "      self.idx2word[self.idx] = word\n",
        "      self.idx += 1\n",
        "  def __len__(self):\n",
        "    return len(self.word2idx)\n",
        "\n",
        "class Corpus(object):\n",
        "  def __init__(self):\n",
        "    self.dictionary = Dictionary()\n",
        "  def get_data(self, path, batch_size=20):\n",
        "    with open(path, 'r') as f:\n",
        "      tokens=0\n",
        "      for line in f:\n",
        "        words = line.split() + ['<eos>']\n",
        "        tokens += len(words)\n",
        "        for word in words:\n",
        "          self.dictionary.add_word(word)\n",
        "    ids = torch.LongTensor(tokens)\n",
        "    token = 0\n",
        "    with open(path, 'r') as f:\n",
        "      for line in f:\n",
        "        words = line.split() + ['<eos>']\n",
        "        for word in words:\n",
        "          ids[token] = self.dictionary.word2idx[word]\n",
        "          token +=1\n",
        "    num_batches = ids.size(0)//batch_size\n",
        "    ids = ids[:num_batches*batch_size]\n",
        "    #print(ids.size())\n",
        "    return ids.view(batch_size, -1)"
      ],
      "execution_count": 0,
      "outputs": []
    },
    {
      "metadata": {
        "id": "pb9ghA0kGTDA",
        "colab_type": "code",
        "colab": {}
      },
      "cell_type": "code",
      "source": [
        "import torch.nn as nn\n",
        "import torch.nn.utils as clip_grad_norm_\n",
        "import numpy as np\n",
        "\n",
        "class config(object):\n",
        "  def __init__(self):\n",
        "    self.embed_size = 128\n",
        "    self.hidden_size = 1024\n",
        "    self.device = torch.device('cuda' if torch.cuda.is_available() else 'cpu')\n",
        "    self.num_layers = 1\n",
        "    self.num_epochs = 5\n",
        "    self.num_samples = 1000     # number of words to be sampled\n",
        "    self.batch_size = 20\n",
        "    self.seq_length = 30\n",
        "    self.learning_rate = 0.002  "
      ],
      "execution_count": 0,
      "outputs": []
    },
    {
      "metadata": {
        "id": "Sl0fKzMhPBA7",
        "colab_type": "code",
        "outputId": "b74eaef4-03a7-409a-e85b-31dfc5917a88",
        "colab": {
          "base_uri": "https://localhost:8080/",
          "height": 51
        }
      },
      "cell_type": "code",
      "source": [
        "%%time\n",
        "#Load Data\n",
        "con = config()\n",
        "corpus = Corpus()\n",
        "ids = corpus.get_data('./data/wikitext-2/wiki.train.tokens', con.batch_size)\n",
        "vocab_size = len(corpus.dictionary)\n",
        "num_batches = ids.size(1) // con.seq_length # no. of sequences per batch\n",
        "#2088620 | 20, 104431 | 20,30,3481|"
      ],
      "execution_count": 5,
      "outputs": [
        {
          "output_type": "stream",
          "text": [
            "CPU times: user 10.4 s, sys: 1.03 s, total: 11.4 s\n",
            "Wall time: 11.4 s\n"
          ],
          "name": "stdout"
        }
      ]
    },
    {
      "metadata": {
        "id": "T40WNmAbkUEj",
        "colab_type": "code",
        "colab": {
          "base_uri": "https://localhost:8080/",
          "height": 51
        },
        "outputId": "59813b33-0380-4cef-dd05-ac92abf4ccc9"
      },
      "cell_type": "code",
      "source": [
        "%%time\n",
        "#Load Data\n",
        "valcorpus = Corpus()\n",
        "vids = valcorpus.get_data('./data/wikitext-2/wiki.test.tokens', con.batch_size)\n",
        "val_vocab_size = len(valcorpus.dictionary)\n",
        "#245560 | 20, 12278 | 20,30,409|"
      ],
      "execution_count": 6,
      "outputs": [
        {
          "output_type": "stream",
          "text": [
            "CPU times: user 1.23 s, sys: 125 ms, total: 1.35 s\n",
            "Wall time: 1.36 s\n"
          ],
          "name": "stdout"
        }
      ]
    },
    {
      "metadata": {
        "id": "Gv-NFASmMmnF",
        "colab_type": "code",
        "colab": {}
      },
      "cell_type": "code",
      "source": [
        "class RNNLM(nn.Module):\n",
        "  def __init__(self,vocab_size, embed_size, hidden_size, num_layers):\n",
        "    super(RNNLM,self).__init__()\n",
        "    self.embed = nn.Embedding(vocab_size,embed_size)\n",
        "    self.lstm = nn.LSTM(embed_size,hidden_size,num_layers,batch_first=True)\n",
        "    self.linear = nn.Linear(hidden_size, vocab_size)\n",
        "  def forward(self,x,h):\n",
        "    x = self.embed(x)\n",
        "    out, (h,c) = self.lstm(x,h)\n",
        "    #batch_size(20),seg_len(30),hidden_size(1024)\n",
        "    out = out.reshape(out.size(0)*out.size(1), out.size(2))\n",
        "    out = self.linear(out)\n",
        "    return out, (h,c)\n",
        "  "
      ],
      "execution_count": 0,
      "outputs": []
    },
    {
      "metadata": {
        "id": "HfPmtJg3W9zW",
        "colab_type": "code",
        "colab": {}
      },
      "cell_type": "code",
      "source": [
        "model = RNNLM(vocab_size, con.embed_size, con.hidden_size, con.num_layers).to(con.device)\n",
        "criterion = nn.CrossEntropyLoss()\n",
        "optimizer = torch.optim.Adam(model.parameters(),lr = con.learning_rate)"
      ],
      "execution_count": 0,
      "outputs": []
    },
    {
      "metadata": {
        "id": "o_z_sdHwZqHR",
        "colab_type": "code",
        "colab": {}
      },
      "cell_type": "code",
      "source": [
        "#for name, param in model.named_parameters():\n",
        "#  print(name,param.size())"
      ],
      "execution_count": 0,
      "outputs": []
    },
    {
      "metadata": {
        "id": "Qrt8_8N9e7M3",
        "colab_type": "code",
        "outputId": "3980087b-1b38-4d65-ed85-6a927e1ea9bb",
        "colab": {
          "base_uri": "https://localhost:8080/",
          "height": 1346
        }
      },
      "cell_type": "code",
      "source": [
        "def detach(states):\n",
        "  return [state.detach() for state in states]\n",
        "\n",
        "#Training model\n",
        "for epoch in range(con.num_epochs):\n",
        "  states = (torch.zeros(con.num_layers,con.batch_size,con.hidden_size).to(con.device),\n",
        "            torch.zeros(con.num_layers,con.batch_size,con.hidden_size).to(con.device))\n",
        "  vstates = (torch.zeros(con.num_layers,con.batch_size,con.hidden_size).to(con.device),\n",
        "            torch.zeros(con.num_layers,con.batch_size,con.hidden_size).to(con.device))\n",
        "  model.train()\n",
        "  \n",
        "  #Training set\n",
        "  for i in range(0, ids.size(1)-con.seq_length, con.seq_length):\n",
        "    #Get mini-batch and inputs\n",
        "    inputs = ids[:,i:i+con.seq_length].to(con.device)\n",
        "    targets = ids[:,(i+1):(i+1)+con.seq_length].to(con.device)\n",
        "    \n",
        "    #Forward pass\n",
        "    states = detach(states)\n",
        "    output,states = model(inputs,states)\n",
        "    loss = criterion(output,targets.reshape(-1))\n",
        "    \n",
        "    #backward pass and optimize\n",
        "    model.zero_grad()\n",
        "    loss.backward()\n",
        "    torch.nn.utils.clip_grad_norm_(model.parameters(),0.5)\n",
        "    optimizer.step()\n",
        "    step = (i+1)//con.seq_length\n",
        "    if step%100==0:\n",
        "      print ('Step [{}/{}], Epoch [{}/{}], Train Loss: {:.4f}, Train Perplexity: {:5.2f}'\n",
        "         .format(step, num_batches, epoch+1, con.num_epochs, loss.item(), np.exp(loss.item())))\n",
        "  \n",
        "  #Validation set\n",
        "  model.eval()\n",
        "  val_loss = 0\n",
        "  val_size = vids.size(1)//con.seq_length\n",
        "  for vi in range(0, vids.size(1)-con.seq_length, con.seq_length):\n",
        "    #Get mini-batch and inputs\n",
        "    vinputs = ids[:,vi:vi+con.seq_length].to(con.device)\n",
        "    vtargets = ids[:,(vi+1):(vi+1)+con.seq_length].to(con.device)\n",
        "    \n",
        "    #Forward pass\n",
        "    vstates = detach(vstates)\n",
        "    voutput,vstates = model(vinputs,vstates)\n",
        "    vloss = criterion(voutput,vtargets.reshape(-1))\n",
        "    val_loss += vloss/val_size\n",
        "\n",
        "  print('#################################################################')\n",
        "  #step = (i+1)//con.seq_length\n",
        "  print ('Epoch [{}/{}], Train Loss: {:.4f}, Train Perplexity: {:5.2f}, Val Loss: {:.4f}, Val Perplexity: {:5.2f}'\n",
        "         .format(epoch+1, con.num_epochs, loss.item(), np.exp(loss.item()), val_loss.item(), np.exp(val_loss.item())))                "
      ],
      "execution_count": 9,
      "outputs": [
        {
          "output_type": "stream",
          "text": [
            "Step [0/3481], Epoch [1/5], Train Loss: 10.4137, Train Perplexity: 33312.20\n",
            "Step [100/3481], Epoch [1/5], Train Loss: 6.6471, Train Perplexity: 770.52\n",
            "Step [200/3481], Epoch [1/5], Train Loss: 6.6361, Train Perplexity: 762.13\n",
            "Step [300/3481], Epoch [1/5], Train Loss: 6.3182, Train Perplexity: 554.56\n",
            "Step [400/3481], Epoch [1/5], Train Loss: 6.0886, Train Perplexity: 440.80\n",
            "Step [500/3481], Epoch [1/5], Train Loss: 6.0461, Train Perplexity: 422.48\n",
            "Step [600/3481], Epoch [1/5], Train Loss: 5.7758, Train Perplexity: 322.42\n",
            "Step [700/3481], Epoch [1/5], Train Loss: 5.6582, Train Perplexity: 286.63\n",
            "Step [800/3481], Epoch [1/5], Train Loss: 5.4240, Train Perplexity: 226.78\n",
            "Step [900/3481], Epoch [1/5], Train Loss: 5.7484, Train Perplexity: 313.70\n",
            "Step [1000/3481], Epoch [1/5], Train Loss: 5.7361, Train Perplexity: 309.84\n",
            "Step [1100/3481], Epoch [1/5], Train Loss: 5.7555, Train Perplexity: 315.92\n",
            "Step [1200/3481], Epoch [1/5], Train Loss: 5.5875, Train Perplexity: 267.07\n",
            "Step [1300/3481], Epoch [1/5], Train Loss: 5.7456, Train Perplexity: 312.80\n",
            "Step [1400/3481], Epoch [1/5], Train Loss: 5.6433, Train Perplexity: 282.39\n",
            "Step [1500/3481], Epoch [1/5], Train Loss: 5.5174, Train Perplexity: 248.98\n",
            "Step [1600/3481], Epoch [1/5], Train Loss: 5.2730, Train Perplexity: 195.01\n",
            "Step [1700/3481], Epoch [1/5], Train Loss: 5.4223, Train Perplexity: 226.41\n",
            "Step [1800/3481], Epoch [1/5], Train Loss: 5.5892, Train Perplexity: 267.52\n",
            "Step [1900/3481], Epoch [1/5], Train Loss: 5.1932, Train Perplexity: 180.04\n",
            "Step [2000/3481], Epoch [1/5], Train Loss: 5.4812, Train Perplexity: 240.13\n",
            "Step [2100/3481], Epoch [1/5], Train Loss: 5.2873, Train Perplexity: 197.80\n",
            "Step [2200/3481], Epoch [1/5], Train Loss: 5.2430, Train Perplexity: 189.23\n",
            "Step [2300/3481], Epoch [1/5], Train Loss: 5.2330, Train Perplexity: 187.36\n",
            "Step [2400/3481], Epoch [1/5], Train Loss: 5.4409, Train Perplexity: 230.65\n",
            "Step [2500/3481], Epoch [1/5], Train Loss: 5.2570, Train Perplexity: 191.91\n",
            "Step [2600/3481], Epoch [1/5], Train Loss: 4.8934, Train Perplexity: 133.41\n",
            "Step [2700/3481], Epoch [1/5], Train Loss: 5.4005, Train Perplexity: 221.52\n",
            "Step [2800/3481], Epoch [1/5], Train Loss: 5.3680, Train Perplexity: 214.42\n",
            "Step [2900/3481], Epoch [1/5], Train Loss: 5.1603, Train Perplexity: 174.21\n",
            "Step [3000/3481], Epoch [1/5], Train Loss: 5.0854, Train Perplexity: 161.64\n",
            "Step [3100/3481], Epoch [1/5], Train Loss: 5.0297, Train Perplexity: 152.88\n",
            "Step [3200/3481], Epoch [1/5], Train Loss: 4.7693, Train Perplexity: 117.84\n",
            "Step [3300/3481], Epoch [1/5], Train Loss: 5.0564, Train Perplexity: 157.02\n",
            "Step [3400/3481], Epoch [1/5], Train Loss: 5.1431, Train Perplexity: 171.25\n"
          ],
          "name": "stdout"
        },
        {
          "output_type": "error",
          "ename": "RuntimeError",
          "evalue": "ignored",
          "traceback": [
            "\u001b[0;31m---------------------------------------------------------------------------\u001b[0m",
            "\u001b[0;31mRuntimeError\u001b[0m                              Traceback (most recent call last)",
            "\u001b[0;32m<ipython-input-9-a08e6278be74>\u001b[0m in \u001b[0;36m<module>\u001b[0;34m()\u001b[0m\n\u001b[1;32m     43\u001b[0m     \u001b[0mvstates\u001b[0m \u001b[0;34m=\u001b[0m \u001b[0mdetach\u001b[0m\u001b[0;34m(\u001b[0m\u001b[0mvstates\u001b[0m\u001b[0;34m)\u001b[0m\u001b[0;34m\u001b[0m\u001b[0;34m\u001b[0m\u001b[0m\n\u001b[1;32m     44\u001b[0m     \u001b[0mvoutput\u001b[0m\u001b[0;34m,\u001b[0m\u001b[0mvstates\u001b[0m \u001b[0;34m=\u001b[0m \u001b[0mmodel\u001b[0m\u001b[0;34m(\u001b[0m\u001b[0mvinputs\u001b[0m\u001b[0;34m,\u001b[0m\u001b[0mvstates\u001b[0m\u001b[0;34m)\u001b[0m\u001b[0;34m\u001b[0m\u001b[0;34m\u001b[0m\u001b[0m\n\u001b[0;32m---> 45\u001b[0;31m     \u001b[0mvloss\u001b[0m \u001b[0;34m=\u001b[0m \u001b[0mcriterion\u001b[0m\u001b[0;34m(\u001b[0m\u001b[0mvoutput\u001b[0m\u001b[0;34m,\u001b[0m\u001b[0mvtargets\u001b[0m\u001b[0;34m.\u001b[0m\u001b[0mreshape\u001b[0m\u001b[0;34m(\u001b[0m\u001b[0;34m-\u001b[0m\u001b[0;36m1\u001b[0m\u001b[0;34m)\u001b[0m\u001b[0;34m)\u001b[0m\u001b[0;34m\u001b[0m\u001b[0;34m\u001b[0m\u001b[0m\n\u001b[0m\u001b[1;32m     46\u001b[0m     \u001b[0mval_loss\u001b[0m \u001b[0;34m+=\u001b[0m \u001b[0mvloss\u001b[0m\u001b[0;34m/\u001b[0m\u001b[0mval_size\u001b[0m\u001b[0;34m\u001b[0m\u001b[0;34m\u001b[0m\u001b[0m\n\u001b[1;32m     47\u001b[0m \u001b[0;34m\u001b[0m\u001b[0m\n",
            "\u001b[0;32m/usr/local/lib/python3.6/dist-packages/torch/nn/modules/module.py\u001b[0m in \u001b[0;36m__call__\u001b[0;34m(self, *input, **kwargs)\u001b[0m\n\u001b[1;32m    487\u001b[0m             \u001b[0mresult\u001b[0m \u001b[0;34m=\u001b[0m \u001b[0mself\u001b[0m\u001b[0;34m.\u001b[0m\u001b[0m_slow_forward\u001b[0m\u001b[0;34m(\u001b[0m\u001b[0;34m*\u001b[0m\u001b[0minput\u001b[0m\u001b[0;34m,\u001b[0m \u001b[0;34m**\u001b[0m\u001b[0mkwargs\u001b[0m\u001b[0;34m)\u001b[0m\u001b[0;34m\u001b[0m\u001b[0;34m\u001b[0m\u001b[0m\n\u001b[1;32m    488\u001b[0m         \u001b[0;32melse\u001b[0m\u001b[0;34m:\u001b[0m\u001b[0;34m\u001b[0m\u001b[0;34m\u001b[0m\u001b[0m\n\u001b[0;32m--> 489\u001b[0;31m             \u001b[0mresult\u001b[0m \u001b[0;34m=\u001b[0m \u001b[0mself\u001b[0m\u001b[0;34m.\u001b[0m\u001b[0mforward\u001b[0m\u001b[0;34m(\u001b[0m\u001b[0;34m*\u001b[0m\u001b[0minput\u001b[0m\u001b[0;34m,\u001b[0m \u001b[0;34m**\u001b[0m\u001b[0mkwargs\u001b[0m\u001b[0;34m)\u001b[0m\u001b[0;34m\u001b[0m\u001b[0;34m\u001b[0m\u001b[0m\n\u001b[0m\u001b[1;32m    490\u001b[0m         \u001b[0;32mfor\u001b[0m \u001b[0mhook\u001b[0m \u001b[0;32min\u001b[0m \u001b[0mself\u001b[0m\u001b[0;34m.\u001b[0m\u001b[0m_forward_hooks\u001b[0m\u001b[0;34m.\u001b[0m\u001b[0mvalues\u001b[0m\u001b[0;34m(\u001b[0m\u001b[0;34m)\u001b[0m\u001b[0;34m:\u001b[0m\u001b[0;34m\u001b[0m\u001b[0;34m\u001b[0m\u001b[0m\n\u001b[1;32m    491\u001b[0m             \u001b[0mhook_result\u001b[0m \u001b[0;34m=\u001b[0m \u001b[0mhook\u001b[0m\u001b[0;34m(\u001b[0m\u001b[0mself\u001b[0m\u001b[0;34m,\u001b[0m \u001b[0minput\u001b[0m\u001b[0;34m,\u001b[0m \u001b[0mresult\u001b[0m\u001b[0;34m)\u001b[0m\u001b[0;34m\u001b[0m\u001b[0;34m\u001b[0m\u001b[0m\n",
            "\u001b[0;32m/usr/local/lib/python3.6/dist-packages/torch/nn/modules/loss.py\u001b[0m in \u001b[0;36mforward\u001b[0;34m(self, input, target)\u001b[0m\n\u001b[1;32m    902\u001b[0m     \u001b[0;32mdef\u001b[0m \u001b[0mforward\u001b[0m\u001b[0;34m(\u001b[0m\u001b[0mself\u001b[0m\u001b[0;34m,\u001b[0m \u001b[0minput\u001b[0m\u001b[0;34m,\u001b[0m \u001b[0mtarget\u001b[0m\u001b[0;34m)\u001b[0m\u001b[0;34m:\u001b[0m\u001b[0;34m\u001b[0m\u001b[0;34m\u001b[0m\u001b[0m\n\u001b[1;32m    903\u001b[0m         return F.cross_entropy(input, target, weight=self.weight,\n\u001b[0;32m--> 904\u001b[0;31m                                ignore_index=self.ignore_index, reduction=self.reduction)\n\u001b[0m\u001b[1;32m    905\u001b[0m \u001b[0;34m\u001b[0m\u001b[0m\n\u001b[1;32m    906\u001b[0m \u001b[0;34m\u001b[0m\u001b[0m\n",
            "\u001b[0;32m/usr/local/lib/python3.6/dist-packages/torch/nn/functional.py\u001b[0m in \u001b[0;36mcross_entropy\u001b[0;34m(input, target, weight, size_average, ignore_index, reduce, reduction)\u001b[0m\n\u001b[1;32m   1968\u001b[0m     \u001b[0;32mif\u001b[0m \u001b[0msize_average\u001b[0m \u001b[0;32mis\u001b[0m \u001b[0;32mnot\u001b[0m \u001b[0;32mNone\u001b[0m \u001b[0;32mor\u001b[0m \u001b[0mreduce\u001b[0m \u001b[0;32mis\u001b[0m \u001b[0;32mnot\u001b[0m \u001b[0;32mNone\u001b[0m\u001b[0;34m:\u001b[0m\u001b[0;34m\u001b[0m\u001b[0;34m\u001b[0m\u001b[0m\n\u001b[1;32m   1969\u001b[0m         \u001b[0mreduction\u001b[0m \u001b[0;34m=\u001b[0m \u001b[0m_Reduction\u001b[0m\u001b[0;34m.\u001b[0m\u001b[0mlegacy_get_string\u001b[0m\u001b[0;34m(\u001b[0m\u001b[0msize_average\u001b[0m\u001b[0;34m,\u001b[0m \u001b[0mreduce\u001b[0m\u001b[0;34m)\u001b[0m\u001b[0;34m\u001b[0m\u001b[0;34m\u001b[0m\u001b[0m\n\u001b[0;32m-> 1970\u001b[0;31m     \u001b[0;32mreturn\u001b[0m \u001b[0mnll_loss\u001b[0m\u001b[0;34m(\u001b[0m\u001b[0mlog_softmax\u001b[0m\u001b[0;34m(\u001b[0m\u001b[0minput\u001b[0m\u001b[0;34m,\u001b[0m \u001b[0;36m1\u001b[0m\u001b[0;34m)\u001b[0m\u001b[0;34m,\u001b[0m \u001b[0mtarget\u001b[0m\u001b[0;34m,\u001b[0m \u001b[0mweight\u001b[0m\u001b[0;34m,\u001b[0m \u001b[0;32mNone\u001b[0m\u001b[0;34m,\u001b[0m \u001b[0mignore_index\u001b[0m\u001b[0;34m,\u001b[0m \u001b[0;32mNone\u001b[0m\u001b[0;34m,\u001b[0m \u001b[0mreduction\u001b[0m\u001b[0;34m)\u001b[0m\u001b[0;34m\u001b[0m\u001b[0;34m\u001b[0m\u001b[0m\n\u001b[0m\u001b[1;32m   1971\u001b[0m \u001b[0;34m\u001b[0m\u001b[0m\n\u001b[1;32m   1972\u001b[0m \u001b[0;34m\u001b[0m\u001b[0m\n",
            "\u001b[0;32m/usr/local/lib/python3.6/dist-packages/torch/nn/functional.py\u001b[0m in \u001b[0;36mlog_softmax\u001b[0;34m(input, dim, _stacklevel, dtype)\u001b[0m\n\u001b[1;32m   1293\u001b[0m         \u001b[0mdim\u001b[0m \u001b[0;34m=\u001b[0m \u001b[0mtorch\u001b[0m\u001b[0;34m.\u001b[0m\u001b[0mjit\u001b[0m\u001b[0;34m.\u001b[0m\u001b[0m_unwrap_optional\u001b[0m\u001b[0;34m(\u001b[0m\u001b[0mdim\u001b[0m\u001b[0;34m)\u001b[0m\u001b[0;34m\u001b[0m\u001b[0;34m\u001b[0m\u001b[0m\n\u001b[1;32m   1294\u001b[0m     \u001b[0;32mif\u001b[0m \u001b[0mdtype\u001b[0m \u001b[0;32mis\u001b[0m \u001b[0;32mNone\u001b[0m\u001b[0;34m:\u001b[0m\u001b[0;34m\u001b[0m\u001b[0;34m\u001b[0m\u001b[0m\n\u001b[0;32m-> 1295\u001b[0;31m         \u001b[0mret\u001b[0m \u001b[0;34m=\u001b[0m \u001b[0minput\u001b[0m\u001b[0;34m.\u001b[0m\u001b[0mlog_softmax\u001b[0m\u001b[0;34m(\u001b[0m\u001b[0mdim\u001b[0m\u001b[0;34m)\u001b[0m\u001b[0;34m\u001b[0m\u001b[0;34m\u001b[0m\u001b[0m\n\u001b[0m\u001b[1;32m   1296\u001b[0m     \u001b[0;32melse\u001b[0m\u001b[0;34m:\u001b[0m\u001b[0;34m\u001b[0m\u001b[0;34m\u001b[0m\u001b[0m\n\u001b[1;32m   1297\u001b[0m         \u001b[0m_dtype\u001b[0m \u001b[0;34m=\u001b[0m \u001b[0mtorch\u001b[0m\u001b[0;34m.\u001b[0m\u001b[0mjit\u001b[0m\u001b[0;34m.\u001b[0m\u001b[0m_unwrap_optional\u001b[0m\u001b[0;34m(\u001b[0m\u001b[0mdtype\u001b[0m\u001b[0;34m)\u001b[0m\u001b[0;34m\u001b[0m\u001b[0;34m\u001b[0m\u001b[0m\n",
            "\u001b[0;31mRuntimeError\u001b[0m: CUDA out of memory. Tried to allocate 76.25 MiB (GPU 0; 14.73 GiB total capacity; 13.58 GiB already allocated; 71.94 MiB free; 49.35 MiB cached)"
          ]
        }
      ]
    },
    {
      "metadata": {
        "id": "aKpSgvK9OQF5",
        "colab_type": "code",
        "outputId": "28a4e4b1-5998-4327-9c3c-0fea9df79748",
        "colab": {
          "base_uri": "https://localhost:8080/",
          "height": 187
        }
      },
      "cell_type": "code",
      "source": [
        "#Model Testing\n",
        "with torch.no_grad():\n",
        "  with open('./outputs/sample.txt','w') as f:\n",
        "    state = (torch.zeros(con.num_layers,1,con.hidden_size).to(con.device),\n",
        "            torch.zeros(con.num_layers,1,con.hidden_size).to(con.device))\n",
        "    prob = torch.ones(vocab_size)\n",
        "    input = torch.multinomial(prob,num_samples=1).unsqueeze(1).to(con.device)\n",
        "    for i in range(con.num_samples):\n",
        "      output,state = model(input,state)\n",
        "      prob = output.exp()\n",
        "      word_id = torch.multinomial(prob,num_samples=1).item()\n",
        "      input.fill_(word_id)\n",
        "      word = corpus.dictionary.idx2word[word_id]\n",
        "      word = '\\n' if word == '<eos>' else word + ' '\n",
        "      f.write(word)\n",
        "      if (i+1) % 100 == 0:\n",
        "                print('Sampled [{}/{}] words and save to {}'.format(i+1, con.num_samples, '/outputs/sample.txt'))\n",
        "\n",
        "torch.save(model.state_dict(), 'model2.ckpt')\n",
        "    "
      ],
      "execution_count": 0,
      "outputs": [
        {
          "output_type": "stream",
          "text": [
            "Sampled [100/1000] words and save to /outputs/sample.txt\n",
            "Sampled [200/1000] words and save to /outputs/sample.txt\n",
            "Sampled [300/1000] words and save to /outputs/sample.txt\n",
            "Sampled [400/1000] words and save to /outputs/sample.txt\n",
            "Sampled [500/1000] words and save to /outputs/sample.txt\n",
            "Sampled [600/1000] words and save to /outputs/sample.txt\n",
            "Sampled [700/1000] words and save to /outputs/sample.txt\n",
            "Sampled [800/1000] words and save to /outputs/sample.txt\n",
            "Sampled [900/1000] words and save to /outputs/sample.txt\n",
            "Sampled [1000/1000] words and save to /outputs/sample.txt\n"
          ],
          "name": "stdout"
        }
      ]
    },
    {
      "metadata": {
        "id": "lpREl238axSd",
        "colab_type": "code",
        "colab": {}
      },
      "cell_type": "code",
      "source": [
        "# Next steps:\n",
        "#Get error and perplixity for val set for each epoch | on Test set at end of training\n",
        "#Fine tuning using LR, regularisation\n",
        "#Implement AWD LSTM with drop connect, dropout over hidden-hidden, Variable batch size\n",
        "#Weight tying with the embeddings for the last fully connected layer\n",
        "#Evaluation of the Langauge model"
      ],
      "execution_count": 0,
      "outputs": []
    }
  ]
}