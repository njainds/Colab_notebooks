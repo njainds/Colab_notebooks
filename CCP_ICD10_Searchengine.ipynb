{
  "nbformat": 4,
  "nbformat_minor": 0,
  "metadata": {
    "colab": {
      "name": "CCP_ICD10_Searchengine",
      "version": "0.3.2",
      "provenance": [],
      "collapsed_sections": [],
      "toc_visible": true,
      "include_colab_link": true
    },
    "kernelspec": {
      "name": "python3",
      "display_name": "Python 3"
    },
    "accelerator": "GPU"
  },
  "cells": [
    {
      "cell_type": "markdown",
      "metadata": {
        "id": "view-in-github",
        "colab_type": "text"
      },
      "source": [
        "<a href=\"https://colab.research.google.com/github/njainds/Colab_notebooks/blob/master/CCP_ICD10_Searchengine.ipynb\" target=\"_parent\"><img src=\"https://colab.research.google.com/assets/colab-badge.svg\" alt=\"Open In Colab\"/></a>"
      ]
    },
    {
      "metadata": {
        "colab_type": "code",
        "id": "oYZkU7ZN3CL0",
        "outputId": "5c1cf66f-0b66-4727-eafc-7a95f82aefe6",
        "colab": {
          "base_uri": "https://localhost:8080/",
          "height": 122
        }
      },
      "cell_type": "code",
      "source": [
        "# requirements\n",
        "import nltk\n",
        "import numpy as np\n",
        "import operator\n",
        "import requests\n",
        "import flask\n",
        "from keras.preprocessing.text import Tokenizer\n",
        "import re\n",
        "import string\n",
        "from wordcloud import STOPWORDS\n",
        "! pip install pyspellchecker\n",
        "from spellchecker import SpellChecker\n",
        "from gensim.models.keyedvectors import KeyedVectors\n"
      ],
      "execution_count": 4,
      "outputs": [
        {
          "output_type": "stream",
          "text": [
            "Collecting pyspellchecker\n",
            "\u001b[?25l  Downloading https://files.pythonhosted.org/packages/6a/b3/f1d5af6dcd4cd50fbe75b425e386013a6afb9e2bdba59a2e6b9f200c1319/pyspellchecker-0.3.0-py3-none-any.whl (1.9MB)\n",
            "\u001b[K    100% |████████████████████████████████| 1.9MB 17.4MB/s \n",
            "\u001b[?25hInstalling collected packages: pyspellchecker\n",
            "Successfully installed pyspellchecker-0.3.0\n"
          ],
          "name": "stdout"
        }
      ]
    },
    {
      "metadata": {
        "id": "Effl8aLur6bM",
        "colab_type": "code",
        "colab": {}
      },
      "cell_type": "code",
      "source": [
        "# Initializers\n",
        "model = KeyedVectors.load_word2vec_format('/content/drive/My Drive/CCP-ICDsearch/wikipedia-pubmed-and-PMC-w2v.bin', binary=True)\n",
        "wpt = nltk.WordPunctTokenizer()\n",
        "spell = SpellChecker()"
      ],
      "execution_count": 0,
      "outputs": []
    },
    {
      "metadata": {
        "id": "xxbGrrRwsTGW",
        "colab_type": "code",
        "colab": {
          "base_uri": "https://localhost:8080/",
          "height": 139
        },
        "outputId": "407c6692-e613-4438-c8c6-8f4392665ddc"
      },
      "cell_type": "code",
      "source": [
        "from google.colab import drive\n",
        "drive.mount('/content/drive')\n",
        "!ls \"/content/drive/My Drive/CCP-ICDsearch\""
      ],
      "execution_count": 1,
      "outputs": [
        {
          "output_type": "stream",
          "text": [
            "Go to this URL in a browser: https://accounts.google.com/o/oauth2/auth?client_id=947318989803-6bn6qk8qdgf4n4g3pfee6491hc0brc4i.apps.googleusercontent.com&redirect_uri=urn%3Aietf%3Awg%3Aoauth%3A2.0%3Aoob&scope=email%20https%3A%2F%2Fwww.googleapis.com%2Fauth%2Fdocs.test%20https%3A%2F%2Fwww.googleapis.com%2Fauth%2Fdrive%20https%3A%2F%2Fwww.googleapis.com%2Fauth%2Fdrive.photos.readonly%20https%3A%2F%2Fwww.googleapis.com%2Fauth%2Fpeopleapi.readonly&response_type=code\n",
            "\n",
            "Enter your authorization code:\n",
            "··········\n",
            "Mounted at /content/drive\n",
            "CD.npy\tICD_dict.npy  map_abbreviation.npy  wikipedia-pubmed-and-PMC-w2v.bin\n"
          ],
          "name": "stdout"
        }
      ]
    },
    {
      "metadata": {
        "id": "9dXeOjAAr93F",
        "colab_type": "code",
        "colab": {}
      },
      "cell_type": "code",
      "source": [
        "# Functions\n",
        "# Building vectors for CD\n",
        "prohibitedWords = ['other','age-related','unspecified','[any part, except buttock]','[any part, except face]','not elsewhere classified','part','parts','specific','region','site','sites','specified','Unspecified','Generalized','(s)','multiple','due to medical condition','type','initial encounter','subsequent encounter']\n",
        "big_regex = re.compile('|'.join(map(re.escape, prohibitedWords)))\n",
        "\n",
        "def onetimeclean(text):\n",
        "  x = wpt.tokenize(big_regex.sub(\"\", text.lower()))\n",
        "  x = [w for w in x if w not in list(STOPWORDS)+['(',')','[',']','-',\"'\",':',',','.','{','}','_']]\n",
        "  vect = np.array([np.zeros((200,)) if word not in model.wv.vocab else model.wv[word] for word in x])\n",
        "  if vect.shape[0]<11:\n",
        "    vect = np.vstack((vect,np.zeros((11-vect.shape[0],200))))\n",
        "  if vect.shape != (11,200): print(\"vector shape not consistent: {}\".format(text))\n",
        "  return vect\n",
        "\n",
        "CD = np.array([onetimeclean(code) for code in dict(ICD_dict).values()])\n",
        "np.save('/content/drive/My Drive/CCP-ICDsearch/CD.npy', CD)\n",
        "\n",
        "def clean(text):\n",
        "  x = wpt.tokenize(text.lower())\n",
        "  x = [w for w in x if w not in list(STOPWORDS)+['(',')','-',\"'\",':',',','.','{','}','_']]\n",
        "  x = [map_abbreviation[word] if word in list(map_abbreviation.keys()) else word for word in x]\n",
        "  x = list(set([spell.correction(word) if word not in model.wv.vocab else word for word in x ]))\n",
        "  vect = np.array([np.zeros((200,)) if word not in model.wv.vocab else model.wv[word] for word in x])\n",
        "  return vect"
      ],
      "execution_count": 0,
      "outputs": []
    },
    {
      "metadata": {
        "id": "3hd2KcG6sCiD",
        "colab_type": "code",
        "colab": {}
      },
      "cell_type": "code",
      "source": [
        "# KB\n",
        "ICD_dict = np.load('/content/drive/My Drive/CCP-ICDsearch/ICD_dict.npy')\n",
        "ICD_dict = sorted(ICD_dict..items(), key=lambda kv: kv[0])\n",
        "map_abbreviation = np.load('/content/drive/My Drive/CCP-ICDsearch/map_abbreviation.npy').item() \n",
        "CD = np.load('/content/drive/My Drive/CCP-ICDsearch/CD.npy')\n"
      ],
      "execution_count": 0,
      "outputs": []
    },
    {
      "metadata": {
        "id": "DPBpUcJIsDQa",
        "colab_type": "code",
        "colab": {}
      },
      "cell_type": "code",
      "source": [
        "DD = clean(search_term)\n",
        "out = operator.itemgetter(*list(np.mean(np.dot(CD,DD.T),axis=(1,2)).argsort()[-5:][::-1]))(ICD_dict)\n",
        "print(out)"
      ],
      "execution_count": 0,
      "outputs": []
    },
    {
      "metadata": {
        "id": "lzCEQxLDtpJZ",
        "colab_type": "code",
        "colab": {}
      },
      "cell_type": "code",
      "source": [
        "search_term = \"retina\""
      ],
      "execution_count": 0,
      "outputs": []
    },
    {
      "metadata": {
        "id": "YZl0A5p3t4j5",
        "colab_type": "code",
        "colab": {}
      },
      "cell_type": "code",
      "source": [
        ""
      ],
      "execution_count": 0,
      "outputs": []
    },
    {
      "metadata": {
        "id": "nxqD-vmbsDs8",
        "colab_type": "code",
        "colab": {}
      },
      "cell_type": "code",
      "source": [
        ""
      ],
      "execution_count": 0,
      "outputs": []
    }
  ]
}