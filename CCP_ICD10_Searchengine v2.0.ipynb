{
  "nbformat": 4,
  "nbformat_minor": 0,
  "metadata": {
    "colab": {
      "name": "CCP_ICD10_Searchengine",
      "version": "0.3.2",
      "provenance": [],
      "collapsed_sections": [],
      "toc_visible": true,
      "include_colab_link": true
    },
    "kernelspec": {
      "name": "python3",
      "display_name": "Python 3"
    },
    "accelerator": "GPU"
  },
  "cells": [
    {
      "cell_type": "markdown",
      "metadata": {
        "id": "view-in-github",
        "colab_type": "text"
      },
      "source": [
        "<a href=\"https://colab.research.google.com/github/njainds/Colab_notebooks/blob/master/CCP_ICD10_Searchengine%20v2.0.ipynb\" target=\"_parent\"><img src=\"https://colab.research.google.com/assets/colab-badge.svg\" alt=\"Open In Colab\"/></a>"
      ]
    },
    {
      "metadata": {
        "colab_type": "code",
        "id": "oYZkU7ZN3CL0",
        "outputId": "f24c19db-1132-42f4-de9f-e50fcf5543e1",
        "colab": {
          "base_uri": "https://localhost:8080/",
          "height": 34
        }
      },
      "cell_type": "code",
      "source": [
        "# requirements\n",
        "import nltk\n",
        "import numpy as np\n",
        "import requests\n",
        "import operator\n",
        "import flask\n",
        "from keras.preprocessing.text import Tokenizer\n",
        "import re\n",
        "import string\n",
        "from wordcloud import STOPWORDS\n",
        "! pip install pyspellchecker\n",
        "from spellchecker import SpellChecker\n",
        "from gensim.models.keyedvectors import KeyedVectors\n",
        "import warnings\n",
        "warnings.filterwarnings('ignore')\n"
      ],
      "execution_count": 14,
      "outputs": [
        {
          "output_type": "stream",
          "text": [
            "Requirement already satisfied: pyspellchecker in /usr/local/lib/python3.6/dist-packages (0.3.0)\n"
          ],
          "name": "stdout"
        }
      ]
    },
    {
      "metadata": {
        "id": "Effl8aLur6bM",
        "colab_type": "code",
        "colab": {}
      },
      "cell_type": "code",
      "source": [
        "# Initializers\n",
        "model = KeyedVectors.load_word2vec_format('/content/drive/My Drive/CCP-ICDsearch/wikipedia-pubmed-and-PMC-w2v.bin', binary=True)\n",
        "wpt = nltk.WordPunctTokenizer()\n",
        "spell = SpellChecker()"
      ],
      "execution_count": 0,
      "outputs": []
    },
    {
      "metadata": {
        "id": "xxbGrrRwsTGW",
        "colab_type": "code",
        "outputId": "3830b74a-5e56-40a1-ba0a-1702ae500e6d",
        "colab": {
          "base_uri": "https://localhost:8080/",
          "height": 139
        }
      },
      "cell_type": "code",
      "source": [
        "from google.colab import drive\n",
        "drive.mount('/content/drive')\n",
        "!ls \"/content/drive/My Drive/CCP-ICDsearch\""
      ],
      "execution_count": 3,
      "outputs": [
        {
          "output_type": "stream",
          "text": [
            "Go to this URL in a browser: https://accounts.google.com/o/oauth2/auth?client_id=947318989803-6bn6qk8qdgf4n4g3pfee6491hc0brc4i.apps.googleusercontent.com&redirect_uri=urn%3Aietf%3Awg%3Aoauth%3A2.0%3Aoob&scope=email%20https%3A%2F%2Fwww.googleapis.com%2Fauth%2Fdocs.test%20https%3A%2F%2Fwww.googleapis.com%2Fauth%2Fdrive%20https%3A%2F%2Fwww.googleapis.com%2Fauth%2Fdrive.photos.readonly%20https%3A%2F%2Fwww.googleapis.com%2Fauth%2Fpeopleapi.readonly&response_type=code\n",
            "\n",
            "Enter your authorization code:\n",
            "··········\n",
            "Mounted at /content/drive\n",
            "CD.npy\tICD_dict.npy  map_abbreviation.npy  wikipedia-pubmed-and-PMC-w2v.bin\n"
          ],
          "name": "stdout"
        }
      ]
    },
    {
      "metadata": {
        "id": "9dXeOjAAr93F",
        "colab_type": "code",
        "colab": {}
      },
      "cell_type": "code",
      "source": [
        "# Building vectors for CD\n",
        "prohibitedWords = ['other','age-related','unspecified','[any part, except buttock]','[any part, except face]','not elsewhere classified','part','parts','specific','region','site','sites','specified','Unspecified','Generalized','(s)','multiple','due to medical condition','type','initial encounter','subsequent encounter']\n",
        "big_regex = re.compile('|'.join(map(re.escape, prohibitedWords)))\n",
        "\n",
        "def onetimeclean(text):\n",
        "  x = wpt.tokenize(big_regex.sub(\"\", text.lower()))\n",
        "  x = [w for w in x if w not in list(STOPWORDS)+['(',')','[',']','-',\"'\",':',',','.','{','}','_']]\n",
        "  vect = np.array([np.zeros((200,)) if word not in model.wv.vocab else model.wv[word] for word in x])\n",
        "  if vect.shape[0]<11:\n",
        "    vect = np.vstack((vect,np.zeros((11-vect.shape[0],200))))\n",
        "  if vect.shape != (11,200): print(\"vector shape not consistent: {}\".format(text))\n",
        "  return vect\n",
        "\n",
        "CD = np.array([onetimeclean(code) for code in dict(ICD_dict).values()])\n",
        "np.save('/content/drive/My Drive/CCP-ICDsearch/CD.npy', CD)"
      ],
      "execution_count": 0,
      "outputs": []
    },
    {
      "metadata": {
        "id": "3hd2KcG6sCiD",
        "colab_type": "code",
        "colab": {}
      },
      "cell_type": "code",
      "source": [
        "# KB\n",
        "ICD_dict = np.load('/content/drive/My Drive/CCP-ICDsearch/ICD_dict.npy')\n",
        "ICD_dict = sorted(dict(ICD_dict).items(), key=lambda kv: kv[0])\n",
        "map_abbreviation = np.load('/content/drive/My Drive/CCP-ICDsearch/map_abbreviation.npy').item()\n",
        "#Build/process and save CD (n_icd=2185, fix_len_cd=11, emb_size=200): \n",
        "CD=np.load('/content/drive/My Drive/CCP-ICDsearch/CD.npy')\n"
      ],
      "execution_count": 0,
      "outputs": []
    },
    {
      "metadata": {
        "id": "DPBpUcJIsDQa",
        "colab_type": "code",
        "colab": {}
      },
      "cell_type": "code",
      "source": [
        "# Functions\n",
        "def clean(text):\n",
        "  x = wpt.tokenize(text.lower())\n",
        "  x = [w for w in x if w not in list(STOPWORDS)+['(',')','-',\"'\",':',',','.','{','}','_']]\n",
        "  x = [map_abbreviation[word] if word in list(map_abbreviation.keys()) else word for word in x]\n",
        "  x = list(set([spell.correction(word) if word not in model.wv.vocab else word for word in x ]))\n",
        "  vect = np.array([np.zeros((200,)) if word not in model.wv.vocab else model.wv[word] for word in x])\n",
        "  return vect"
      ],
      "execution_count": 0,
      "outputs": []
    },
    {
      "metadata": {
        "id": "nxqD-vmbsDs8",
        "colab_type": "code",
        "colab": {
          "base_uri": "https://localhost:8080/",
          "height": 272
        },
        "outputId": "081570cd-9cf8-4f5b-8fcc-c11821281a34"
      },
      "cell_type": "code",
      "source": [
        "\n",
        "DD = clean(search_term)\n",
        "out = dict(list(operator.itemgetter(*list((np.mean(np.dot(CD,DD.T),axis=(1,2))/np.count_nonzero(np.sum(CD, axis=2), axis=1)).argsort()[-15:][::-1]))(ICD_dict)))\n",
        "out"
      ],
      "execution_count": 64,
      "outputs": [
        {
          "output_type": "execute_result",
          "data": {
            "text/plain": [
              "{'H2520': 'Age-related cataract, morgagnian type, unspecified eye',\n",
              " 'H2589': 'Other age-related cataract',\n",
              " 'H259': 'Unspecified age-related cataract',\n",
              " 'H26109': 'Unspecified traumatic cataract, unspecified eye',\n",
              " 'H2620': 'Unspecified complicated cataract',\n",
              " 'H26213': 'Cataract with neovascularization, bilateral',\n",
              " 'H26219': 'Cataract with neovascularization, unspecified eye',\n",
              " 'H2640': 'Unspecified secondary cataract',\n",
              " 'H268': 'Other specified cataract',\n",
              " 'H269': 'Unspecified cataract',\n",
              " 'H59013': 'Keratopathy (bullous aphakic) following cataract surgery, bilateral',\n",
              " 'H59019': 'Keratopathy (bullous aphakic) following cataract surgery, unspecified eye',\n",
              " 'H59039': 'Cystoid macular edema following cataract surgery, unspecified eye',\n",
              " 'M158': 'Other polyosteoarthritis',\n",
              " 'M159': 'Polyosteoarthritis, unspecified'}"
            ]
          },
          "metadata": {
            "tags": []
          },
          "execution_count": 64
        }
      ]
    },
    {
      "metadata": {
        "id": "Dld0hvJyVxfw",
        "colab_type": "code",
        "colab": {}
      },
      "cell_type": "code",
      "source": [
        "\n",
        "search_term = \"cataract\""
      ],
      "execution_count": 0,
      "outputs": []
    },
    {
      "metadata": {
        "id": "Ieem8mn2YLJ3",
        "colab_type": "code",
        "colab": {}
      },
      "cell_type": "code",
      "source": [
        ""
      ],
      "execution_count": 0,
      "outputs": []
    },
    {
      "metadata": {
        "id": "jNc_muk0b1yo",
        "colab_type": "code",
        "colab": {
          "base_uri": "https://localhost:8080/",
          "height": 34
        },
        "outputId": "ca602d28-858c-499e-8d32-89550d9542d2"
      },
      "cell_type": "code",
      "source": [
        "abs(-1)"
      ],
      "execution_count": 58,
      "outputs": [
        {
          "output_type": "execute_result",
          "data": {
            "text/plain": [
              "1"
            ]
          },
          "metadata": {
            "tags": []
          },
          "execution_count": 58
        }
      ]
    }
  ]
}